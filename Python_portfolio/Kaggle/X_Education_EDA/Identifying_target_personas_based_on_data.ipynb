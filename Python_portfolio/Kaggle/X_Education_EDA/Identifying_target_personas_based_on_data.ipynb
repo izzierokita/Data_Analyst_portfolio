{
 "cells": [
  {
   "cell_type": "markdown",
   "id": "d6366986-3f2b-4c05-a957-c049bbcafc99",
   "metadata": {},
   "source": [
    "## *Note from the author:* \n",
    "\n",
    "Hey guys! This is my second Kaggle project where I decided to leverage my knowledge of EDA, ETL, Data Visualization (Tableau), SQL (MySQL), Python (NumPy, Pandas, Jupyter Notebook), and Markdown **to find out more about our X-Education software Persona qualities.** \n",
    "\n",
    "Additionally, I used my domain knowledge, as I worked as a **[Digital Marketing Specialist for over 5 years](https://www.linkedin.com/in/iza-rokita/) in a fast-paced tech industry,** to identify the most important data and change them into valuable business insights.\n",
    "\n",
    "This is part 2 of the series, stay tuned for more! In [part 1](https://www.kaggle.com/code/izzierider/x-education-case1) I've focused on getting myself around **Pandas, NumPy, Jupyter Notebook, and Tableau**, to perform a simple analysis of **how many leads come from which country.** BTW - I would change so much about it right now (why pie chart, instead of geo chart, what was I thinking?!), but I guess this shows my progress so I'm leaving it as a reminder, that everyone has to start somewhere.\n",
    "\n",
    "Feel free to comment and add your feedback - I'm just starting my career as a Business Intelligence / Data Visualization / Data Analyst and would love to receive some feedback!\n",
    "\n",
    "[This is the dataset I used for my analysis.](https://www.kaggle.com/datasets/amritachatterjee09/lead-scoring-dataset)\n",
    "\n",
    "*Enjoy!*"
   ]
  },
  {
   "cell_type": "code",
   "execution_count": 168,
   "id": "4ad6d691-1ccf-495a-b1a4-130150c0a954",
   "metadata": {},
   "outputs": [],
   "source": [
    "#importing the Python libraries I will need for my EDA process\n",
    "import numpy as np\n",
    "import pandas as pd"
   ]
  },
  {
   "cell_type": "markdown",
   "id": "992ade80-d469-4f35-a6c6-b6e9571546c0",
   "metadata": {},
   "source": [
    "# Step 1 - Preparing the dataset for the analysis"
   ]
  },
  {
   "cell_type": "markdown",
   "id": "2f8dac52-3a51-49b5-9fc3-fdfd23e73b12",
   "metadata": {},
   "source": [
    "The goal of this EDA is to **identify the qualities of the personas interested in the X-education software product.** I will look for some patterns, to determine which kinds of people have the highest possibility of converting, and which ones do not. This will be very valuable for designing a Lead Scoring process, which I want to tackle in the nearest future.\n",
    "\n",
    "In the beginning, I'm going to familiarize myself better with the dataset, to formulate additional questions I will try to find answers to based on the data."
   ]
  },
  {
   "cell_type": "markdown",
   "id": "8167dac4-1b31-474d-809b-8cf1309cea9d",
   "metadata": {},
   "source": [
    "Now I should perform basic data exploration, checking the dataset shape, duplicates, nullvalues, datatypes and more. But I already did that [in the previous X-Education project so you can check it here under STEP 1 section.](https://www.kaggle.com/code/izzierider/x-education-case1)\n",
    "\n",
    "I also identified the columns I would like to use for my EDA and created the data frame containing only them. Just a reminder, I've chosen columns as below:\n",
    "\n",
    "**Lead Number** - to identify each lead, *int64*\n",
    "\n",
    "**Lead Origin** - to explore, is there any connection between the lead sign-up location and the conversion rate, *object*\n",
    "\n",
    "**Converted** - very important column, showing, did the lead eventually convert or not, *int64*\n",
    "\n",
    "**Total Visits** - the column import for measuring the online engagement of the lead, *float64*\n",
    "\n",
    "**Total Time Spent** - the column important for measuring the online engagement of the lead, *int64*\n",
    "\n",
    "**Page Views Per Visit** - the column important for measuring the online engagement of the lead, *float64*\n",
    "\n",
    "**Country** - important for persona analysis, *object*\n",
    "\n",
    "**Specialization** - important for persona analysis, *object*\n",
    "\n",
    "**Occupation** - important for persona analysis, *object*\n",
    "\n",
    "**Lead Quality** - important for determining the quality of the contact, *object*\n"
   ]
  },
  {
   "cell_type": "code",
   "execution_count": 169,
   "id": "84dc8830-de83-4b6f-b2c7-ae31708ca1e8",
   "metadata": {},
   "outputs": [],
   "source": [
    "#importing the dataset csv file as a pandas dataframe\n",
    "df = pd.read_csv('CASE2_df.csv') "
   ]
  },
  {
   "cell_type": "code",
   "execution_count": 170,
   "id": "7eac236f-d627-4ad8-b643-3309eb6255a8",
   "metadata": {},
   "outputs": [
    {
     "data": {
      "text/html": [
       "<div>\n",
       "<style scoped>\n",
       "    .dataframe tbody tr th:only-of-type {\n",
       "        vertical-align: middle;\n",
       "    }\n",
       "\n",
       "    .dataframe tbody tr th {\n",
       "        vertical-align: top;\n",
       "    }\n",
       "\n",
       "    .dataframe thead th {\n",
       "        text-align: right;\n",
       "    }\n",
       "</style>\n",
       "<table border=\"1\" class=\"dataframe\">\n",
       "  <thead>\n",
       "    <tr style=\"text-align: right;\">\n",
       "      <th></th>\n",
       "      <th>Lead Number</th>\n",
       "      <th>Lead Origin</th>\n",
       "      <th>Converted</th>\n",
       "      <th>TotalVisits</th>\n",
       "      <th>Total Time Spent on Website</th>\n",
       "      <th>Page Views Per Visit</th>\n",
       "      <th>Country</th>\n",
       "      <th>Specialization</th>\n",
       "      <th>What is your current occupation</th>\n",
       "      <th>Lead Quality</th>\n",
       "    </tr>\n",
       "  </thead>\n",
       "  <tbody>\n",
       "    <tr>\n",
       "      <th>0</th>\n",
       "      <td>660737</td>\n",
       "      <td>API</td>\n",
       "      <td>0</td>\n",
       "      <td>0.0</td>\n",
       "      <td>0</td>\n",
       "      <td>0.0</td>\n",
       "      <td>NaN</td>\n",
       "      <td>Select</td>\n",
       "      <td>Unemployed</td>\n",
       "      <td>Low in Relevance</td>\n",
       "    </tr>\n",
       "    <tr>\n",
       "      <th>1</th>\n",
       "      <td>660728</td>\n",
       "      <td>API</td>\n",
       "      <td>0</td>\n",
       "      <td>5.0</td>\n",
       "      <td>674</td>\n",
       "      <td>2.5</td>\n",
       "      <td>India</td>\n",
       "      <td>Select</td>\n",
       "      <td>Unemployed</td>\n",
       "      <td>NaN</td>\n",
       "    </tr>\n",
       "    <tr>\n",
       "      <th>2</th>\n",
       "      <td>660727</td>\n",
       "      <td>Landing Page Submission</td>\n",
       "      <td>1</td>\n",
       "      <td>2.0</td>\n",
       "      <td>1532</td>\n",
       "      <td>2.0</td>\n",
       "      <td>India</td>\n",
       "      <td>Business Administration</td>\n",
       "      <td>Student</td>\n",
       "      <td>Might be</td>\n",
       "    </tr>\n",
       "    <tr>\n",
       "      <th>3</th>\n",
       "      <td>660719</td>\n",
       "      <td>Landing Page Submission</td>\n",
       "      <td>0</td>\n",
       "      <td>1.0</td>\n",
       "      <td>305</td>\n",
       "      <td>1.0</td>\n",
       "      <td>India</td>\n",
       "      <td>Media and Advertising</td>\n",
       "      <td>Unemployed</td>\n",
       "      <td>Not Sure</td>\n",
       "    </tr>\n",
       "    <tr>\n",
       "      <th>4</th>\n",
       "      <td>660681</td>\n",
       "      <td>Landing Page Submission</td>\n",
       "      <td>1</td>\n",
       "      <td>2.0</td>\n",
       "      <td>1428</td>\n",
       "      <td>1.0</td>\n",
       "      <td>India</td>\n",
       "      <td>Select</td>\n",
       "      <td>Unemployed</td>\n",
       "      <td>Might be</td>\n",
       "    </tr>\n",
       "    <tr>\n",
       "      <th>5</th>\n",
       "      <td>660680</td>\n",
       "      <td>API</td>\n",
       "      <td>0</td>\n",
       "      <td>0.0</td>\n",
       "      <td>0</td>\n",
       "      <td>0.0</td>\n",
       "      <td>NaN</td>\n",
       "      <td>NaN</td>\n",
       "      <td>NaN</td>\n",
       "      <td>NaN</td>\n",
       "    </tr>\n",
       "    <tr>\n",
       "      <th>6</th>\n",
       "      <td>660673</td>\n",
       "      <td>Landing Page Submission</td>\n",
       "      <td>1</td>\n",
       "      <td>2.0</td>\n",
       "      <td>1640</td>\n",
       "      <td>2.0</td>\n",
       "      <td>India</td>\n",
       "      <td>Supply Chain Management</td>\n",
       "      <td>Unemployed</td>\n",
       "      <td>Low in Relevance</td>\n",
       "    </tr>\n",
       "    <tr>\n",
       "      <th>7</th>\n",
       "      <td>660664</td>\n",
       "      <td>API</td>\n",
       "      <td>0</td>\n",
       "      <td>0.0</td>\n",
       "      <td>0</td>\n",
       "      <td>0.0</td>\n",
       "      <td>NaN</td>\n",
       "      <td>NaN</td>\n",
       "      <td>NaN</td>\n",
       "      <td>NaN</td>\n",
       "    </tr>\n",
       "    <tr>\n",
       "      <th>8</th>\n",
       "      <td>660624</td>\n",
       "      <td>Landing Page Submission</td>\n",
       "      <td>0</td>\n",
       "      <td>2.0</td>\n",
       "      <td>71</td>\n",
       "      <td>2.0</td>\n",
       "      <td>India</td>\n",
       "      <td>IT Projects Management</td>\n",
       "      <td>NaN</td>\n",
       "      <td>NaN</td>\n",
       "    </tr>\n",
       "    <tr>\n",
       "      <th>9</th>\n",
       "      <td>660616</td>\n",
       "      <td>API</td>\n",
       "      <td>0</td>\n",
       "      <td>4.0</td>\n",
       "      <td>58</td>\n",
       "      <td>4.0</td>\n",
       "      <td>India</td>\n",
       "      <td>Finance Management</td>\n",
       "      <td>NaN</td>\n",
       "      <td>NaN</td>\n",
       "    </tr>\n",
       "  </tbody>\n",
       "</table>\n",
       "</div>"
      ],
      "text/plain": [
       "   Lead Number              Lead Origin  Converted  TotalVisits   \n",
       "0       660737                      API          0          0.0  \\\n",
       "1       660728                      API          0          5.0   \n",
       "2       660727  Landing Page Submission          1          2.0   \n",
       "3       660719  Landing Page Submission          0          1.0   \n",
       "4       660681  Landing Page Submission          1          2.0   \n",
       "5       660680                      API          0          0.0   \n",
       "6       660673  Landing Page Submission          1          2.0   \n",
       "7       660664                      API          0          0.0   \n",
       "8       660624  Landing Page Submission          0          2.0   \n",
       "9       660616                      API          0          4.0   \n",
       "\n",
       "   Total Time Spent on Website  Page Views Per Visit Country   \n",
       "0                            0                   0.0     NaN  \\\n",
       "1                          674                   2.5   India   \n",
       "2                         1532                   2.0   India   \n",
       "3                          305                   1.0   India   \n",
       "4                         1428                   1.0   India   \n",
       "5                            0                   0.0     NaN   \n",
       "6                         1640                   2.0   India   \n",
       "7                            0                   0.0     NaN   \n",
       "8                           71                   2.0   India   \n",
       "9                           58                   4.0   India   \n",
       "\n",
       "            Specialization What is your current occupation      Lead Quality  \n",
       "0                   Select                      Unemployed  Low in Relevance  \n",
       "1                   Select                      Unemployed               NaN  \n",
       "2  Business Administration                         Student          Might be  \n",
       "3    Media and Advertising                      Unemployed          Not Sure  \n",
       "4                   Select                      Unemployed          Might be  \n",
       "5                      NaN                             NaN               NaN  \n",
       "6  Supply Chain Management                      Unemployed  Low in Relevance  \n",
       "7                      NaN                             NaN               NaN  \n",
       "8   IT Projects Management                             NaN               NaN  \n",
       "9       Finance Management                             NaN               NaN  "
      ]
     },
     "execution_count": 170,
     "metadata": {},
     "output_type": "execute_result"
    }
   ],
   "source": [
    "# checking how the first 10 rows look like\n",
    "df.head(10)"
   ]
  },
  {
   "cell_type": "code",
   "execution_count": 171,
   "id": "14763dd0-fc77-41e7-9c93-3cce4a69f527",
   "metadata": {},
   "outputs": [
    {
     "data": {
      "text/plain": [
       "(9240, 10)"
      ]
     },
     "execution_count": 171,
     "metadata": {},
     "output_type": "execute_result"
    }
   ],
   "source": [
    "# checking the dataframe size - 9240 rows and 10 columns\n",
    "df.shape"
   ]
  },
  {
   "cell_type": "code",
   "execution_count": 172,
   "id": "5ee7f724-ceac-4834-bc07-ee8c911e7f65",
   "metadata": {},
   "outputs": [
    {
     "data": {
      "text/plain": [
       "0       False\n",
       "1       False\n",
       "2       False\n",
       "3       False\n",
       "4       False\n",
       "        ...  \n",
       "9235    False\n",
       "9236    False\n",
       "9237    False\n",
       "9238    False\n",
       "9239    False\n",
       "Length: 9240, dtype: bool"
      ]
     },
     "execution_count": 172,
     "metadata": {},
     "output_type": "execute_result"
    }
   ],
   "source": [
    "df.duplicated()"
   ]
  },
  {
   "cell_type": "code",
   "execution_count": 173,
   "id": "1803a058-1ddc-481e-be13-7f6b553dc617",
   "metadata": {},
   "outputs": [
    {
     "data": {
      "text/plain": [
       "Lead Number                          int64\n",
       "Lead Origin                         object\n",
       "Converted                            int64\n",
       "TotalVisits                        float64\n",
       "Total Time Spent on Website          int64\n",
       "Page Views Per Visit               float64\n",
       "Country                             object\n",
       "Specialization                      object\n",
       "What is your current occupation     object\n",
       "Lead Quality                        object\n",
       "dtype: object"
      ]
     },
     "execution_count": 173,
     "metadata": {},
     "output_type": "execute_result"
    }
   ],
   "source": [
    "# identifying datatypes\n",
    "df.dtypes"
   ]
  },
  {
   "cell_type": "code",
   "execution_count": 174,
   "id": "792e608d-7678-4c7b-8f3d-bff44d371a53",
   "metadata": {},
   "outputs": [
    {
     "name": "stdout",
     "output_type": "stream",
     "text": [
      "<class 'pandas.core.frame.DataFrame'>\n",
      "RangeIndex: 9240 entries, 0 to 9239\n",
      "Data columns (total 10 columns):\n",
      " #   Column                           Non-Null Count  Dtype  \n",
      "---  ------                           --------------  -----  \n",
      " 0   Lead Number                      9240 non-null   int64  \n",
      " 1   Lead Origin                      9240 non-null   object \n",
      " 2   Converted                        9240 non-null   int64  \n",
      " 3   TotalVisits                      9103 non-null   float64\n",
      " 4   Total Time Spent on Website      9240 non-null   int64  \n",
      " 5   Page Views Per Visit             9103 non-null   float64\n",
      " 6   Country                          6779 non-null   object \n",
      " 7   Specialization                   7802 non-null   object \n",
      " 8   What is your current occupation  6550 non-null   object \n",
      " 9   Lead Quality                     4473 non-null   object \n",
      "dtypes: float64(2), int64(3), object(5)\n",
      "memory usage: 722.0+ KB\n"
     ]
    }
   ],
   "source": [
    "# checking for null values\n",
    "df.info() "
   ]
  },
  {
   "cell_type": "markdown",
   "id": "7d1f0aa0-544c-4c34-a9f8-1a5b169b3005",
   "metadata": {},
   "source": [
    "We can see, that there are some values missing in columns:\n",
    "*     TotalVisits \n",
    "*     Page Views Per Visit\n",
    "*     Country\n",
    "*     Specialization\n",
    "*     What is your current occupation\n",
    "*     Lead Quality\n",
    "\n",
    "For this specific EDA it is worth to notice, how many nulls are in columns covering:\n",
    "\n",
    "    Specialization (1438 missing values)\n",
    "    \n",
    "    Current occupation (2690 missing values)\n",
    "    \n",
    "    Lead Quality (4767 missing values)"
   ]
  },
  {
   "cell_type": "markdown",
   "id": "ea883c42-e5e2-4a55-8338-9580499f3177",
   "metadata": {},
   "source": [
    "Now it's the time to select specific columns from the dataframe that I will need to get some valuable business insights."
   ]
  },
  {
   "cell_type": "code",
   "execution_count": 175,
   "id": "85df22d8-3a0d-4fc2-ad39-00411805450a",
   "metadata": {},
   "outputs": [
    {
     "data": {
      "text/plain": [
       "array(['Select', 'Business Administration', 'Media and Advertising', nan,\n",
       "       'Supply Chain Management', 'IT Projects Management',\n",
       "       'Finance Management', 'Travel and Tourism',\n",
       "       'Human Resource Management', 'Marketing Management',\n",
       "       'Banking, Investment And Insurance', 'International Business',\n",
       "       'E-COMMERCE', 'Operations Management', 'Retail Management',\n",
       "       'Services Excellence', 'Hospitality Management',\n",
       "       'Rural and Agribusiness', 'Healthcare Management', 'E-Business'],\n",
       "      dtype=object)"
      ]
     },
     "execution_count": 175,
     "metadata": {},
     "output_type": "execute_result"
    }
   ],
   "source": [
    "# checking for unique values for the Specialization columns\n",
    "df['Specialization'].unique()"
   ]
  },
  {
   "cell_type": "code",
   "execution_count": 176,
   "id": "f3709a48-a744-4a51-96c7-833731b7c943",
   "metadata": {},
   "outputs": [
    {
     "data": {
      "text/plain": [
       "array(['Unemployed', 'Student', nan, 'Working Professional',\n",
       "       'Businessman', 'Other', 'Housewife'], dtype=object)"
      ]
     },
     "execution_count": 176,
     "metadata": {},
     "output_type": "execute_result"
    }
   ],
   "source": [
    "# checking for unique values for the What is your current occupation columns\n",
    "df['What is your current occupation'].unique()"
   ]
  },
  {
   "cell_type": "code",
   "execution_count": 177,
   "id": "145bd803-d782-43c1-b2d6-485b986483b3",
   "metadata": {
    "tags": []
   },
   "outputs": [
    {
     "data": {
      "text/plain": [
       "array(['Low in Relevance', nan, 'Might be', 'Not Sure', 'Worst',\n",
       "       'High in Relevance'], dtype=object)"
      ]
     },
     "execution_count": 177,
     "metadata": {},
     "output_type": "execute_result"
    }
   ],
   "source": [
    "# checking for unique values for the Lead Quality columns\n",
    "df['Lead Quality'].unique()"
   ]
  },
  {
   "cell_type": "markdown",
   "id": "43ec8f0e-ad00-455c-8fdc-c9d112eb2247",
   "metadata": {},
   "source": [
    "# Step 2 - Creating a new dataframe with required columns\n",
    "\n",
    "**Lead number** - serving as an ID key, *float64 dtype*\n",
    "    \n",
    "**Specialization** - serving to identify the lead quality compared to persona industry, *object dtype*\n",
    "    \n",
    "**What is your current occupation** - important to identify the lead quality compared to persona occupation,  *object dtype*\n",
    "    \n",
    "**Lead Quality** - based on the data set dictionary, the indicator on how possible it is for lead to converted based on data and the intuition of a person assigned to a lead *object dtype* \n",
    "    \n",
    "**Converted** - important to verify, if the lead quality segmentation is accurate *int 64 dtype*"
   ]
  },
  {
   "cell_type": "code",
   "execution_count": 178,
   "id": "5d70a4bd-cd61-449a-ac4e-abb854835da3",
   "metadata": {},
   "outputs": [],
   "source": [
    "# creating a custom dataframe with chosen columns\n",
    "chosen_columns = ['Lead Number', 'Specialization', 'What is your current occupation', 'Lead Quality', 'Converted']\n",
    "leads_quality_df = df[chosen_columns]"
   ]
  },
  {
   "cell_type": "code",
   "execution_count": 179,
   "id": "78d51ce4-e3e4-427a-99c1-627614a1067c",
   "metadata": {},
   "outputs": [
    {
     "data": {
      "text/html": [
       "<div>\n",
       "<style scoped>\n",
       "    .dataframe tbody tr th:only-of-type {\n",
       "        vertical-align: middle;\n",
       "    }\n",
       "\n",
       "    .dataframe tbody tr th {\n",
       "        vertical-align: top;\n",
       "    }\n",
       "\n",
       "    .dataframe thead th {\n",
       "        text-align: right;\n",
       "    }\n",
       "</style>\n",
       "<table border=\"1\" class=\"dataframe\">\n",
       "  <thead>\n",
       "    <tr style=\"text-align: right;\">\n",
       "      <th></th>\n",
       "      <th>Lead Number</th>\n",
       "      <th>Specialization</th>\n",
       "      <th>What is your current occupation</th>\n",
       "      <th>Lead Quality</th>\n",
       "      <th>Converted</th>\n",
       "    </tr>\n",
       "  </thead>\n",
       "  <tbody>\n",
       "    <tr>\n",
       "      <th>0</th>\n",
       "      <td>660737</td>\n",
       "      <td>Select</td>\n",
       "      <td>Unemployed</td>\n",
       "      <td>Low in Relevance</td>\n",
       "      <td>0</td>\n",
       "    </tr>\n",
       "    <tr>\n",
       "      <th>1</th>\n",
       "      <td>660728</td>\n",
       "      <td>Select</td>\n",
       "      <td>Unemployed</td>\n",
       "      <td>NaN</td>\n",
       "      <td>0</td>\n",
       "    </tr>\n",
       "    <tr>\n",
       "      <th>2</th>\n",
       "      <td>660727</td>\n",
       "      <td>Business Administration</td>\n",
       "      <td>Student</td>\n",
       "      <td>Might be</td>\n",
       "      <td>1</td>\n",
       "    </tr>\n",
       "    <tr>\n",
       "      <th>3</th>\n",
       "      <td>660719</td>\n",
       "      <td>Media and Advertising</td>\n",
       "      <td>Unemployed</td>\n",
       "      <td>Not Sure</td>\n",
       "      <td>0</td>\n",
       "    </tr>\n",
       "    <tr>\n",
       "      <th>4</th>\n",
       "      <td>660681</td>\n",
       "      <td>Select</td>\n",
       "      <td>Unemployed</td>\n",
       "      <td>Might be</td>\n",
       "      <td>1</td>\n",
       "    </tr>\n",
       "    <tr>\n",
       "      <th>5</th>\n",
       "      <td>660680</td>\n",
       "      <td>NaN</td>\n",
       "      <td>NaN</td>\n",
       "      <td>NaN</td>\n",
       "      <td>0</td>\n",
       "    </tr>\n",
       "    <tr>\n",
       "      <th>6</th>\n",
       "      <td>660673</td>\n",
       "      <td>Supply Chain Management</td>\n",
       "      <td>Unemployed</td>\n",
       "      <td>Low in Relevance</td>\n",
       "      <td>1</td>\n",
       "    </tr>\n",
       "    <tr>\n",
       "      <th>7</th>\n",
       "      <td>660664</td>\n",
       "      <td>NaN</td>\n",
       "      <td>NaN</td>\n",
       "      <td>NaN</td>\n",
       "      <td>0</td>\n",
       "    </tr>\n",
       "    <tr>\n",
       "      <th>8</th>\n",
       "      <td>660624</td>\n",
       "      <td>IT Projects Management</td>\n",
       "      <td>NaN</td>\n",
       "      <td>NaN</td>\n",
       "      <td>0</td>\n",
       "    </tr>\n",
       "    <tr>\n",
       "      <th>9</th>\n",
       "      <td>660616</td>\n",
       "      <td>Finance Management</td>\n",
       "      <td>NaN</td>\n",
       "      <td>NaN</td>\n",
       "      <td>0</td>\n",
       "    </tr>\n",
       "  </tbody>\n",
       "</table>\n",
       "</div>"
      ],
      "text/plain": [
       "   Lead Number           Specialization What is your current occupation   \n",
       "0       660737                   Select                      Unemployed  \\\n",
       "1       660728                   Select                      Unemployed   \n",
       "2       660727  Business Administration                         Student   \n",
       "3       660719    Media and Advertising                      Unemployed   \n",
       "4       660681                   Select                      Unemployed   \n",
       "5       660680                      NaN                             NaN   \n",
       "6       660673  Supply Chain Management                      Unemployed   \n",
       "7       660664                      NaN                             NaN   \n",
       "8       660624   IT Projects Management                             NaN   \n",
       "9       660616       Finance Management                             NaN   \n",
       "\n",
       "       Lead Quality  Converted  \n",
       "0  Low in Relevance          0  \n",
       "1               NaN          0  \n",
       "2          Might be          1  \n",
       "3          Not Sure          0  \n",
       "4          Might be          1  \n",
       "5               NaN          0  \n",
       "6  Low in Relevance          1  \n",
       "7               NaN          0  \n",
       "8               NaN          0  \n",
       "9               NaN          0  "
      ]
     },
     "execution_count": 179,
     "metadata": {},
     "output_type": "execute_result"
    }
   ],
   "source": [
    "# verifying if it worked\n",
    "leads_quality_df.head(10)"
   ]
  },
  {
   "cell_type": "code",
   "execution_count": 180,
   "id": "fcb96c99-dedf-4d81-a65f-2df3f59b5388",
   "metadata": {},
   "outputs": [
    {
     "data": {
      "text/plain": [
       "(9240, 5)"
      ]
     },
     "execution_count": 180,
     "metadata": {},
     "output_type": "execute_result"
    }
   ],
   "source": [
    "leads_quality_df.shape"
   ]
  },
  {
   "cell_type": "markdown",
   "id": "39ff9b4a-bdf9-4149-b792-83159e7fb251",
   "metadata": {},
   "source": [
    "Just for curiosity, I will drop now all rows with null values to see, how much data I will loose."
   ]
  },
  {
   "cell_type": "code",
   "execution_count": 181,
   "id": "719a1907-eaaa-44ca-abdf-177040101dda",
   "metadata": {},
   "outputs": [
    {
     "data": {
      "text/html": [
       "<div>\n",
       "<style scoped>\n",
       "    .dataframe tbody tr th:only-of-type {\n",
       "        vertical-align: middle;\n",
       "    }\n",
       "\n",
       "    .dataframe tbody tr th {\n",
       "        vertical-align: top;\n",
       "    }\n",
       "\n",
       "    .dataframe thead th {\n",
       "        text-align: right;\n",
       "    }\n",
       "</style>\n",
       "<table border=\"1\" class=\"dataframe\">\n",
       "  <thead>\n",
       "    <tr style=\"text-align: right;\">\n",
       "      <th></th>\n",
       "      <th>Lead Number</th>\n",
       "      <th>Specialization</th>\n",
       "      <th>What is your current occupation</th>\n",
       "      <th>Lead Quality</th>\n",
       "      <th>Converted</th>\n",
       "    </tr>\n",
       "  </thead>\n",
       "  <tbody>\n",
       "    <tr>\n",
       "      <th>0</th>\n",
       "      <td>660737</td>\n",
       "      <td>Select</td>\n",
       "      <td>Unemployed</td>\n",
       "      <td>Low in Relevance</td>\n",
       "      <td>0</td>\n",
       "    </tr>\n",
       "    <tr>\n",
       "      <th>2</th>\n",
       "      <td>660727</td>\n",
       "      <td>Business Administration</td>\n",
       "      <td>Student</td>\n",
       "      <td>Might be</td>\n",
       "      <td>1</td>\n",
       "    </tr>\n",
       "    <tr>\n",
       "      <th>3</th>\n",
       "      <td>660719</td>\n",
       "      <td>Media and Advertising</td>\n",
       "      <td>Unemployed</td>\n",
       "      <td>Not Sure</td>\n",
       "      <td>0</td>\n",
       "    </tr>\n",
       "    <tr>\n",
       "      <th>4</th>\n",
       "      <td>660681</td>\n",
       "      <td>Select</td>\n",
       "      <td>Unemployed</td>\n",
       "      <td>Might be</td>\n",
       "      <td>1</td>\n",
       "    </tr>\n",
       "    <tr>\n",
       "      <th>6</th>\n",
       "      <td>660673</td>\n",
       "      <td>Supply Chain Management</td>\n",
       "      <td>Unemployed</td>\n",
       "      <td>Low in Relevance</td>\n",
       "      <td>1</td>\n",
       "    </tr>\n",
       "    <tr>\n",
       "      <th>...</th>\n",
       "      <td>...</td>\n",
       "      <td>...</td>\n",
       "      <td>...</td>\n",
       "      <td>...</td>\n",
       "      <td>...</td>\n",
       "    </tr>\n",
       "    <tr>\n",
       "      <th>9234</th>\n",
       "      <td>579615</td>\n",
       "      <td>Business Administration</td>\n",
       "      <td>Unemployed</td>\n",
       "      <td>Might be</td>\n",
       "      <td>1</td>\n",
       "    </tr>\n",
       "    <tr>\n",
       "      <th>9235</th>\n",
       "      <td>579564</td>\n",
       "      <td>IT Projects Management</td>\n",
       "      <td>Unemployed</td>\n",
       "      <td>High in Relevance</td>\n",
       "      <td>1</td>\n",
       "    </tr>\n",
       "    <tr>\n",
       "      <th>9236</th>\n",
       "      <td>579546</td>\n",
       "      <td>Media and Advertising</td>\n",
       "      <td>Unemployed</td>\n",
       "      <td>Might be</td>\n",
       "      <td>0</td>\n",
       "    </tr>\n",
       "    <tr>\n",
       "      <th>9237</th>\n",
       "      <td>579545</td>\n",
       "      <td>Business Administration</td>\n",
       "      <td>Unemployed</td>\n",
       "      <td>Not Sure</td>\n",
       "      <td>0</td>\n",
       "    </tr>\n",
       "    <tr>\n",
       "      <th>9239</th>\n",
       "      <td>579533</td>\n",
       "      <td>Supply Chain Management</td>\n",
       "      <td>Unemployed</td>\n",
       "      <td>Might be</td>\n",
       "      <td>1</td>\n",
       "    </tr>\n",
       "  </tbody>\n",
       "</table>\n",
       "<p>4473 rows × 5 columns</p>\n",
       "</div>"
      ],
      "text/plain": [
       "      Lead Number           Specialization What is your current occupation   \n",
       "0          660737                   Select                      Unemployed  \\\n",
       "2          660727  Business Administration                         Student   \n",
       "3          660719    Media and Advertising                      Unemployed   \n",
       "4          660681                   Select                      Unemployed   \n",
       "6          660673  Supply Chain Management                      Unemployed   \n",
       "...           ...                      ...                             ...   \n",
       "9234       579615  Business Administration                      Unemployed   \n",
       "9235       579564   IT Projects Management                      Unemployed   \n",
       "9236       579546    Media and Advertising                      Unemployed   \n",
       "9237       579545  Business Administration                      Unemployed   \n",
       "9239       579533  Supply Chain Management                      Unemployed   \n",
       "\n",
       "           Lead Quality  Converted  \n",
       "0      Low in Relevance          0  \n",
       "2              Might be          1  \n",
       "3              Not Sure          0  \n",
       "4              Might be          1  \n",
       "6      Low in Relevance          1  \n",
       "...                 ...        ...  \n",
       "9234           Might be          1  \n",
       "9235  High in Relevance          1  \n",
       "9236           Might be          0  \n",
       "9237           Not Sure          0  \n",
       "9239           Might be          1  \n",
       "\n",
       "[4473 rows x 5 columns]"
      ]
     },
     "execution_count": 181,
     "metadata": {},
     "output_type": "execute_result"
    }
   ],
   "source": [
    "leads_quality_df.dropna()"
   ]
  },
  {
   "cell_type": "markdown",
   "id": "66bc2c14-f5c0-4fb3-8714-a15e0541f35a",
   "metadata": {},
   "source": [
    "As I see, I've lost more than half of my data which is a lot. \n",
    "In this case I will replace some NaNs with custom data to make my analysis more relevant. I've learnt that from the  [\"Prepare Data for Exploration\"](https://www.coursera.org/account/accomplishments/certificate/DKVD54E3DANT) course I finished, provided by Google."
   ]
  },
  {
   "cell_type": "code",
   "execution_count": 182,
   "id": "67534a3b-d3f5-405e-b6cb-f15ec239ce71",
   "metadata": {},
   "outputs": [
    {
     "data": {
      "text/plain": [
       "array(['Select', 'Business Administration', 'Media and Advertising', nan,\n",
       "       'Supply Chain Management', 'IT Projects Management',\n",
       "       'Finance Management', 'Travel and Tourism',\n",
       "       'Human Resource Management', 'Marketing Management',\n",
       "       'Banking, Investment And Insurance', 'International Business',\n",
       "       'E-COMMERCE', 'Operations Management', 'Retail Management',\n",
       "       'Services Excellence', 'Hospitality Management',\n",
       "       'Rural and Agribusiness', 'Healthcare Management', 'E-Business'],\n",
       "      dtype=object)"
      ]
     },
     "execution_count": 182,
     "metadata": {},
     "output_type": "execute_result"
    }
   ],
   "source": [
    "# Now I will check each column for NaN values, and replace them with str value \"missing data\"\n",
    "leads_quality_df['Specialization'].unique()"
   ]
  },
  {
   "cell_type": "code",
   "execution_count": 183,
   "id": "b3d53779-f98b-4532-9da7-86793b9f15c1",
   "metadata": {},
   "outputs": [
    {
     "name": "stdout",
     "output_type": "stream",
     "text": [
      "1438\n"
     ]
    }
   ],
   "source": [
    "# We will count nulls for the Specialization column\n",
    "specialization_nulls = leads_quality_df['Specialization'].isnull().sum()\n",
    "print(specialization_nulls)"
   ]
  },
  {
   "cell_type": "markdown",
   "id": "123aab1c-66d5-4773-ad45-17df7dd08536",
   "metadata": {},
   "source": [
    "That is a lot of null values! One of the possible reasons why it happened, is that there is no category \"Other\" for leads from other industries. Also there is a category 'Select\" which doesn't tell us anything. So we can savely replace the value in this column, where the selected Specialization is \"Select\" and nan values with custom value \"Specialization unknown\" (str dtype)."
   ]
  },
  {
   "cell_type": "code",
   "execution_count": 184,
   "id": "ce31d0bf-8a5d-4531-b932-f0e44ab253cf",
   "metadata": {},
   "outputs": [
    {
     "name": "stdout",
     "output_type": "stream",
     "text": [
      "      Lead Number             Specialization What is your current occupation   \n",
      "0          660737     Specialization unknown                      Unemployed  \\\n",
      "1          660728     Specialization unknown                      Unemployed   \n",
      "2          660727    Business Administration                         Student   \n",
      "3          660719      Media and Advertising                      Unemployed   \n",
      "4          660681     Specialization unknown                      Unemployed   \n",
      "...           ...                        ...                             ...   \n",
      "9235       579564     IT Projects Management                      Unemployed   \n",
      "9236       579546      Media and Advertising                      Unemployed   \n",
      "9237       579545    Business Administration                      Unemployed   \n",
      "9238       579538  Human Resource Management                             NaN   \n",
      "9239       579533    Supply Chain Management                      Unemployed   \n",
      "\n",
      "           Lead Quality  Converted  \n",
      "0      Low in Relevance          0  \n",
      "1                   NaN          0  \n",
      "2              Might be          1  \n",
      "3              Not Sure          0  \n",
      "4              Might be          1  \n",
      "...                 ...        ...  \n",
      "9235  High in Relevance          1  \n",
      "9236           Might be          0  \n",
      "9237           Not Sure          0  \n",
      "9238                NaN          1  \n",
      "9239           Might be          1  \n",
      "\n",
      "[9240 rows x 5 columns]\n"
     ]
    },
    {
     "name": "stderr",
     "output_type": "stream",
     "text": [
      "/var/folders/46/b24dskq57mzgcckg0dsrr6jr0000gp/T/ipykernel_94449/3534687059.py:5: SettingWithCopyWarning: \n",
      "A value is trying to be set on a copy of a slice from a DataFrame.\n",
      "Try using .loc[row_indexer,col_indexer] = value instead\n",
      "\n",
      "See the caveats in the documentation: https://pandas.pydata.org/pandas-docs/stable/user_guide/indexing.html#returning-a-view-versus-a-copy\n",
      "  leads_quality_df[column] = leads_quality_df[column].replace(old_value, new_value)\n",
      "/var/folders/46/b24dskq57mzgcckg0dsrr6jr0000gp/T/ipykernel_94449/3534687059.py:6: SettingWithCopyWarning: \n",
      "A value is trying to be set on a copy of a slice from a DataFrame.\n",
      "Try using .loc[row_indexer,col_indexer] = value instead\n",
      "\n",
      "See the caveats in the documentation: https://pandas.pydata.org/pandas-docs/stable/user_guide/indexing.html#returning-a-view-versus-a-copy\n",
      "  leads_quality_df[column] = leads_quality_df[column].fillna(new_value)\n"
     ]
    }
   ],
   "source": [
    "column = 'Specialization' \n",
    "old_value = 'Select'  \n",
    "new_value = 'Specialization unknown' \n",
    "\n",
    "leads_quality_df[column] = leads_quality_df[column].replace(old_value, new_value)\n",
    "leads_quality_df[column] = leads_quality_df[column].fillna(new_value)\n",
    "\n",
    "leads_quality_df_new = leads_quality_df\n",
    "\n",
    "print(leads_quality_df_new)"
   ]
  },
  {
   "cell_type": "code",
   "execution_count": 185,
   "id": "bd73b7d1-9ea6-48ef-8cbc-92b9eddc3731",
   "metadata": {},
   "outputs": [
    {
     "name": "stdout",
     "output_type": "stream",
     "text": [
      "0\n"
     ]
    }
   ],
   "source": [
    "# now it's time to check number of nulls after our Data Cleaning\n",
    "specialization_nulls = leads_quality_df_new['Specialization'].isnull().sum()\n",
    "print(specialization_nulls)"
   ]
  },
  {
   "cell_type": "markdown",
   "id": "2a87231b-10de-40b4-9808-adc4026d7c85",
   "metadata": {},
   "source": [
    "As a result, we got rid of nan values inside the specialization column, now let's see how it influenced the general data frame missing values count."
   ]
  },
  {
   "cell_type": "code",
   "execution_count": 186,
   "id": "b92f0cbb-d118-4e27-b7d9-b9ee870dfc43",
   "metadata": {},
   "outputs": [
    {
     "data": {
      "text/html": [
       "<div>\n",
       "<style scoped>\n",
       "    .dataframe tbody tr th:only-of-type {\n",
       "        vertical-align: middle;\n",
       "    }\n",
       "\n",
       "    .dataframe tbody tr th {\n",
       "        vertical-align: top;\n",
       "    }\n",
       "\n",
       "    .dataframe thead th {\n",
       "        text-align: right;\n",
       "    }\n",
       "</style>\n",
       "<table border=\"1\" class=\"dataframe\">\n",
       "  <thead>\n",
       "    <tr style=\"text-align: right;\">\n",
       "      <th></th>\n",
       "      <th>Lead Number</th>\n",
       "      <th>Specialization</th>\n",
       "      <th>What is your current occupation</th>\n",
       "      <th>Lead Quality</th>\n",
       "      <th>Converted</th>\n",
       "    </tr>\n",
       "  </thead>\n",
       "  <tbody>\n",
       "    <tr>\n",
       "      <th>0</th>\n",
       "      <td>660737</td>\n",
       "      <td>Specialization unknown</td>\n",
       "      <td>Unemployed</td>\n",
       "      <td>Low in Relevance</td>\n",
       "      <td>0</td>\n",
       "    </tr>\n",
       "    <tr>\n",
       "      <th>2</th>\n",
       "      <td>660727</td>\n",
       "      <td>Business Administration</td>\n",
       "      <td>Student</td>\n",
       "      <td>Might be</td>\n",
       "      <td>1</td>\n",
       "    </tr>\n",
       "    <tr>\n",
       "      <th>3</th>\n",
       "      <td>660719</td>\n",
       "      <td>Media and Advertising</td>\n",
       "      <td>Unemployed</td>\n",
       "      <td>Not Sure</td>\n",
       "      <td>0</td>\n",
       "    </tr>\n",
       "    <tr>\n",
       "      <th>4</th>\n",
       "      <td>660681</td>\n",
       "      <td>Specialization unknown</td>\n",
       "      <td>Unemployed</td>\n",
       "      <td>Might be</td>\n",
       "      <td>1</td>\n",
       "    </tr>\n",
       "    <tr>\n",
       "      <th>6</th>\n",
       "      <td>660673</td>\n",
       "      <td>Supply Chain Management</td>\n",
       "      <td>Unemployed</td>\n",
       "      <td>Low in Relevance</td>\n",
       "      <td>1</td>\n",
       "    </tr>\n",
       "    <tr>\n",
       "      <th>...</th>\n",
       "      <td>...</td>\n",
       "      <td>...</td>\n",
       "      <td>...</td>\n",
       "      <td>...</td>\n",
       "      <td>...</td>\n",
       "    </tr>\n",
       "    <tr>\n",
       "      <th>9234</th>\n",
       "      <td>579615</td>\n",
       "      <td>Business Administration</td>\n",
       "      <td>Unemployed</td>\n",
       "      <td>Might be</td>\n",
       "      <td>1</td>\n",
       "    </tr>\n",
       "    <tr>\n",
       "      <th>9235</th>\n",
       "      <td>579564</td>\n",
       "      <td>IT Projects Management</td>\n",
       "      <td>Unemployed</td>\n",
       "      <td>High in Relevance</td>\n",
       "      <td>1</td>\n",
       "    </tr>\n",
       "    <tr>\n",
       "      <th>9236</th>\n",
       "      <td>579546</td>\n",
       "      <td>Media and Advertising</td>\n",
       "      <td>Unemployed</td>\n",
       "      <td>Might be</td>\n",
       "      <td>0</td>\n",
       "    </tr>\n",
       "    <tr>\n",
       "      <th>9237</th>\n",
       "      <td>579545</td>\n",
       "      <td>Business Administration</td>\n",
       "      <td>Unemployed</td>\n",
       "      <td>Not Sure</td>\n",
       "      <td>0</td>\n",
       "    </tr>\n",
       "    <tr>\n",
       "      <th>9239</th>\n",
       "      <td>579533</td>\n",
       "      <td>Supply Chain Management</td>\n",
       "      <td>Unemployed</td>\n",
       "      <td>Might be</td>\n",
       "      <td>1</td>\n",
       "    </tr>\n",
       "  </tbody>\n",
       "</table>\n",
       "<p>4473 rows × 5 columns</p>\n",
       "</div>"
      ],
      "text/plain": [
       "      Lead Number           Specialization What is your current occupation   \n",
       "0          660737   Specialization unknown                      Unemployed  \\\n",
       "2          660727  Business Administration                         Student   \n",
       "3          660719    Media and Advertising                      Unemployed   \n",
       "4          660681   Specialization unknown                      Unemployed   \n",
       "6          660673  Supply Chain Management                      Unemployed   \n",
       "...           ...                      ...                             ...   \n",
       "9234       579615  Business Administration                      Unemployed   \n",
       "9235       579564   IT Projects Management                      Unemployed   \n",
       "9236       579546    Media and Advertising                      Unemployed   \n",
       "9237       579545  Business Administration                      Unemployed   \n",
       "9239       579533  Supply Chain Management                      Unemployed   \n",
       "\n",
       "           Lead Quality  Converted  \n",
       "0      Low in Relevance          0  \n",
       "2              Might be          1  \n",
       "3              Not Sure          0  \n",
       "4              Might be          1  \n",
       "6      Low in Relevance          1  \n",
       "...                 ...        ...  \n",
       "9234           Might be          1  \n",
       "9235  High in Relevance          1  \n",
       "9236           Might be          0  \n",
       "9237           Not Sure          0  \n",
       "9239           Might be          1  \n",
       "\n",
       "[4473 rows x 5 columns]"
      ]
     },
     "execution_count": 186,
     "metadata": {},
     "output_type": "execute_result"
    }
   ],
   "source": [
    "leads_quality_df_new.dropna()"
   ]
  },
  {
   "cell_type": "code",
   "execution_count": 187,
   "id": "296a1352-5fb3-4700-a716-36b7ef00a7b4",
   "metadata": {},
   "outputs": [
    {
     "data": {
      "text/plain": [
       "array(['Specialization unknown', 'Business Administration',\n",
       "       'Media and Advertising', 'Supply Chain Management',\n",
       "       'IT Projects Management', 'Finance Management',\n",
       "       'Travel and Tourism', 'Human Resource Management',\n",
       "       'Marketing Management', 'Banking, Investment And Insurance',\n",
       "       'International Business', 'E-COMMERCE', 'Operations Management',\n",
       "       'Retail Management', 'Services Excellence',\n",
       "       'Hospitality Management', 'Rural and Agribusiness',\n",
       "       'Healthcare Management', 'E-Business'], dtype=object)"
      ]
     },
     "execution_count": 187,
     "metadata": {},
     "output_type": "execute_result"
    }
   ],
   "source": [
    "leads_quality_df_new['Specialization'].unique()"
   ]
  },
  {
   "cell_type": "markdown",
   "id": "7104f37c-4d9f-4ad4-89f0-71a05e4704f0",
   "metadata": {},
   "source": [
    "The number of data I would loose by dropping all nulls is still really high, but the replacements worked, there are no values like \"Select\" or nans. So we need to continue with the cleaning! Let's move to the \"What is your current occupation\" column."
   ]
  },
  {
   "cell_type": "code",
   "execution_count": 188,
   "id": "03044a84-268a-4c8a-bad4-e328ba99bc64",
   "metadata": {},
   "outputs": [
    {
     "name": "stdout",
     "output_type": "stream",
     "text": [
      "2690\n"
     ]
    }
   ],
   "source": [
    "occupation_nulls = leads_quality_df_new['What is your current occupation'].isnull().sum()\n",
    "print(occupation_nulls)"
   ]
  },
  {
   "cell_type": "markdown",
   "id": "fa14b23d-1ab5-46d3-b962-c6a9f2ff9650",
   "metadata": {},
   "source": [
    "Even more nulls in this category! Let's see if we can replace them somehow."
   ]
  },
  {
   "cell_type": "code",
   "execution_count": 189,
   "id": "320af862-a04e-4acc-90ce-627497a68e62",
   "metadata": {},
   "outputs": [
    {
     "data": {
      "text/plain": [
       "array(['Unemployed', 'Student', nan, 'Working Professional',\n",
       "       'Businessman', 'Other', 'Housewife'], dtype=object)"
      ]
     },
     "execution_count": 189,
     "metadata": {},
     "output_type": "execute_result"
    }
   ],
   "source": [
    "leads_quality_df_new['What is your current occupation'].unique()"
   ]
  },
  {
   "cell_type": "markdown",
   "id": "7c21bc52-b9ce-4ee9-8a22-930ade1bd8b6",
   "metadata": {},
   "source": [
    "In this case, we have a category \"Other\" so that's a good sign. Yet over 1/4 of the leads didn't fill that field at all! It's worth to investigate it further - especially if they converted. But for now, we will replace all nulls with the \"Undisclosed\" value."
   ]
  },
  {
   "cell_type": "code",
   "execution_count": 190,
   "id": "d3978610-fc9b-4c9e-9411-04c24f85d76a",
   "metadata": {},
   "outputs": [
    {
     "name": "stdout",
     "output_type": "stream",
     "text": [
      "      Lead Number             Specialization What is your current occupation   \n",
      "0          660737     Specialization unknown                      Unemployed  \\\n",
      "1          660728     Specialization unknown                      Unemployed   \n",
      "2          660727    Business Administration                         Student   \n",
      "3          660719      Media and Advertising                      Unemployed   \n",
      "4          660681     Specialization unknown                      Unemployed   \n",
      "...           ...                        ...                             ...   \n",
      "9235       579564     IT Projects Management                      Unemployed   \n",
      "9236       579546      Media and Advertising                      Unemployed   \n",
      "9237       579545    Business Administration                      Unemployed   \n",
      "9238       579538  Human Resource Management                     Undisclosed   \n",
      "9239       579533    Supply Chain Management                      Unemployed   \n",
      "\n",
      "           Lead Quality  Converted  \n",
      "0      Low in Relevance          0  \n",
      "1                   NaN          0  \n",
      "2              Might be          1  \n",
      "3              Not Sure          0  \n",
      "4              Might be          1  \n",
      "...                 ...        ...  \n",
      "9235  High in Relevance          1  \n",
      "9236           Might be          0  \n",
      "9237           Not Sure          0  \n",
      "9238                NaN          1  \n",
      "9239           Might be          1  \n",
      "\n",
      "[9240 rows x 5 columns]\n"
     ]
    },
    {
     "name": "stderr",
     "output_type": "stream",
     "text": [
      "/var/folders/46/b24dskq57mzgcckg0dsrr6jr0000gp/T/ipykernel_94449/1278959909.py:4: SettingWithCopyWarning: \n",
      "A value is trying to be set on a copy of a slice from a DataFrame.\n",
      "Try using .loc[row_indexer,col_indexer] = value instead\n",
      "\n",
      "See the caveats in the documentation: https://pandas.pydata.org/pandas-docs/stable/user_guide/indexing.html#returning-a-view-versus-a-copy\n",
      "  leads_quality_df_new[column2] = leads_quality_df[column2].fillna(new_value2)\n"
     ]
    }
   ],
   "source": [
    "column2 = 'What is your current occupation' \n",
    "new_value2 = 'Undisclosed' \n",
    "\n",
    "leads_quality_df_new[column2] = leads_quality_df[column2].fillna(new_value2)\n",
    "\n",
    "leads_quality_df = leads_quality_df_new\n",
    "\n",
    "print(leads_quality_df)"
   ]
  },
  {
   "cell_type": "code",
   "execution_count": 191,
   "id": "d04254c1-2117-4bd3-8a7b-2798a994ac85",
   "metadata": {},
   "outputs": [
    {
     "name": "stdout",
     "output_type": "stream",
     "text": [
      "0\n"
     ]
    }
   ],
   "source": [
    "# now let's check if I got rid of the nulls in the What is your current occupation section - yes I did!\n",
    "occupation_nulls = leads_quality_df['What is your current occupation'].isnull().sum()\n",
    "print(occupation_nulls)"
   ]
  },
  {
   "cell_type": "code",
   "execution_count": 192,
   "id": "330c53b8-5fee-4ca1-8d16-1ae69d011e62",
   "metadata": {},
   "outputs": [
    {
     "data": {
      "text/plain": [
       "array(['Unemployed', 'Student', 'Undisclosed', 'Working Professional',\n",
       "       'Businessman', 'Other', 'Housewife'], dtype=object)"
      ]
     },
     "execution_count": 192,
     "metadata": {},
     "output_type": "execute_result"
    }
   ],
   "source": [
    "# double check - yep, there is new value \"Undisclosed\" instead of nan as we wanted\n",
    "leads_quality_df['What is your current occupation'].unique()"
   ]
  },
  {
   "cell_type": "code",
   "execution_count": 193,
   "id": "5df123a0-251c-47a7-89f4-31e81e7f6301",
   "metadata": {},
   "outputs": [
    {
     "data": {
      "text/html": [
       "<div>\n",
       "<style scoped>\n",
       "    .dataframe tbody tr th:only-of-type {\n",
       "        vertical-align: middle;\n",
       "    }\n",
       "\n",
       "    .dataframe tbody tr th {\n",
       "        vertical-align: top;\n",
       "    }\n",
       "\n",
       "    .dataframe thead th {\n",
       "        text-align: right;\n",
       "    }\n",
       "</style>\n",
       "<table border=\"1\" class=\"dataframe\">\n",
       "  <thead>\n",
       "    <tr style=\"text-align: right;\">\n",
       "      <th></th>\n",
       "      <th>Lead Number</th>\n",
       "      <th>Specialization</th>\n",
       "      <th>What is your current occupation</th>\n",
       "      <th>Lead Quality</th>\n",
       "      <th>Converted</th>\n",
       "    </tr>\n",
       "  </thead>\n",
       "  <tbody>\n",
       "    <tr>\n",
       "      <th>0</th>\n",
       "      <td>660737</td>\n",
       "      <td>Specialization unknown</td>\n",
       "      <td>Unemployed</td>\n",
       "      <td>Low in Relevance</td>\n",
       "      <td>0</td>\n",
       "    </tr>\n",
       "    <tr>\n",
       "      <th>2</th>\n",
       "      <td>660727</td>\n",
       "      <td>Business Administration</td>\n",
       "      <td>Student</td>\n",
       "      <td>Might be</td>\n",
       "      <td>1</td>\n",
       "    </tr>\n",
       "    <tr>\n",
       "      <th>3</th>\n",
       "      <td>660719</td>\n",
       "      <td>Media and Advertising</td>\n",
       "      <td>Unemployed</td>\n",
       "      <td>Not Sure</td>\n",
       "      <td>0</td>\n",
       "    </tr>\n",
       "    <tr>\n",
       "      <th>4</th>\n",
       "      <td>660681</td>\n",
       "      <td>Specialization unknown</td>\n",
       "      <td>Unemployed</td>\n",
       "      <td>Might be</td>\n",
       "      <td>1</td>\n",
       "    </tr>\n",
       "    <tr>\n",
       "      <th>6</th>\n",
       "      <td>660673</td>\n",
       "      <td>Supply Chain Management</td>\n",
       "      <td>Unemployed</td>\n",
       "      <td>Low in Relevance</td>\n",
       "      <td>1</td>\n",
       "    </tr>\n",
       "    <tr>\n",
       "      <th>...</th>\n",
       "      <td>...</td>\n",
       "      <td>...</td>\n",
       "      <td>...</td>\n",
       "      <td>...</td>\n",
       "      <td>...</td>\n",
       "    </tr>\n",
       "    <tr>\n",
       "      <th>9234</th>\n",
       "      <td>579615</td>\n",
       "      <td>Business Administration</td>\n",
       "      <td>Unemployed</td>\n",
       "      <td>Might be</td>\n",
       "      <td>1</td>\n",
       "    </tr>\n",
       "    <tr>\n",
       "      <th>9235</th>\n",
       "      <td>579564</td>\n",
       "      <td>IT Projects Management</td>\n",
       "      <td>Unemployed</td>\n",
       "      <td>High in Relevance</td>\n",
       "      <td>1</td>\n",
       "    </tr>\n",
       "    <tr>\n",
       "      <th>9236</th>\n",
       "      <td>579546</td>\n",
       "      <td>Media and Advertising</td>\n",
       "      <td>Unemployed</td>\n",
       "      <td>Might be</td>\n",
       "      <td>0</td>\n",
       "    </tr>\n",
       "    <tr>\n",
       "      <th>9237</th>\n",
       "      <td>579545</td>\n",
       "      <td>Business Administration</td>\n",
       "      <td>Unemployed</td>\n",
       "      <td>Not Sure</td>\n",
       "      <td>0</td>\n",
       "    </tr>\n",
       "    <tr>\n",
       "      <th>9239</th>\n",
       "      <td>579533</td>\n",
       "      <td>Supply Chain Management</td>\n",
       "      <td>Unemployed</td>\n",
       "      <td>Might be</td>\n",
       "      <td>1</td>\n",
       "    </tr>\n",
       "  </tbody>\n",
       "</table>\n",
       "<p>4473 rows × 5 columns</p>\n",
       "</div>"
      ],
      "text/plain": [
       "      Lead Number           Specialization What is your current occupation   \n",
       "0          660737   Specialization unknown                      Unemployed  \\\n",
       "2          660727  Business Administration                         Student   \n",
       "3          660719    Media and Advertising                      Unemployed   \n",
       "4          660681   Specialization unknown                      Unemployed   \n",
       "6          660673  Supply Chain Management                      Unemployed   \n",
       "...           ...                      ...                             ...   \n",
       "9234       579615  Business Administration                      Unemployed   \n",
       "9235       579564   IT Projects Management                      Unemployed   \n",
       "9236       579546    Media and Advertising                      Unemployed   \n",
       "9237       579545  Business Administration                      Unemployed   \n",
       "9239       579533  Supply Chain Management                      Unemployed   \n",
       "\n",
       "           Lead Quality  Converted  \n",
       "0      Low in Relevance          0  \n",
       "2              Might be          1  \n",
       "3              Not Sure          0  \n",
       "4              Might be          1  \n",
       "6      Low in Relevance          1  \n",
       "...                 ...        ...  \n",
       "9234           Might be          1  \n",
       "9235  High in Relevance          1  \n",
       "9236           Might be          0  \n",
       "9237           Not Sure          0  \n",
       "9239           Might be          1  \n",
       "\n",
       "[4473 rows x 5 columns]"
      ]
     },
     "execution_count": 193,
     "metadata": {},
     "output_type": "execute_result"
    }
   ],
   "source": [
    "leads_quality_df.dropna()"
   ]
  },
  {
   "cell_type": "markdown",
   "id": "4a43399f-bb4a-469c-85a1-3a82c0206266",
   "metadata": {},
   "source": [
    "Still, there are lots of nulls remaining - so moving on with cleaning! Now it's time for the Lead Quality column."
   ]
  },
  {
   "cell_type": "code",
   "execution_count": 194,
   "id": "e229b369-f1ad-4b39-931f-2fb76e1027ee",
   "metadata": {},
   "outputs": [
    {
     "name": "stdout",
     "output_type": "stream",
     "text": [
      "4767\n"
     ]
    }
   ],
   "source": [
    "lead_quality_nulls = leads_quality_df['Lead Quality'].isnull().sum()\n",
    "print(lead_quality_nulls)"
   ]
  },
  {
   "cell_type": "markdown",
   "id": "a54e87b8-f656-4a2a-87e1-1cc78e3df4c5",
   "metadata": {},
   "source": [
    "Ok, we found the reason why we lost so much data if we drop all nulls from the data frame. Around half of the data don't have the column \"Lead quality\" filled. Let's see what we can do about it."
   ]
  },
  {
   "cell_type": "code",
   "execution_count": 195,
   "id": "b28fc6a0-9ff3-45de-90bf-db3a9fa0d168",
   "metadata": {},
   "outputs": [
    {
     "data": {
      "text/plain": [
       "array(['Low in Relevance', nan, 'Might be', 'Not Sure', 'Worst',\n",
       "       'High in Relevance'], dtype=object)"
      ]
     },
     "execution_count": 195,
     "metadata": {},
     "output_type": "execute_result"
    }
   ],
   "source": [
    "leads_quality_df['Lead Quality'].unique()"
   ]
  },
  {
   "cell_type": "markdown",
   "id": "ab75476b-379c-4b76-9ab0-a33d62a07bfa",
   "metadata": {},
   "source": [
    "### *Authour insights*\n",
    "\n",
    "The categories inside the \"Lead Quality\" column are not set properly. For example, I don't know, what is the clear difference between \"Might be\" and \"Not sure\". And \"worst\" sounds a bit aggressive :) I would personally recommend building a lead scoring strategy and setting clear factors that influence categorizing the lead quality one way or another. \n",
    "\n",
    "**For example: determining around 10 indicators and giving points based on the info we have about the lead, how they align with our general business strategy, and the historical data about the client persona, that brought us the most profit in the past.**\n",
    "\n",
    "This could ensure the data consistency and make sure, that the answers like \"might be\" or \"not sure\" would be eliminated, not mentioning the nans. \n",
    "\n",
    "What I have in mind - if the lead is Businessman, we give them 3 points, if they are unemployed - 1. If their specialization is project management - they receive 3 points, if hospitality - 1. \n",
    "\n",
    "Then we can determine ranges like 0 - 10 points = low quality, 10 - 20 = mediocre quality, 20 - 30 = high quality, and 30 - 40 = highest quality. Of course, this is just an example, and many factors and data need to be taken into consideration and the whole process must be aligned and understandable for various business stakeholders. \n",
    "\n",
    "As a Business Intelligence / Data Analyst - I would gladly take this responsibility upon myself."
   ]
  },
  {
   "cell_type": "markdown",
   "id": "ee679169-3cc1-4caa-95f5-5c549f06d9c5",
   "metadata": {},
   "source": [
    "But for now - back to the data! As the reality is, that we have lots of nans - we have to replace them with something. Let's use the \"Unqualified\" term."
   ]
  },
  {
   "cell_type": "code",
   "execution_count": 196,
   "id": "f2900b19-e63d-4039-bb80-08a2e714be19",
   "metadata": {},
   "outputs": [
    {
     "name": "stdout",
     "output_type": "stream",
     "text": [
      "      Lead Number             Specialization What is your current occupation   \n",
      "0          660737     Specialization unknown                      Unemployed  \\\n",
      "1          660728     Specialization unknown                      Unemployed   \n",
      "2          660727    Business Administration                         Student   \n",
      "3          660719      Media and Advertising                      Unemployed   \n",
      "4          660681     Specialization unknown                      Unemployed   \n",
      "...           ...                        ...                             ...   \n",
      "9235       579564     IT Projects Management                      Unemployed   \n",
      "9236       579546      Media and Advertising                      Unemployed   \n",
      "9237       579545    Business Administration                      Unemployed   \n",
      "9238       579538  Human Resource Management                     Undisclosed   \n",
      "9239       579533    Supply Chain Management                      Unemployed   \n",
      "\n",
      "           Lead Quality  Converted  \n",
      "0      Low in Relevance          0  \n",
      "1           Unqualified          0  \n",
      "2              Might be          1  \n",
      "3              Not Sure          0  \n",
      "4              Might be          1  \n",
      "...                 ...        ...  \n",
      "9235  High in Relevance          1  \n",
      "9236           Might be          0  \n",
      "9237           Not Sure          0  \n",
      "9238        Unqualified          1  \n",
      "9239           Might be          1  \n",
      "\n",
      "[9240 rows x 5 columns]\n"
     ]
    },
    {
     "name": "stderr",
     "output_type": "stream",
     "text": [
      "/var/folders/46/b24dskq57mzgcckg0dsrr6jr0000gp/T/ipykernel_94449/1005285255.py:4: SettingWithCopyWarning: \n",
      "A value is trying to be set on a copy of a slice from a DataFrame.\n",
      "Try using .loc[row_indexer,col_indexer] = value instead\n",
      "\n",
      "See the caveats in the documentation: https://pandas.pydata.org/pandas-docs/stable/user_guide/indexing.html#returning-a-view-versus-a-copy\n",
      "  leads_quality_df[column3] = leads_quality_df[column3].fillna(new_value3)\n"
     ]
    }
   ],
   "source": [
    "column3 = 'Lead Quality' \n",
    "new_value3 = 'Unqualified' \n",
    "\n",
    "leads_quality_df[column3] = leads_quality_df[column3].fillna(new_value3)\n",
    "\n",
    "leads_quality_df_new = leads_quality_df\n",
    "\n",
    "print(leads_quality_df_new)"
   ]
  },
  {
   "cell_type": "code",
   "execution_count": 197,
   "id": "79f356de-b688-41ef-97f5-9ee5c6dd1558",
   "metadata": {},
   "outputs": [
    {
     "name": "stdout",
     "output_type": "stream",
     "text": [
      "0\n"
     ]
    }
   ],
   "source": [
    "#let's check if we got rid of nulls in this column\n",
    "lead_quality_nulls = leads_quality_df_new['Lead Quality'].isnull().sum()\n",
    "print(lead_quality_nulls)"
   ]
  },
  {
   "cell_type": "code",
   "execution_count": 198,
   "id": "485d0ef1-ab0b-4600-ba02-4308ad61a1a9",
   "metadata": {},
   "outputs": [
    {
     "data": {
      "text/plain": [
       "array(['Low in Relevance', 'Unqualified', 'Might be', 'Not Sure', 'Worst',\n",
       "       'High in Relevance'], dtype=object)"
      ]
     },
     "execution_count": 198,
     "metadata": {},
     "output_type": "execute_result"
    }
   ],
   "source": [
    "# new column value has arrived - so everything went according to the plan!\n",
    "leads_quality_df_new['Lead Quality'].unique()"
   ]
  },
  {
   "cell_type": "code",
   "execution_count": 199,
   "id": "86d7e8e2-6599-487c-a2fb-9330d9f222a5",
   "metadata": {},
   "outputs": [
    {
     "data": {
      "text/html": [
       "<div>\n",
       "<style scoped>\n",
       "    .dataframe tbody tr th:only-of-type {\n",
       "        vertical-align: middle;\n",
       "    }\n",
       "\n",
       "    .dataframe tbody tr th {\n",
       "        vertical-align: top;\n",
       "    }\n",
       "\n",
       "    .dataframe thead th {\n",
       "        text-align: right;\n",
       "    }\n",
       "</style>\n",
       "<table border=\"1\" class=\"dataframe\">\n",
       "  <thead>\n",
       "    <tr style=\"text-align: right;\">\n",
       "      <th></th>\n",
       "      <th>Lead Number</th>\n",
       "      <th>Specialization</th>\n",
       "      <th>What is your current occupation</th>\n",
       "      <th>Lead Quality</th>\n",
       "      <th>Converted</th>\n",
       "    </tr>\n",
       "  </thead>\n",
       "  <tbody>\n",
       "    <tr>\n",
       "      <th>0</th>\n",
       "      <td>660737</td>\n",
       "      <td>Specialization unknown</td>\n",
       "      <td>Unemployed</td>\n",
       "      <td>Low in Relevance</td>\n",
       "      <td>0</td>\n",
       "    </tr>\n",
       "    <tr>\n",
       "      <th>1</th>\n",
       "      <td>660728</td>\n",
       "      <td>Specialization unknown</td>\n",
       "      <td>Unemployed</td>\n",
       "      <td>Unqualified</td>\n",
       "      <td>0</td>\n",
       "    </tr>\n",
       "    <tr>\n",
       "      <th>2</th>\n",
       "      <td>660727</td>\n",
       "      <td>Business Administration</td>\n",
       "      <td>Student</td>\n",
       "      <td>Might be</td>\n",
       "      <td>1</td>\n",
       "    </tr>\n",
       "    <tr>\n",
       "      <th>3</th>\n",
       "      <td>660719</td>\n",
       "      <td>Media and Advertising</td>\n",
       "      <td>Unemployed</td>\n",
       "      <td>Not Sure</td>\n",
       "      <td>0</td>\n",
       "    </tr>\n",
       "    <tr>\n",
       "      <th>4</th>\n",
       "      <td>660681</td>\n",
       "      <td>Specialization unknown</td>\n",
       "      <td>Unemployed</td>\n",
       "      <td>Might be</td>\n",
       "      <td>1</td>\n",
       "    </tr>\n",
       "    <tr>\n",
       "      <th>...</th>\n",
       "      <td>...</td>\n",
       "      <td>...</td>\n",
       "      <td>...</td>\n",
       "      <td>...</td>\n",
       "      <td>...</td>\n",
       "    </tr>\n",
       "    <tr>\n",
       "      <th>9235</th>\n",
       "      <td>579564</td>\n",
       "      <td>IT Projects Management</td>\n",
       "      <td>Unemployed</td>\n",
       "      <td>High in Relevance</td>\n",
       "      <td>1</td>\n",
       "    </tr>\n",
       "    <tr>\n",
       "      <th>9236</th>\n",
       "      <td>579546</td>\n",
       "      <td>Media and Advertising</td>\n",
       "      <td>Unemployed</td>\n",
       "      <td>Might be</td>\n",
       "      <td>0</td>\n",
       "    </tr>\n",
       "    <tr>\n",
       "      <th>9237</th>\n",
       "      <td>579545</td>\n",
       "      <td>Business Administration</td>\n",
       "      <td>Unemployed</td>\n",
       "      <td>Not Sure</td>\n",
       "      <td>0</td>\n",
       "    </tr>\n",
       "    <tr>\n",
       "      <th>9238</th>\n",
       "      <td>579538</td>\n",
       "      <td>Human Resource Management</td>\n",
       "      <td>Undisclosed</td>\n",
       "      <td>Unqualified</td>\n",
       "      <td>1</td>\n",
       "    </tr>\n",
       "    <tr>\n",
       "      <th>9239</th>\n",
       "      <td>579533</td>\n",
       "      <td>Supply Chain Management</td>\n",
       "      <td>Unemployed</td>\n",
       "      <td>Might be</td>\n",
       "      <td>1</td>\n",
       "    </tr>\n",
       "  </tbody>\n",
       "</table>\n",
       "<p>9240 rows × 5 columns</p>\n",
       "</div>"
      ],
      "text/plain": [
       "      Lead Number             Specialization What is your current occupation   \n",
       "0          660737     Specialization unknown                      Unemployed  \\\n",
       "1          660728     Specialization unknown                      Unemployed   \n",
       "2          660727    Business Administration                         Student   \n",
       "3          660719      Media and Advertising                      Unemployed   \n",
       "4          660681     Specialization unknown                      Unemployed   \n",
       "...           ...                        ...                             ...   \n",
       "9235       579564     IT Projects Management                      Unemployed   \n",
       "9236       579546      Media and Advertising                      Unemployed   \n",
       "9237       579545    Business Administration                      Unemployed   \n",
       "9238       579538  Human Resource Management                     Undisclosed   \n",
       "9239       579533    Supply Chain Management                      Unemployed   \n",
       "\n",
       "           Lead Quality  Converted  \n",
       "0      Low in Relevance          0  \n",
       "1           Unqualified          0  \n",
       "2              Might be          1  \n",
       "3              Not Sure          0  \n",
       "4              Might be          1  \n",
       "...                 ...        ...  \n",
       "9235  High in Relevance          1  \n",
       "9236           Might be          0  \n",
       "9237           Not Sure          0  \n",
       "9238        Unqualified          1  \n",
       "9239           Might be          1  \n",
       "\n",
       "[9240 rows x 5 columns]"
      ]
     },
     "execution_count": 199,
     "metadata": {},
     "output_type": "execute_result"
    }
   ],
   "source": [
    "# time to check what is the general NaN situation inside our dataframe!\n",
    "leads_quality_df_new.dropna()"
   ]
  },
  {
   "cell_type": "code",
   "execution_count": 200,
   "id": "11ce7bc5-3cdc-4b76-b683-b3509de4fdaa",
   "metadata": {},
   "outputs": [
    {
     "data": {
      "text/plain": [
       "Lead Number                        0\n",
       "Specialization                     0\n",
       "What is your current occupation    0\n",
       "Lead Quality                       0\n",
       "Converted                          0\n",
       "dtype: int64"
      ]
     },
     "execution_count": 200,
     "metadata": {},
     "output_type": "execute_result"
    }
   ],
   "source": [
    "leads_quality_df.isnull().sum()"
   ]
  },
  {
   "cell_type": "markdown",
   "id": "f341e680-e6a1-4955-9e04-0de89b95c6f2",
   "metadata": {},
   "source": [
    "Mission accomplished! Our dataframe is cleared out from the null values without loosing any data rows ;)\n",
    "\n",
    "But just to be sure, let's check every important data once again!"
   ]
  },
  {
   "cell_type": "code",
   "execution_count": 201,
   "id": "f85e0606-90a2-4480-8da8-c07b72e97864",
   "metadata": {},
   "outputs": [
    {
     "data": {
      "text/plain": [
       "(9240, 5)"
      ]
     },
     "execution_count": 201,
     "metadata": {},
     "output_type": "execute_result"
    }
   ],
   "source": [
    "#the shape is right!\n",
    "leads_quality_df.shape"
   ]
  },
  {
   "cell_type": "code",
   "execution_count": 202,
   "id": "f835ff90-99f6-47ce-9ae3-6d340750f94a",
   "metadata": {},
   "outputs": [
    {
     "data": {
      "text/plain": [
       "array(['Specialization unknown', 'Business Administration',\n",
       "       'Media and Advertising', 'Supply Chain Management',\n",
       "       'IT Projects Management', 'Finance Management',\n",
       "       'Travel and Tourism', 'Human Resource Management',\n",
       "       'Marketing Management', 'Banking, Investment And Insurance',\n",
       "       'International Business', 'E-COMMERCE', 'Operations Management',\n",
       "       'Retail Management', 'Services Excellence',\n",
       "       'Hospitality Management', 'Rural and Agribusiness',\n",
       "       'Healthcare Management', 'E-Business'], dtype=object)"
      ]
     },
     "execution_count": 202,
     "metadata": {},
     "output_type": "execute_result"
    }
   ],
   "source": [
    "leads_quality_df['Specialization'].unique()"
   ]
  },
  {
   "cell_type": "code",
   "execution_count": 203,
   "id": "c109a5bd-8db7-438a-87b1-24f7e7557fe3",
   "metadata": {},
   "outputs": [
    {
     "data": {
      "text/plain": [
       "array(['Unemployed', 'Student', 'Undisclosed', 'Working Professional',\n",
       "       'Businessman', 'Other', 'Housewife'], dtype=object)"
      ]
     },
     "execution_count": 203,
     "metadata": {},
     "output_type": "execute_result"
    }
   ],
   "source": [
    "leads_quality_df['What is your current occupation'].unique()"
   ]
  },
  {
   "cell_type": "code",
   "execution_count": 204,
   "id": "c4fd56fb-dbe2-4fdb-b8c7-bb01d1532400",
   "metadata": {},
   "outputs": [
    {
     "data": {
      "text/plain": [
       "array(['Low in Relevance', 'Unqualified', 'Might be', 'Not Sure', 'Worst',\n",
       "       'High in Relevance'], dtype=object)"
      ]
     },
     "execution_count": 204,
     "metadata": {},
     "output_type": "execute_result"
    }
   ],
   "source": [
    "leads_quality_df['Lead Quality'].unique()"
   ]
  },
  {
   "cell_type": "code",
   "execution_count": 205,
   "id": "6e039abf-914a-4c6e-9d72-21e148d6509f",
   "metadata": {},
   "outputs": [
    {
     "data": {
      "text/plain": [
       "array([0, 1])"
      ]
     },
     "execution_count": 205,
     "metadata": {},
     "output_type": "execute_result"
    }
   ],
   "source": [
    "leads_quality_df['Converted'].unique()"
   ]
  },
  {
   "cell_type": "code",
   "execution_count": 206,
   "id": "6caa8955-ee79-45a6-ad75-78d5435e8780",
   "metadata": {},
   "outputs": [
    {
     "data": {
      "text/plain": [
       "Lead Number                         int64\n",
       "Specialization                     object\n",
       "What is your current occupation    object\n",
       "Lead Quality                       object\n",
       "Converted                           int64\n",
       "dtype: object"
      ]
     },
     "execution_count": 206,
     "metadata": {},
     "output_type": "execute_result"
    }
   ],
   "source": [
    "leads_quality_df.dtypes"
   ]
  },
  {
   "cell_type": "markdown",
   "id": "7dc817a1-cb61-4020-8258-7dc2d1e649de",
   "metadata": {},
   "source": [
    "It looks like everything is allright! So save our cleaned dataframe as a csv for later, and now - the Visualizations time ;)"
   ]
  },
  {
   "cell_type": "code",
   "execution_count": 207,
   "id": "1ef7f303-07fb-4dc4-adcc-0f01823ff3ae",
   "metadata": {},
   "outputs": [],
   "source": [
    "leads_quality_df.to_csv('x_education_case2_cleaned_data.csv', index=False) "
   ]
  },
  {
   "cell_type": "markdown",
   "id": "4aee0faa-ea42-4cd6-8818-36a6bdfc108b",
   "metadata": {},
   "source": [
    "# Step 3 - Creating two separate datasets for easier analysis"
   ]
  },
  {
   "cell_type": "markdown",
   "id": "7563d873-e6ce-4f86-ba77-1aa008827084",
   "metadata": {},
   "source": [
    "I like order so I want to create two separate datasets for my further analysis. One containing leads that converted and second one, where I will store those who did not."
   ]
  },
  {
   "cell_type": "code",
   "execution_count": 208,
   "id": "44a7ce35-10b1-4dfb-a918-87983fff3d5e",
   "metadata": {},
   "outputs": [],
   "source": [
    "df = leads_quality_df"
   ]
  },
  {
   "cell_type": "code",
   "execution_count": 209,
   "id": "726fb156-32af-4d7e-8a07-9eee155245c0",
   "metadata": {},
   "outputs": [
    {
     "name": "stdout",
     "output_type": "stream",
     "text": [
      "Number of converted leads in dataset: 3561\n",
      "Number of leads that didn't convert: 5679\n"
     ]
    }
   ],
   "source": [
    "# Checking how many rows each dataset will have\n",
    "overall_number_converted_leads = df['Converted'].value_counts()[1]\n",
    "overall_number_unconverted_leads = df['Converted'].value_counts()[0]\n",
    "print(\"Number of converted leads in dataset:\", overall_number_converted_leads)\n",
    "print(\"Number of leads that didn't convert:\", overall_number_unconverted_leads)"
   ]
  },
  {
   "cell_type": "markdown",
   "id": "32e54e71-2df6-42a3-98e1-fefafed6993d",
   "metadata": {},
   "source": [
    "**First conclusion** \n",
    "Among the whole dataset, **37,80 % of leads converted**, and **62,20 % didn't** *(rounding up to 2 digits after coma)*. The size of each dataset is big enough, to be analyzed. For example - if the overall number of converted leads would be 500 and those who did not 9000, I would focus on analyzing only the leads that did not convert, as the size of the converted leads dataset would be to small."
   ]
  },
  {
   "cell_type": "code",
   "execution_count": 210,
   "id": "833a1071-ab81-4b23-b68c-9c3d426b8528",
   "metadata": {},
   "outputs": [],
   "source": [
    "# We're creating a data frame only with leads that converted\n",
    "df_converted = df[df['Converted'] == 1]"
   ]
  },
  {
   "cell_type": "code",
   "execution_count": 211,
   "id": "b338fa5a-b3d9-4f6e-96ba-e9b7e114081c",
   "metadata": {},
   "outputs": [
    {
     "data": {
      "text/plain": [
       "(3561, 5)"
      ]
     },
     "execution_count": 211,
     "metadata": {},
     "output_type": "execute_result"
    }
   ],
   "source": [
    "# It worked - number of rows is the same as the overall number of converted leads we counted above\n",
    "df_converted.shape"
   ]
  },
  {
   "cell_type": "code",
   "execution_count": 212,
   "id": "7b0e0273-f0a0-4387-a2c8-24478ba58c79",
   "metadata": {},
   "outputs": [
    {
     "data": {
      "text/html": [
       "<div>\n",
       "<style scoped>\n",
       "    .dataframe tbody tr th:only-of-type {\n",
       "        vertical-align: middle;\n",
       "    }\n",
       "\n",
       "    .dataframe tbody tr th {\n",
       "        vertical-align: top;\n",
       "    }\n",
       "\n",
       "    .dataframe thead th {\n",
       "        text-align: right;\n",
       "    }\n",
       "</style>\n",
       "<table border=\"1\" class=\"dataframe\">\n",
       "  <thead>\n",
       "    <tr style=\"text-align: right;\">\n",
       "      <th></th>\n",
       "      <th>Lead Number</th>\n",
       "      <th>Specialization</th>\n",
       "      <th>What is your current occupation</th>\n",
       "      <th>Lead Quality</th>\n",
       "      <th>Converted</th>\n",
       "    </tr>\n",
       "  </thead>\n",
       "  <tbody>\n",
       "    <tr>\n",
       "      <th>2</th>\n",
       "      <td>660727</td>\n",
       "      <td>Business Administration</td>\n",
       "      <td>Student</td>\n",
       "      <td>Might be</td>\n",
       "      <td>1</td>\n",
       "    </tr>\n",
       "    <tr>\n",
       "      <th>4</th>\n",
       "      <td>660681</td>\n",
       "      <td>Specialization unknown</td>\n",
       "      <td>Unemployed</td>\n",
       "      <td>Might be</td>\n",
       "      <td>1</td>\n",
       "    </tr>\n",
       "    <tr>\n",
       "      <th>6</th>\n",
       "      <td>660673</td>\n",
       "      <td>Supply Chain Management</td>\n",
       "      <td>Unemployed</td>\n",
       "      <td>Low in Relevance</td>\n",
       "      <td>1</td>\n",
       "    </tr>\n",
       "    <tr>\n",
       "      <th>10</th>\n",
       "      <td>660608</td>\n",
       "      <td>Travel and Tourism</td>\n",
       "      <td>Unemployed</td>\n",
       "      <td>Might be</td>\n",
       "      <td>1</td>\n",
       "    </tr>\n",
       "    <tr>\n",
       "      <th>11</th>\n",
       "      <td>660570</td>\n",
       "      <td>Human Resource Management</td>\n",
       "      <td>Unemployed</td>\n",
       "      <td>Unqualified</td>\n",
       "      <td>1</td>\n",
       "    </tr>\n",
       "    <tr>\n",
       "      <th>12</th>\n",
       "      <td>660562</td>\n",
       "      <td>Marketing Management</td>\n",
       "      <td>Unemployed</td>\n",
       "      <td>Might be</td>\n",
       "      <td>1</td>\n",
       "    </tr>\n",
       "    <tr>\n",
       "      <th>15</th>\n",
       "      <td>660547</td>\n",
       "      <td>Specialization unknown</td>\n",
       "      <td>Unemployed</td>\n",
       "      <td>Might be</td>\n",
       "      <td>1</td>\n",
       "    </tr>\n",
       "    <tr>\n",
       "      <th>18</th>\n",
       "      <td>660522</td>\n",
       "      <td>Marketing Management</td>\n",
       "      <td>Unemployed</td>\n",
       "      <td>Unqualified</td>\n",
       "      <td>1</td>\n",
       "    </tr>\n",
       "    <tr>\n",
       "      <th>22</th>\n",
       "      <td>660471</td>\n",
       "      <td>Banking, Investment And Insurance</td>\n",
       "      <td>Unemployed</td>\n",
       "      <td>Low in Relevance</td>\n",
       "      <td>1</td>\n",
       "    </tr>\n",
       "    <tr>\n",
       "      <th>24</th>\n",
       "      <td>660458</td>\n",
       "      <td>Marketing Management</td>\n",
       "      <td>Unemployed</td>\n",
       "      <td>High in Relevance</td>\n",
       "      <td>1</td>\n",
       "    </tr>\n",
       "    <tr>\n",
       "      <th>25</th>\n",
       "      <td>660447</td>\n",
       "      <td>Travel and Tourism</td>\n",
       "      <td>Unemployed</td>\n",
       "      <td>Not Sure</td>\n",
       "      <td>1</td>\n",
       "    </tr>\n",
       "    <tr>\n",
       "      <th>26</th>\n",
       "      <td>660432</td>\n",
       "      <td>Finance Management</td>\n",
       "      <td>Unemployed</td>\n",
       "      <td>Low in Relevance</td>\n",
       "      <td>1</td>\n",
       "    </tr>\n",
       "    <tr>\n",
       "      <th>27</th>\n",
       "      <td>660424</td>\n",
       "      <td>Media and Advertising</td>\n",
       "      <td>Unemployed</td>\n",
       "      <td>High in Relevance</td>\n",
       "      <td>1</td>\n",
       "    </tr>\n",
       "    <tr>\n",
       "      <th>29</th>\n",
       "      <td>660410</td>\n",
       "      <td>International Business</td>\n",
       "      <td>Unemployed</td>\n",
       "      <td>High in Relevance</td>\n",
       "      <td>1</td>\n",
       "    </tr>\n",
       "    <tr>\n",
       "      <th>30</th>\n",
       "      <td>660402</td>\n",
       "      <td>Human Resource Management</td>\n",
       "      <td>Unemployed</td>\n",
       "      <td>Might be</td>\n",
       "      <td>1</td>\n",
       "    </tr>\n",
       "    <tr>\n",
       "      <th>34</th>\n",
       "      <td>660333</td>\n",
       "      <td>E-COMMERCE</td>\n",
       "      <td>Unemployed</td>\n",
       "      <td>Might be</td>\n",
       "      <td>1</td>\n",
       "    </tr>\n",
       "    <tr>\n",
       "      <th>35</th>\n",
       "      <td>660321</td>\n",
       "      <td>Human Resource Management</td>\n",
       "      <td>Unemployed</td>\n",
       "      <td>High in Relevance</td>\n",
       "      <td>1</td>\n",
       "    </tr>\n",
       "    <tr>\n",
       "      <th>37</th>\n",
       "      <td>660267</td>\n",
       "      <td>Finance Management</td>\n",
       "      <td>Working Professional</td>\n",
       "      <td>Low in Relevance</td>\n",
       "      <td>1</td>\n",
       "    </tr>\n",
       "    <tr>\n",
       "      <th>39</th>\n",
       "      <td>660236</td>\n",
       "      <td>Operations Management</td>\n",
       "      <td>Unemployed</td>\n",
       "      <td>High in Relevance</td>\n",
       "      <td>1</td>\n",
       "    </tr>\n",
       "    <tr>\n",
       "      <th>50</th>\n",
       "      <td>660087</td>\n",
       "      <td>Specialization unknown</td>\n",
       "      <td>Unemployed</td>\n",
       "      <td>Low in Relevance</td>\n",
       "      <td>1</td>\n",
       "    </tr>\n",
       "  </tbody>\n",
       "</table>\n",
       "</div>"
      ],
      "text/plain": [
       "    Lead Number                     Specialization   \n",
       "2        660727            Business Administration  \\\n",
       "4        660681             Specialization unknown   \n",
       "6        660673            Supply Chain Management   \n",
       "10       660608                 Travel and Tourism   \n",
       "11       660570          Human Resource Management   \n",
       "12       660562               Marketing Management   \n",
       "15       660547             Specialization unknown   \n",
       "18       660522               Marketing Management   \n",
       "22       660471  Banking, Investment And Insurance   \n",
       "24       660458               Marketing Management   \n",
       "25       660447                 Travel and Tourism   \n",
       "26       660432                 Finance Management   \n",
       "27       660424              Media and Advertising   \n",
       "29       660410             International Business   \n",
       "30       660402          Human Resource Management   \n",
       "34       660333                         E-COMMERCE   \n",
       "35       660321          Human Resource Management   \n",
       "37       660267                 Finance Management   \n",
       "39       660236              Operations Management   \n",
       "50       660087             Specialization unknown   \n",
       "\n",
       "   What is your current occupation       Lead Quality  Converted  \n",
       "2                          Student           Might be          1  \n",
       "4                       Unemployed           Might be          1  \n",
       "6                       Unemployed   Low in Relevance          1  \n",
       "10                      Unemployed           Might be          1  \n",
       "11                      Unemployed        Unqualified          1  \n",
       "12                      Unemployed           Might be          1  \n",
       "15                      Unemployed           Might be          1  \n",
       "18                      Unemployed        Unqualified          1  \n",
       "22                      Unemployed   Low in Relevance          1  \n",
       "24                      Unemployed  High in Relevance          1  \n",
       "25                      Unemployed           Not Sure          1  \n",
       "26                      Unemployed   Low in Relevance          1  \n",
       "27                      Unemployed  High in Relevance          1  \n",
       "29                      Unemployed  High in Relevance          1  \n",
       "30                      Unemployed           Might be          1  \n",
       "34                      Unemployed           Might be          1  \n",
       "35                      Unemployed  High in Relevance          1  \n",
       "37            Working Professional   Low in Relevance          1  \n",
       "39                      Unemployed  High in Relevance          1  \n",
       "50                      Unemployed   Low in Relevance          1  "
      ]
     },
     "execution_count": 212,
     "metadata": {},
     "output_type": "execute_result"
    }
   ],
   "source": [
    "# Let's print the new dataframe, to be absolutely sure - yep, it worked\n",
    "df_converted.head(20)"
   ]
  },
  {
   "cell_type": "code",
   "execution_count": 213,
   "id": "87b98bf2-cec3-4dea-bc19-90f9075b5041",
   "metadata": {},
   "outputs": [
    {
     "data": {
      "text/plain": [
       "array([1])"
      ]
     },
     "execution_count": 213,
     "metadata": {},
     "output_type": "execute_result"
    }
   ],
   "source": [
    "#Making absolutely sure, only converted leads are on the list\n",
    "df_converted['Converted'].unique()"
   ]
  },
  {
   "cell_type": "markdown",
   "id": "3c938933-bbaf-48a9-bb01-62ad16c7f101",
   "metadata": {},
   "source": [
    "Great, so now let's create a similar data frame, but with leads that did not convert."
   ]
  },
  {
   "cell_type": "code",
   "execution_count": 214,
   "id": "90ce0e74-fc1a-4572-96f1-e0c74cabc28d",
   "metadata": {},
   "outputs": [],
   "source": [
    "# We're creating a data frame only with leads that did not convert\n",
    "df_not_converted = df[df['Converted'] == 0]"
   ]
  },
  {
   "cell_type": "code",
   "execution_count": 215,
   "id": "094ec712-94aa-451a-b770-e5e390a6de1a",
   "metadata": {},
   "outputs": [
    {
     "data": {
      "text/plain": [
       "(5679, 5)"
      ]
     },
     "execution_count": 215,
     "metadata": {},
     "output_type": "execute_result"
    }
   ],
   "source": [
    "# It worked - number of rows is the same as the overall number of not converted leads we counted earlier\n",
    "df_not_converted.shape"
   ]
  },
  {
   "cell_type": "code",
   "execution_count": 216,
   "id": "732a21c6-5fa2-44eb-a6ef-fb6d4aa5ea6b",
   "metadata": {},
   "outputs": [
    {
     "data": {
      "text/plain": [
       "array([0])"
      ]
     },
     "execution_count": 216,
     "metadata": {},
     "output_type": "execute_result"
    }
   ],
   "source": [
    "df_not_converted['Converted'].unique()"
   ]
  },
  {
   "cell_type": "markdown",
   "id": "9b7d7fb9-a755-47da-a5e5-1aa3f5ac139f",
   "metadata": {},
   "source": [
    "As a result, we have 2 new dataframes:\n",
    "\n",
    "df_converted = it stores all leads that converted\n",
    "\n",
    "df_not_converted = it stores all leads that did not convert\n",
    "\n",
    "Let's save them as separate CSVs as well."
   ]
  },
  {
   "cell_type": "code",
   "execution_count": 217,
   "id": "49ee5a54-a43a-4f12-bf8c-23e6cf5a9684",
   "metadata": {},
   "outputs": [],
   "source": [
    "#We're creating a dataset with only leads that converted in csv file\n",
    "df_converted.to_csv('converted_leads_target_persona_04_07_2023.csv', index=False) "
   ]
  },
  {
   "cell_type": "code",
   "execution_count": 218,
   "id": "af7c4896-58dc-478f-8671-1950f82c2181",
   "metadata": {},
   "outputs": [],
   "source": [
    "#We're creating a dataset with only leads that did not convert in csv file\n",
    "df_not_converted.to_csv('not_converted_leads_target_persona_04_07_2023.csv', index=False) "
   ]
  },
  {
   "cell_type": "markdown",
   "id": "1173e7ae-0ee0-48a9-8dab-4ef4c1c2f796",
   "metadata": {},
   "source": [
    "Awesome! Let's take those two datasets to MySQL now and blend them with the country data from the original dataset for deeper understanding of the leads characteristics.\n",
    "\n"
   ]
  },
  {
   "cell_type": "markdown",
   "id": "47ebc114-e54e-42c5-b2de-b535c9128d8f",
   "metadata": {},
   "source": [
    "# Step 4 - Data Blending using SQL (MySQL)"
   ]
  },
  {
   "cell_type": "markdown",
   "id": "cf1f88fd-00ce-4192-98b7-2babc426a9df",
   "metadata": {},
   "source": [
    "Let's alter column names in merged tables, to make it easier to blend. I've uploaded my csv files to a MySQL database, so the code won't obviously work here (it worked in MySQL, I promise!), but I'm pasting it anyway to show my thought process. It's in Markdown."
   ]
  },
  {
   "cell_type": "markdown",
   "id": "bcdccc5d-1136-43b6-baf8-1fe2038b0f7f",
   "metadata": {},
   "source": [
    "Starting out with changing the column names, to make blending much easier."
   ]
  },
  {
   "cell_type": "markdown",
   "id": "8713dd18-b667-4f87-bda1-1d091dfc7961",
   "metadata": {
    "tags": []
   },
   "source": [
    "ALTER TABLE `Trening_SQL`.`converted_leads` \n",
    "CHANGE COLUMN `Lead Number` `Lead_Number` INT NULL DEFAULT NULL ;\n",
    "\n",
    "ALTER TABLE `Trening_SQL`.`converted_leads` \n",
    "CHANGE COLUMN `What is your current occupation` `Current_occupation` INT NULL DEFAULT NULL ;\n",
    "\n",
    "ALTER TABLE `Trening_SQL`.`converted_leads` \n",
    "CHANGE COLUMN `Lead Quality` `Lead_Quality` INT NULL DEFAULT NULL ;\n",
    "\n",
    "ALTER TABLE `Trening_SQL`.`lead_scoring` \n",
    "CHANGE COLUMN `Lead Number` `Lead_Number` INT NULL DEFAULT NULL ;\n",
    "\n",
    "ALTER TABLE `Trening_SQL`.`not_converted_leads` \n",
    "CHANGE COLUMN `Lead Number` `Lead_Number` INT NULL DEFAULT NULL ;\n",
    "\n",
    "ALTER TABLE `Trening_SQL`.`not_converted_leads` \n",
    "CHANGE COLUMN `What is your current occupation` `Current_occupation` TEXT NULL DEFAULT NULL ;\n",
    "\n",
    "ALTER TABLE `Trening_SQL`.`not_converted_leads` \n",
    "CHANGE COLUMN `Lead Quality` `Lead_Quality` TEXT NULL DEFAULT NULL ;"
   ]
  },
  {
   "cell_type": "markdown",
   "id": "e88f0401-cdbe-4cad-8c94-fc74dc85b1e4",
   "metadata": {},
   "source": [
    "Now, let's use the SQL Left join method, to receive a table where all of the records from the converted leads table will be available, \n",
    "and the country data from the original dataset. They will be matched on the primary key \"Lead_Number\". "
   ]
  },
  {
   "cell_type": "markdown",
   "id": "b40f482f-f1d9-48d4-bbe3-117354575139",
   "metadata": {},
   "source": [
    "SELECT \n",
    "    `Trening_SQL`.`converted_leads`.Lead_Number,\n",
    "    Specialization,\n",
    "    Current_occupation,\n",
    "    Lead_Quality,\n",
    "    Country\n",
    "FROM\n",
    "    `Trening_SQL`.`converted_leads`\n",
    "        LEFT JOIN\n",
    "    `Trening_SQL`.`lead_scoring` ON `Trening_SQL`.`converted_leads`.Lead_Number = `Trening_SQL`.`lead_scoring`.Lead_Number;\n"
   ]
  },
  {
   "cell_type": "markdown",
   "id": "de50f4a1-b254-4ccb-a672-da8b8da90b1e",
   "metadata": {},
   "source": [
    "The number of rows is still 3561, so we did not loose any data in the process. Let's do the same with leads that did not convert.\n"
   ]
  },
  {
   "cell_type": "markdown",
   "id": "d7e27453-a717-4251-aeb0-c459b0657eff",
   "metadata": {},
   "source": [
    "SELECT \n",
    "    `Trening_SQL`.`not_converted_leads`.Lead_Number,\n",
    "    Specialization,\n",
    "    Current_occupation,\n",
    "    Lead_Quality,\n",
    "    Country\n",
    "FROM\n",
    "    `Trening_SQL`.`not_converted_leads`\n",
    "        LEFT JOIN\n",
    "    `Trening_SQL`.`lead_scoring` ON `Trening_SQL`.`not_converted_leads`.Lead_Number = `Trening_SQL`.`lead_scoring`.Lead_Number;"
   ]
  },
  {
   "cell_type": "markdown",
   "id": "e470f66d-f609-4a65-8943-5c1bc06dbcaa",
   "metadata": {},
   "source": [
    "Success once again! With 5679 rows available after blending, we have our two tables extended by country info.\n",
    "\n",
    "Let's load them as dataframes and take care of newly appeared null values."
   ]
  },
  {
   "cell_type": "code",
   "execution_count": 219,
   "id": "ec61fae3-d240-4323-9708-d709b8701f8e",
   "metadata": {},
   "outputs": [],
   "source": [
    "# Importing blended data into dataframes\n",
    "converted = pd.read_csv('converted_leads_blended.csv')"
   ]
  },
  {
   "cell_type": "code",
   "execution_count": 220,
   "id": "98d56ef7-06f5-4969-9f1b-7007e5ab3dce",
   "metadata": {},
   "outputs": [],
   "source": [
    "not_converted = pd.read_csv('not_converted_leads_blended.csv') "
   ]
  },
  {
   "cell_type": "code",
   "execution_count": 221,
   "id": "c2bfb30f-7499-4c39-8d19-dc9c6bdb1740",
   "metadata": {},
   "outputs": [
    {
     "data": {
      "text/html": [
       "<div>\n",
       "<style scoped>\n",
       "    .dataframe tbody tr th:only-of-type {\n",
       "        vertical-align: middle;\n",
       "    }\n",
       "\n",
       "    .dataframe tbody tr th {\n",
       "        vertical-align: top;\n",
       "    }\n",
       "\n",
       "    .dataframe thead th {\n",
       "        text-align: right;\n",
       "    }\n",
       "</style>\n",
       "<table border=\"1\" class=\"dataframe\">\n",
       "  <thead>\n",
       "    <tr style=\"text-align: right;\">\n",
       "      <th></th>\n",
       "      <th>Lead_Number</th>\n",
       "      <th>Specialization</th>\n",
       "      <th>Current_occupation</th>\n",
       "      <th>Lead_Quality</th>\n",
       "      <th>Country</th>\n",
       "    </tr>\n",
       "  </thead>\n",
       "  <tbody>\n",
       "    <tr>\n",
       "      <th>0</th>\n",
       "      <td>660727</td>\n",
       "      <td>Business Administration</td>\n",
       "      <td>Student</td>\n",
       "      <td>Might be</td>\n",
       "      <td>India</td>\n",
       "    </tr>\n",
       "    <tr>\n",
       "      <th>1</th>\n",
       "      <td>660681</td>\n",
       "      <td>Specialization unknown</td>\n",
       "      <td>Unemployed</td>\n",
       "      <td>Might be</td>\n",
       "      <td>India</td>\n",
       "    </tr>\n",
       "    <tr>\n",
       "      <th>2</th>\n",
       "      <td>660673</td>\n",
       "      <td>Supply Chain Management</td>\n",
       "      <td>Unemployed</td>\n",
       "      <td>Low in Relevance</td>\n",
       "      <td>India</td>\n",
       "    </tr>\n",
       "    <tr>\n",
       "      <th>3</th>\n",
       "      <td>660608</td>\n",
       "      <td>Travel and Tourism</td>\n",
       "      <td>Unemployed</td>\n",
       "      <td>Might be</td>\n",
       "      <td>India</td>\n",
       "    </tr>\n",
       "    <tr>\n",
       "      <th>4</th>\n",
       "      <td>660570</td>\n",
       "      <td>Human Resource Management</td>\n",
       "      <td>Unemployed</td>\n",
       "      <td>Unqualified</td>\n",
       "      <td>India</td>\n",
       "    </tr>\n",
       "    <tr>\n",
       "      <th>5</th>\n",
       "      <td>660562</td>\n",
       "      <td>Marketing Management</td>\n",
       "      <td>Unemployed</td>\n",
       "      <td>Might be</td>\n",
       "      <td>India</td>\n",
       "    </tr>\n",
       "    <tr>\n",
       "      <th>6</th>\n",
       "      <td>660547</td>\n",
       "      <td>Specialization unknown</td>\n",
       "      <td>Unemployed</td>\n",
       "      <td>Might be</td>\n",
       "      <td>India</td>\n",
       "    </tr>\n",
       "    <tr>\n",
       "      <th>7</th>\n",
       "      <td>660522</td>\n",
       "      <td>Marketing Management</td>\n",
       "      <td>Unemployed</td>\n",
       "      <td>Unqualified</td>\n",
       "      <td>India</td>\n",
       "    </tr>\n",
       "    <tr>\n",
       "      <th>8</th>\n",
       "      <td>660471</td>\n",
       "      <td>Banking, Investment And Insurance</td>\n",
       "      <td>Unemployed</td>\n",
       "      <td>Low in Relevance</td>\n",
       "      <td>India</td>\n",
       "    </tr>\n",
       "    <tr>\n",
       "      <th>9</th>\n",
       "      <td>660458</td>\n",
       "      <td>Marketing Management</td>\n",
       "      <td>Unemployed</td>\n",
       "      <td>High in Relevance</td>\n",
       "      <td>India</td>\n",
       "    </tr>\n",
       "    <tr>\n",
       "      <th>10</th>\n",
       "      <td>660447</td>\n",
       "      <td>Travel and Tourism</td>\n",
       "      <td>Unemployed</td>\n",
       "      <td>Not Sure</td>\n",
       "      <td>India</td>\n",
       "    </tr>\n",
       "    <tr>\n",
       "      <th>11</th>\n",
       "      <td>660432</td>\n",
       "      <td>Finance Management</td>\n",
       "      <td>Unemployed</td>\n",
       "      <td>Low in Relevance</td>\n",
       "      <td>India</td>\n",
       "    </tr>\n",
       "    <tr>\n",
       "      <th>12</th>\n",
       "      <td>660424</td>\n",
       "      <td>Media and Advertising</td>\n",
       "      <td>Unemployed</td>\n",
       "      <td>High in Relevance</td>\n",
       "      <td>India</td>\n",
       "    </tr>\n",
       "    <tr>\n",
       "      <th>13</th>\n",
       "      <td>660410</td>\n",
       "      <td>International Business</td>\n",
       "      <td>Unemployed</td>\n",
       "      <td>High in Relevance</td>\n",
       "      <td>India</td>\n",
       "    </tr>\n",
       "    <tr>\n",
       "      <th>14</th>\n",
       "      <td>660402</td>\n",
       "      <td>Human Resource Management</td>\n",
       "      <td>Unemployed</td>\n",
       "      <td>Might be</td>\n",
       "      <td>India</td>\n",
       "    </tr>\n",
       "    <tr>\n",
       "      <th>15</th>\n",
       "      <td>660333</td>\n",
       "      <td>E-COMMERCE</td>\n",
       "      <td>Unemployed</td>\n",
       "      <td>Might be</td>\n",
       "      <td>India</td>\n",
       "    </tr>\n",
       "    <tr>\n",
       "      <th>16</th>\n",
       "      <td>660321</td>\n",
       "      <td>Human Resource Management</td>\n",
       "      <td>Unemployed</td>\n",
       "      <td>High in Relevance</td>\n",
       "      <td>India</td>\n",
       "    </tr>\n",
       "    <tr>\n",
       "      <th>17</th>\n",
       "      <td>660267</td>\n",
       "      <td>Finance Management</td>\n",
       "      <td>Working Professional</td>\n",
       "      <td>Low in Relevance</td>\n",
       "      <td>India</td>\n",
       "    </tr>\n",
       "    <tr>\n",
       "      <th>18</th>\n",
       "      <td>660236</td>\n",
       "      <td>Operations Management</td>\n",
       "      <td>Unemployed</td>\n",
       "      <td>High in Relevance</td>\n",
       "      <td>India</td>\n",
       "    </tr>\n",
       "    <tr>\n",
       "      <th>19</th>\n",
       "      <td>660087</td>\n",
       "      <td>Specialization unknown</td>\n",
       "      <td>Unemployed</td>\n",
       "      <td>Low in Relevance</td>\n",
       "      <td>unknown</td>\n",
       "    </tr>\n",
       "  </tbody>\n",
       "</table>\n",
       "</div>"
      ],
      "text/plain": [
       "    Lead_Number                     Specialization    Current_occupation   \n",
       "0        660727            Business Administration               Student  \\\n",
       "1        660681             Specialization unknown            Unemployed   \n",
       "2        660673            Supply Chain Management            Unemployed   \n",
       "3        660608                 Travel and Tourism            Unemployed   \n",
       "4        660570          Human Resource Management            Unemployed   \n",
       "5        660562               Marketing Management            Unemployed   \n",
       "6        660547             Specialization unknown            Unemployed   \n",
       "7        660522               Marketing Management            Unemployed   \n",
       "8        660471  Banking, Investment And Insurance            Unemployed   \n",
       "9        660458               Marketing Management            Unemployed   \n",
       "10       660447                 Travel and Tourism            Unemployed   \n",
       "11       660432                 Finance Management            Unemployed   \n",
       "12       660424              Media and Advertising            Unemployed   \n",
       "13       660410             International Business            Unemployed   \n",
       "14       660402          Human Resource Management            Unemployed   \n",
       "15       660333                         E-COMMERCE            Unemployed   \n",
       "16       660321          Human Resource Management            Unemployed   \n",
       "17       660267                 Finance Management  Working Professional   \n",
       "18       660236              Operations Management            Unemployed   \n",
       "19       660087             Specialization unknown            Unemployed   \n",
       "\n",
       "         Lead_Quality  Country  \n",
       "0            Might be    India  \n",
       "1            Might be    India  \n",
       "2    Low in Relevance    India  \n",
       "3            Might be    India  \n",
       "4         Unqualified    India  \n",
       "5            Might be    India  \n",
       "6            Might be    India  \n",
       "7         Unqualified    India  \n",
       "8    Low in Relevance    India  \n",
       "9   High in Relevance    India  \n",
       "10           Not Sure    India  \n",
       "11   Low in Relevance    India  \n",
       "12  High in Relevance    India  \n",
       "13  High in Relevance    India  \n",
       "14           Might be    India  \n",
       "15           Might be    India  \n",
       "16  High in Relevance    India  \n",
       "17   Low in Relevance    India  \n",
       "18  High in Relevance    India  \n",
       "19   Low in Relevance  unknown  "
      ]
     },
     "execution_count": 221,
     "metadata": {},
     "output_type": "execute_result"
    }
   ],
   "source": [
    "#checking 20 rows for converted leads data set, is the Country column there\n",
    "converted.head(20)"
   ]
  },
  {
   "cell_type": "code",
   "execution_count": 222,
   "id": "e3db652a-3318-47a9-8ff1-ddc0e3dfde60",
   "metadata": {},
   "outputs": [
    {
     "data": {
      "text/plain": [
       "array(['India', 'unknown', 'United States', 'Bahrain', 'Singapore',\n",
       "       'United Kingdom', 'United Arab Emirates', 'Qatar', 'Saudi Arabia',\n",
       "       'France', 'Netherlands', 'Germany', 'Sweden', 'Oman',\n",
       "       'Asia/Pacific Region', 'Hong Kong', 'Denmark', 'South Africa',\n",
       "       'Australia', 'Bangladesh'], dtype=object)"
      ]
     },
     "execution_count": 222,
     "metadata": {},
     "output_type": "execute_result"
    }
   ],
   "source": [
    "# Looking for nulls\n",
    "converted['Country'].unique()"
   ]
  },
  {
   "cell_type": "code",
   "execution_count": 223,
   "id": "74d9f87b-0ef7-4dc7-99b6-33b16ee92dcd",
   "metadata": {
    "tags": []
   },
   "outputs": [
    {
     "data": {
      "text/plain": [
       "array(['India', 'unknown', 'United States', 'Bahrain', 'Singapore',\n",
       "       'United Kingdom', 'United Arab Emirates', 'Qatar', 'Saudi Arabia',\n",
       "       'France', 'Netherlands', 'Germany', 'Sweden', 'Oman',\n",
       "       'Asia/Pacific Region', 'Hong Kong', 'Denmark', 'South Africa',\n",
       "       'Australia', 'Bangladesh'], dtype=object)"
      ]
     },
     "execution_count": 223,
     "metadata": {},
     "output_type": "execute_result"
    }
   ],
   "source": [
    "#  there are few of them, let's replace them with the \"unknown\" value and check if it work\n",
    "column = 'Country' \n",
    "new_value = 'unknown' \n",
    "\n",
    "converted[column] = converted[column].fillna(new_value)\n",
    "\n",
    "converted_new = converted\n",
    "\n",
    "converted_new['Country'].unique()"
   ]
  },
  {
   "cell_type": "code",
   "execution_count": 224,
   "id": "711b7976-97ce-4216-a681-dd308203dadf",
   "metadata": {},
   "outputs": [
    {
     "data": {
      "text/plain": [
       "array(['unknown', 'India', 'Russia', 'Kuwait', 'Oman',\n",
       "       'United Arab Emirates', 'United States', 'Australia',\n",
       "       'United Kingdom', 'Ghana', 'Singapore', 'Qatar', 'Saudi Arabia',\n",
       "       'Belgium', 'France', 'Sri Lanka', 'China', 'Canada', 'Sweden',\n",
       "       'Nigeria', 'Hong Kong', 'Uganda', 'Germany', 'Kenya', 'Italy',\n",
       "       'Bahrain', 'South Africa', 'Tanzania', 'Malaysia', 'Netherlands',\n",
       "       'Liberia', 'Switzerland', 'Philippines', 'Bangladesh', 'Vietnam',\n",
       "       'Indonesia', 'Asia/Pacific Region'], dtype=object)"
      ]
     },
     "execution_count": 224,
     "metadata": {},
     "output_type": "execute_result"
    }
   ],
   "source": [
    "# It worked, so let's do the same for the not converted leads dataset\n",
    "\n",
    "column = 'Country' \n",
    "new_value = 'unknown' \n",
    "\n",
    "not_converted[column] = not_converted[column].fillna(new_value)\n",
    "\n",
    "not_converted_new = not_converted\n",
    "\n",
    "not_converted_new['Country'].unique()"
   ]
  },
  {
   "cell_type": "code",
   "execution_count": 225,
   "id": "10d918b2-73a4-4cb1-a589-c0fbe3585790",
   "metadata": {},
   "outputs": [],
   "source": [
    "# saving dataframes as csv files (replacing the old ones)\n",
    "\n",
    "converted_new.to_csv('converted_leads_blended.csv', index=False)\n",
    "not_converted_new.to_csv('not_converted_leads_blended.csv', index=False) "
   ]
  },
  {
   "cell_type": "markdown",
   "id": "992a2481-b9d8-4a58-a7d8-2048105f1bfc",
   "metadata": {},
   "source": [
    "# Step 5 - Data Visualization with Tableau"
   ]
  },
  {
   "cell_type": "markdown",
   "id": "ea4dec35-3890-4a51-bdc5-2555fab9cbb7",
   "metadata": {
    "tags": []
   },
   "source": [
    "The easiest way to get the specific insights from a Cleaned and Initially Transformed data is to use a Data Visualization tool. Recently I've finished this amazing course titled [Go Beyond the Numbers: Translate Data into Insights from Google](https://www.coursera.org/account/accomplishments/certificate/5KQ2FUXV5QYL) where I could get myself familiar with [Tableau Public Data Visualization tool](https://public.tableau.com/). \n",
    "\n",
    "I liked it so much, that I've enrolled in a more complex course on that matter on Udemy - [Tableau 2022 A-Z: Hands-On Tableau Training for Data Science](https://www.udemy.com/course/tableau10/).\n",
    "\n",
    "### **Based on the tips from those courses, I've prepared Data Visualizations available on my [Tableau Public profile here](https://public.tableau.com/app/profile/izabela.rokita).**\n"
   ]
  },
  {
   "cell_type": "markdown",
   "id": "0cf3e096-8ba5-4db1-a6b5-1444a3ec9d87",
   "metadata": {},
   "source": [
    "# Conclusion"
   ]
  },
  {
   "cell_type": "markdown",
   "id": "7caeaa7d-7224-4711-a3e8-d62be2d98238",
   "metadata": {},
   "source": [
    "The ultimate goal of any Exploratory Data Analysis process, **should be getting valuable Business Insights.** Asking the right questions, deciding which data we need (and which we don't), and presenting our discoveries in an appealing to non-tech stakeholders way. \n",
    "\n",
    "Based on my whole analysis I found insights below:\n",
    "\n",
    "### #1 The Lead scoring process needs a complete reconstruction\n",
    "\n",
    "Based on the data, the sales team have got trouble with qualifying the lead quality accordingly. Among the converted leads, the most common categories are \"Might be\" and \"Unqualified\" - not \"High in Relevance\". On the opposite - among not converted leads leading categories are \"Unqualified\" and \"Not sure\", not \"Worst\". Overall, the number of \"unqualified\" leads is also concerning. To improve the conversion rate and allocate the sales team efforts in the right places, it would be beneficial to redesign the whole lead scoring strategy,\n",
    "\n",
    "### #2 Visible difficulties to acquire and convert leads from other countries than India\n",
    "\n",
    "As the Data Visualizations show, in terms of geography, India dominates in terms of leads converted. Despite the fact, of being a very big market, it would beneficial to diversify the target geography more. There are a few leads from countries like the USA, Australia, or Saudi Arabia, but not enough, to make a real difference. My recommendation is, to invest in market research in different regions, to identify where the X Education product could fulfill some niche. Then, work on a targeted offer, to satisfy clients from specific regions' needs.\n",
    "\n",
    "### #3 Leads top 3 specializations are the same both for converted and not converted leads\n",
    "\n",
    "In both cases, Finance Management, Marketing Management, and Human Resources Management Specialization types are chosen most often. A good idea would be, to prepare some personalized offers for those domains, and focus 80 % of the marketing/sales forces on them (Pareto rule).\n",
    "\n",
    "### #4 X Education product is most popular among people who are currently Unemployed\n",
    "\n",
    "Adjusting tone of voice and promotional educational materials to people looking for a job, could improve brand awareness and help with spreading the word about the product. Yet don't forget about the Working Professionals, as they can have higher Lead Value, despite that there are fewer of them.\n",
    "\n",
    "**If you got to this point - thank you for your time! [Here is my LinkedIn profile](https://www.linkedin.com/in/iza-rokita/), feel free to connect in any matter relevant. Have an insightful day!**"
   ]
  }
 ],
 "metadata": {
  "kernelspec": {
   "display_name": "Python 3 (ipykernel)",
   "language": "python",
   "name": "python3"
  },
  "language_info": {
   "codemirror_mode": {
    "name": "ipython",
    "version": 3
   },
   "file_extension": ".py",
   "mimetype": "text/x-python",
   "name": "python",
   "nbconvert_exporter": "python",
   "pygments_lexer": "ipython3",
   "version": "3.10.9"
  }
 },
 "nbformat": 4,
 "nbformat_minor": 5
}
