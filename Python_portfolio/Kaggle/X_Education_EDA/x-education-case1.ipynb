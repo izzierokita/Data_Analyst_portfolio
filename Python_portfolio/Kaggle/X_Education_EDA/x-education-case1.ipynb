{
 "cells": [
  {
   "cell_type": "markdown",
   "id": "2146316c",
   "metadata": {
    "papermill": {
     "duration": 0.02306,
     "end_time": "2023-05-31T16:33:56.871177",
     "exception": false,
     "start_time": "2023-05-31T16:33:56.848117",
     "status": "completed"
    },
    "tags": []
   },
   "source": [
    "*Note from the author:* \n",
    "*Hey guys! This is my first Kaggle project where I decided to leverage my knowledge about EDA, ETL, Data Visualization (Tableau), Python (NumPy, Pandas, Jupyter Notebook), and Markdown to execute some basic geographical lead segmentations. \n",
    "This is part 1 of the series, stay tuned for more!\n",
    "Feel free to comment and add your feedback - I'm just starting my career as Data Analyst and would love to receive some feedback :)*\n",
    "\n",
    "[This is the dataset I used for my analysis.](https://www.kaggle.com/datasets/amritachatterjee09/lead-scoring-dataset)\n",
    "\n",
    "*Enjoy!*"
   ]
  },
  {
   "cell_type": "code",
   "execution_count": 1,
   "id": "b5ff262d",
   "metadata": {
    "execution": {
     "iopub.execute_input": "2023-05-31T16:33:56.917534Z",
     "iopub.status.busy": "2023-05-31T16:33:56.916572Z",
     "iopub.status.idle": "2023-05-31T16:33:56.929788Z",
     "shell.execute_reply": "2023-05-31T16:33:56.928437Z"
    },
    "papermill": {
     "duration": 0.039761,
     "end_time": "2023-05-31T16:33:56.932927",
     "exception": false,
     "start_time": "2023-05-31T16:33:56.893166",
     "status": "completed"
    },
    "tags": []
   },
   "outputs": [],
   "source": [
    "#importing the Python libraries I will need for my EDA process\n",
    "import numpy as np\n",
    "import pandas as pd"
   ]
  },
  {
   "cell_type": "markdown",
   "id": "715f8e71",
   "metadata": {
    "papermill": {
     "duration": 0.021486,
     "end_time": "2023-05-31T16:33:56.976545",
     "exception": false,
     "start_time": "2023-05-31T16:33:56.955059",
     "status": "completed"
    },
    "tags": []
   },
   "source": [
    "# Step 1: Familiarizing with the dataset + basic Data Cleaning"
   ]
  },
  {
   "cell_type": "code",
   "execution_count": 2,
   "id": "f73dc3f2",
   "metadata": {
    "execution": {
     "iopub.execute_input": "2023-05-31T16:33:57.022195Z",
     "iopub.status.busy": "2023-05-31T16:33:57.021758Z",
     "iopub.status.idle": "2023-05-31T16:33:57.160901Z",
     "shell.execute_reply": "2023-05-31T16:33:57.159665Z"
    },
    "papermill": {
     "duration": 0.165561,
     "end_time": "2023-05-31T16:33:57.164173",
     "exception": false,
     "start_time": "2023-05-31T16:33:56.998612",
     "status": "completed"
    },
    "tags": []
   },
   "outputs": [],
   "source": [
    "df = pd.read_csv('/kaggle/input/lead-scoring-dataset/Lead Scoring.csv') \n",
    "#importing the dataset.csv as a pandas dataframe"
   ]
  },
  {
   "cell_type": "code",
   "execution_count": 3,
   "id": "f27d4538",
   "metadata": {
    "execution": {
     "iopub.execute_input": "2023-05-31T16:33:57.210239Z",
     "iopub.status.busy": "2023-05-31T16:33:57.209519Z",
     "iopub.status.idle": "2023-05-31T16:33:57.268231Z",
     "shell.execute_reply": "2023-05-31T16:33:57.267397Z"
    },
    "papermill": {
     "duration": 0.08504,
     "end_time": "2023-05-31T16:33:57.271012",
     "exception": false,
     "start_time": "2023-05-31T16:33:57.185972",
     "status": "completed"
    },
    "tags": []
   },
   "outputs": [
    {
     "data": {
      "text/html": [
       "<div>\n",
       "<style scoped>\n",
       "    .dataframe tbody tr th:only-of-type {\n",
       "        vertical-align: middle;\n",
       "    }\n",
       "\n",
       "    .dataframe tbody tr th {\n",
       "        vertical-align: top;\n",
       "    }\n",
       "\n",
       "    .dataframe thead th {\n",
       "        text-align: right;\n",
       "    }\n",
       "</style>\n",
       "<table border=\"1\" class=\"dataframe\">\n",
       "  <thead>\n",
       "    <tr style=\"text-align: right;\">\n",
       "      <th></th>\n",
       "      <th>Prospect ID</th>\n",
       "      <th>Lead Number</th>\n",
       "      <th>Lead Origin</th>\n",
       "      <th>Lead Source</th>\n",
       "      <th>Do Not Email</th>\n",
       "      <th>Do Not Call</th>\n",
       "      <th>Converted</th>\n",
       "      <th>TotalVisits</th>\n",
       "      <th>Total Time Spent on Website</th>\n",
       "      <th>Page Views Per Visit</th>\n",
       "      <th>...</th>\n",
       "      <th>Get updates on DM Content</th>\n",
       "      <th>Lead Profile</th>\n",
       "      <th>City</th>\n",
       "      <th>Asymmetrique Activity Index</th>\n",
       "      <th>Asymmetrique Profile Index</th>\n",
       "      <th>Asymmetrique Activity Score</th>\n",
       "      <th>Asymmetrique Profile Score</th>\n",
       "      <th>I agree to pay the amount through cheque</th>\n",
       "      <th>A free copy of Mastering The Interview</th>\n",
       "      <th>Last Notable Activity</th>\n",
       "    </tr>\n",
       "  </thead>\n",
       "  <tbody>\n",
       "    <tr>\n",
       "      <th>0</th>\n",
       "      <td>7927b2df-8bba-4d29-b9a2-b6e0beafe620</td>\n",
       "      <td>660737</td>\n",
       "      <td>API</td>\n",
       "      <td>Olark Chat</td>\n",
       "      <td>No</td>\n",
       "      <td>No</td>\n",
       "      <td>0</td>\n",
       "      <td>0.0</td>\n",
       "      <td>0</td>\n",
       "      <td>0.0</td>\n",
       "      <td>...</td>\n",
       "      <td>No</td>\n",
       "      <td>Select</td>\n",
       "      <td>Select</td>\n",
       "      <td>02.Medium</td>\n",
       "      <td>02.Medium</td>\n",
       "      <td>15.0</td>\n",
       "      <td>15.0</td>\n",
       "      <td>No</td>\n",
       "      <td>No</td>\n",
       "      <td>Modified</td>\n",
       "    </tr>\n",
       "    <tr>\n",
       "      <th>1</th>\n",
       "      <td>2a272436-5132-4136-86fa-dcc88c88f482</td>\n",
       "      <td>660728</td>\n",
       "      <td>API</td>\n",
       "      <td>Organic Search</td>\n",
       "      <td>No</td>\n",
       "      <td>No</td>\n",
       "      <td>0</td>\n",
       "      <td>5.0</td>\n",
       "      <td>674</td>\n",
       "      <td>2.5</td>\n",
       "      <td>...</td>\n",
       "      <td>No</td>\n",
       "      <td>Select</td>\n",
       "      <td>Select</td>\n",
       "      <td>02.Medium</td>\n",
       "      <td>02.Medium</td>\n",
       "      <td>15.0</td>\n",
       "      <td>15.0</td>\n",
       "      <td>No</td>\n",
       "      <td>No</td>\n",
       "      <td>Email Opened</td>\n",
       "    </tr>\n",
       "    <tr>\n",
       "      <th>2</th>\n",
       "      <td>8cc8c611-a219-4f35-ad23-fdfd2656bd8a</td>\n",
       "      <td>660727</td>\n",
       "      <td>Landing Page Submission</td>\n",
       "      <td>Direct Traffic</td>\n",
       "      <td>No</td>\n",
       "      <td>No</td>\n",
       "      <td>1</td>\n",
       "      <td>2.0</td>\n",
       "      <td>1532</td>\n",
       "      <td>2.0</td>\n",
       "      <td>...</td>\n",
       "      <td>No</td>\n",
       "      <td>Potential Lead</td>\n",
       "      <td>Mumbai</td>\n",
       "      <td>02.Medium</td>\n",
       "      <td>01.High</td>\n",
       "      <td>14.0</td>\n",
       "      <td>20.0</td>\n",
       "      <td>No</td>\n",
       "      <td>Yes</td>\n",
       "      <td>Email Opened</td>\n",
       "    </tr>\n",
       "    <tr>\n",
       "      <th>3</th>\n",
       "      <td>0cc2df48-7cf4-4e39-9de9-19797f9b38cc</td>\n",
       "      <td>660719</td>\n",
       "      <td>Landing Page Submission</td>\n",
       "      <td>Direct Traffic</td>\n",
       "      <td>No</td>\n",
       "      <td>No</td>\n",
       "      <td>0</td>\n",
       "      <td>1.0</td>\n",
       "      <td>305</td>\n",
       "      <td>1.0</td>\n",
       "      <td>...</td>\n",
       "      <td>No</td>\n",
       "      <td>Select</td>\n",
       "      <td>Mumbai</td>\n",
       "      <td>02.Medium</td>\n",
       "      <td>01.High</td>\n",
       "      <td>13.0</td>\n",
       "      <td>17.0</td>\n",
       "      <td>No</td>\n",
       "      <td>No</td>\n",
       "      <td>Modified</td>\n",
       "    </tr>\n",
       "    <tr>\n",
       "      <th>4</th>\n",
       "      <td>3256f628-e534-4826-9d63-4a8b88782852</td>\n",
       "      <td>660681</td>\n",
       "      <td>Landing Page Submission</td>\n",
       "      <td>Google</td>\n",
       "      <td>No</td>\n",
       "      <td>No</td>\n",
       "      <td>1</td>\n",
       "      <td>2.0</td>\n",
       "      <td>1428</td>\n",
       "      <td>1.0</td>\n",
       "      <td>...</td>\n",
       "      <td>No</td>\n",
       "      <td>Select</td>\n",
       "      <td>Mumbai</td>\n",
       "      <td>02.Medium</td>\n",
       "      <td>01.High</td>\n",
       "      <td>15.0</td>\n",
       "      <td>18.0</td>\n",
       "      <td>No</td>\n",
       "      <td>No</td>\n",
       "      <td>Modified</td>\n",
       "    </tr>\n",
       "    <tr>\n",
       "      <th>5</th>\n",
       "      <td>2058ef08-2858-443e-a01f-a9237db2f5ce</td>\n",
       "      <td>660680</td>\n",
       "      <td>API</td>\n",
       "      <td>Olark Chat</td>\n",
       "      <td>No</td>\n",
       "      <td>No</td>\n",
       "      <td>0</td>\n",
       "      <td>0.0</td>\n",
       "      <td>0</td>\n",
       "      <td>0.0</td>\n",
       "      <td>...</td>\n",
       "      <td>No</td>\n",
       "      <td>NaN</td>\n",
       "      <td>NaN</td>\n",
       "      <td>01.High</td>\n",
       "      <td>02.Medium</td>\n",
       "      <td>17.0</td>\n",
       "      <td>15.0</td>\n",
       "      <td>No</td>\n",
       "      <td>No</td>\n",
       "      <td>Modified</td>\n",
       "    </tr>\n",
       "    <tr>\n",
       "      <th>6</th>\n",
       "      <td>9fae7df4-169d-489b-afe4-0f3d752542ed</td>\n",
       "      <td>660673</td>\n",
       "      <td>Landing Page Submission</td>\n",
       "      <td>Google</td>\n",
       "      <td>No</td>\n",
       "      <td>No</td>\n",
       "      <td>1</td>\n",
       "      <td>2.0</td>\n",
       "      <td>1640</td>\n",
       "      <td>2.0</td>\n",
       "      <td>...</td>\n",
       "      <td>No</td>\n",
       "      <td>Potential Lead</td>\n",
       "      <td>Mumbai</td>\n",
       "      <td>02.Medium</td>\n",
       "      <td>01.High</td>\n",
       "      <td>14.0</td>\n",
       "      <td>20.0</td>\n",
       "      <td>No</td>\n",
       "      <td>No</td>\n",
       "      <td>Modified</td>\n",
       "    </tr>\n",
       "    <tr>\n",
       "      <th>7</th>\n",
       "      <td>20ef72a2-fb3b-45e0-924e-551c5fa59095</td>\n",
       "      <td>660664</td>\n",
       "      <td>API</td>\n",
       "      <td>Olark Chat</td>\n",
       "      <td>No</td>\n",
       "      <td>No</td>\n",
       "      <td>0</td>\n",
       "      <td>0.0</td>\n",
       "      <td>0</td>\n",
       "      <td>0.0</td>\n",
       "      <td>...</td>\n",
       "      <td>No</td>\n",
       "      <td>NaN</td>\n",
       "      <td>NaN</td>\n",
       "      <td>02.Medium</td>\n",
       "      <td>02.Medium</td>\n",
       "      <td>15.0</td>\n",
       "      <td>15.0</td>\n",
       "      <td>No</td>\n",
       "      <td>No</td>\n",
       "      <td>Modified</td>\n",
       "    </tr>\n",
       "    <tr>\n",
       "      <th>8</th>\n",
       "      <td>cfa0128c-a0da-4656-9d47-0aa4e67bf690</td>\n",
       "      <td>660624</td>\n",
       "      <td>Landing Page Submission</td>\n",
       "      <td>Direct Traffic</td>\n",
       "      <td>No</td>\n",
       "      <td>No</td>\n",
       "      <td>0</td>\n",
       "      <td>2.0</td>\n",
       "      <td>71</td>\n",
       "      <td>2.0</td>\n",
       "      <td>...</td>\n",
       "      <td>No</td>\n",
       "      <td>NaN</td>\n",
       "      <td>Thane &amp; Outskirts</td>\n",
       "      <td>02.Medium</td>\n",
       "      <td>02.Medium</td>\n",
       "      <td>14.0</td>\n",
       "      <td>14.0</td>\n",
       "      <td>No</td>\n",
       "      <td>Yes</td>\n",
       "      <td>Email Opened</td>\n",
       "    </tr>\n",
       "    <tr>\n",
       "      <th>9</th>\n",
       "      <td>af465dfc-7204-4130-9e05-33231863c4b5</td>\n",
       "      <td>660616</td>\n",
       "      <td>API</td>\n",
       "      <td>Google</td>\n",
       "      <td>No</td>\n",
       "      <td>No</td>\n",
       "      <td>0</td>\n",
       "      <td>4.0</td>\n",
       "      <td>58</td>\n",
       "      <td>4.0</td>\n",
       "      <td>...</td>\n",
       "      <td>No</td>\n",
       "      <td>NaN</td>\n",
       "      <td>Mumbai</td>\n",
       "      <td>02.Medium</td>\n",
       "      <td>02.Medium</td>\n",
       "      <td>13.0</td>\n",
       "      <td>16.0</td>\n",
       "      <td>No</td>\n",
       "      <td>No</td>\n",
       "      <td>Email Opened</td>\n",
       "    </tr>\n",
       "  </tbody>\n",
       "</table>\n",
       "<p>10 rows × 37 columns</p>\n",
       "</div>"
      ],
      "text/plain": [
       "                            Prospect ID  Lead Number              Lead Origin  \\\n",
       "0  7927b2df-8bba-4d29-b9a2-b6e0beafe620       660737                      API   \n",
       "1  2a272436-5132-4136-86fa-dcc88c88f482       660728                      API   \n",
       "2  8cc8c611-a219-4f35-ad23-fdfd2656bd8a       660727  Landing Page Submission   \n",
       "3  0cc2df48-7cf4-4e39-9de9-19797f9b38cc       660719  Landing Page Submission   \n",
       "4  3256f628-e534-4826-9d63-4a8b88782852       660681  Landing Page Submission   \n",
       "5  2058ef08-2858-443e-a01f-a9237db2f5ce       660680                      API   \n",
       "6  9fae7df4-169d-489b-afe4-0f3d752542ed       660673  Landing Page Submission   \n",
       "7  20ef72a2-fb3b-45e0-924e-551c5fa59095       660664                      API   \n",
       "8  cfa0128c-a0da-4656-9d47-0aa4e67bf690       660624  Landing Page Submission   \n",
       "9  af465dfc-7204-4130-9e05-33231863c4b5       660616                      API   \n",
       "\n",
       "      Lead Source Do Not Email Do Not Call  Converted  TotalVisits  \\\n",
       "0      Olark Chat           No          No          0          0.0   \n",
       "1  Organic Search           No          No          0          5.0   \n",
       "2  Direct Traffic           No          No          1          2.0   \n",
       "3  Direct Traffic           No          No          0          1.0   \n",
       "4          Google           No          No          1          2.0   \n",
       "5      Olark Chat           No          No          0          0.0   \n",
       "6          Google           No          No          1          2.0   \n",
       "7      Olark Chat           No          No          0          0.0   \n",
       "8  Direct Traffic           No          No          0          2.0   \n",
       "9          Google           No          No          0          4.0   \n",
       "\n",
       "   Total Time Spent on Website  Page Views Per Visit  ...  \\\n",
       "0                            0                   0.0  ...   \n",
       "1                          674                   2.5  ...   \n",
       "2                         1532                   2.0  ...   \n",
       "3                          305                   1.0  ...   \n",
       "4                         1428                   1.0  ...   \n",
       "5                            0                   0.0  ...   \n",
       "6                         1640                   2.0  ...   \n",
       "7                            0                   0.0  ...   \n",
       "8                           71                   2.0  ...   \n",
       "9                           58                   4.0  ...   \n",
       "\n",
       "  Get updates on DM Content    Lead Profile               City  \\\n",
       "0                        No          Select             Select   \n",
       "1                        No          Select             Select   \n",
       "2                        No  Potential Lead             Mumbai   \n",
       "3                        No          Select             Mumbai   \n",
       "4                        No          Select             Mumbai   \n",
       "5                        No             NaN                NaN   \n",
       "6                        No  Potential Lead             Mumbai   \n",
       "7                        No             NaN                NaN   \n",
       "8                        No             NaN  Thane & Outskirts   \n",
       "9                        No             NaN             Mumbai   \n",
       "\n",
       "  Asymmetrique Activity Index Asymmetrique Profile Index  \\\n",
       "0                   02.Medium                  02.Medium   \n",
       "1                   02.Medium                  02.Medium   \n",
       "2                   02.Medium                    01.High   \n",
       "3                   02.Medium                    01.High   \n",
       "4                   02.Medium                    01.High   \n",
       "5                     01.High                  02.Medium   \n",
       "6                   02.Medium                    01.High   \n",
       "7                   02.Medium                  02.Medium   \n",
       "8                   02.Medium                  02.Medium   \n",
       "9                   02.Medium                  02.Medium   \n",
       "\n",
       "  Asymmetrique Activity Score Asymmetrique Profile Score  \\\n",
       "0                        15.0                       15.0   \n",
       "1                        15.0                       15.0   \n",
       "2                        14.0                       20.0   \n",
       "3                        13.0                       17.0   \n",
       "4                        15.0                       18.0   \n",
       "5                        17.0                       15.0   \n",
       "6                        14.0                       20.0   \n",
       "7                        15.0                       15.0   \n",
       "8                        14.0                       14.0   \n",
       "9                        13.0                       16.0   \n",
       "\n",
       "  I agree to pay the amount through cheque  \\\n",
       "0                                       No   \n",
       "1                                       No   \n",
       "2                                       No   \n",
       "3                                       No   \n",
       "4                                       No   \n",
       "5                                       No   \n",
       "6                                       No   \n",
       "7                                       No   \n",
       "8                                       No   \n",
       "9                                       No   \n",
       "\n",
       "  A free copy of Mastering The Interview Last Notable Activity  \n",
       "0                                     No              Modified  \n",
       "1                                     No          Email Opened  \n",
       "2                                    Yes          Email Opened  \n",
       "3                                     No              Modified  \n",
       "4                                     No              Modified  \n",
       "5                                     No              Modified  \n",
       "6                                     No              Modified  \n",
       "7                                     No              Modified  \n",
       "8                                    Yes          Email Opened  \n",
       "9                                     No          Email Opened  \n",
       "\n",
       "[10 rows x 37 columns]"
      ]
     },
     "execution_count": 3,
     "metadata": {},
     "output_type": "execute_result"
    }
   ],
   "source": [
    "df.head(10) \n",
    "#checking how the first 10 rows look like"
   ]
  },
  {
   "cell_type": "code",
   "execution_count": 4,
   "id": "9a633564",
   "metadata": {
    "execution": {
     "iopub.execute_input": "2023-05-31T16:33:57.317988Z",
     "iopub.status.busy": "2023-05-31T16:33:57.317133Z",
     "iopub.status.idle": "2023-05-31T16:33:57.323692Z",
     "shell.execute_reply": "2023-05-31T16:33:57.322801Z"
    },
    "papermill": {
     "duration": 0.03265,
     "end_time": "2023-05-31T16:33:57.325960",
     "exception": false,
     "start_time": "2023-05-31T16:33:57.293310",
     "status": "completed"
    },
    "tags": []
   },
   "outputs": [
    {
     "data": {
      "text/plain": [
       "(9240, 37)"
      ]
     },
     "execution_count": 4,
     "metadata": {},
     "output_type": "execute_result"
    }
   ],
   "source": [
    "df.shape \n",
    "#checking the shape of the database, which have 9240 rows and 37 columns"
   ]
  },
  {
   "cell_type": "code",
   "execution_count": 5,
   "id": "292b9970",
   "metadata": {
    "execution": {
     "iopub.execute_input": "2023-05-31T16:33:57.374456Z",
     "iopub.status.busy": "2023-05-31T16:33:57.373990Z",
     "iopub.status.idle": "2023-05-31T16:33:57.384118Z",
     "shell.execute_reply": "2023-05-31T16:33:57.382672Z"
    },
    "papermill": {
     "duration": 0.037796,
     "end_time": "2023-05-31T16:33:57.386930",
     "exception": false,
     "start_time": "2023-05-31T16:33:57.349134",
     "status": "completed"
    },
    "tags": []
   },
   "outputs": [
    {
     "data": {
      "text/plain": [
       "Prospect ID                                       object\n",
       "Lead Number                                        int64\n",
       "Lead Origin                                       object\n",
       "Lead Source                                       object\n",
       "Do Not Email                                      object\n",
       "Do Not Call                                       object\n",
       "Converted                                          int64\n",
       "TotalVisits                                      float64\n",
       "Total Time Spent on Website                        int64\n",
       "Page Views Per Visit                             float64\n",
       "Last Activity                                     object\n",
       "Country                                           object\n",
       "Specialization                                    object\n",
       "How did you hear about X Education                object\n",
       "What is your current occupation                   object\n",
       "What matters most to you in choosing a course     object\n",
       "Search                                            object\n",
       "Magazine                                          object\n",
       "Newspaper Article                                 object\n",
       "X Education Forums                                object\n",
       "Newspaper                                         object\n",
       "Digital Advertisement                             object\n",
       "Through Recommendations                           object\n",
       "Receive More Updates About Our Courses            object\n",
       "Tags                                              object\n",
       "Lead Quality                                      object\n",
       "Update me on Supply Chain Content                 object\n",
       "Get updates on DM Content                         object\n",
       "Lead Profile                                      object\n",
       "City                                              object\n",
       "Asymmetrique Activity Index                       object\n",
       "Asymmetrique Profile Index                        object\n",
       "Asymmetrique Activity Score                      float64\n",
       "Asymmetrique Profile Score                       float64\n",
       "I agree to pay the amount through cheque          object\n",
       "A free copy of Mastering The Interview            object\n",
       "Last Notable Activity                             object\n",
       "dtype: object"
      ]
     },
     "execution_count": 5,
     "metadata": {},
     "output_type": "execute_result"
    }
   ],
   "source": [
    "df.dtypes \n",
    "#checking the values data types, in case some adjustments needed"
   ]
  },
  {
   "cell_type": "code",
   "execution_count": 6,
   "id": "f7d55974",
   "metadata": {
    "execution": {
     "iopub.execute_input": "2023-05-31T16:33:57.439390Z",
     "iopub.status.busy": "2023-05-31T16:33:57.438900Z",
     "iopub.status.idle": "2023-05-31T16:33:57.555693Z",
     "shell.execute_reply": "2023-05-31T16:33:57.553754Z"
    },
    "papermill": {
     "duration": 0.148348,
     "end_time": "2023-05-31T16:33:57.559231",
     "exception": false,
     "start_time": "2023-05-31T16:33:57.410883",
     "status": "completed"
    },
    "tags": []
   },
   "outputs": [
    {
     "name": "stdout",
     "output_type": "stream",
     "text": [
      "<class 'pandas.core.frame.DataFrame'>\n",
      "RangeIndex: 9240 entries, 0 to 9239\n",
      "Data columns (total 37 columns):\n",
      " #   Column                                         Non-Null Count  Dtype  \n",
      "---  ------                                         --------------  -----  \n",
      " 0   Prospect ID                                    9240 non-null   object \n",
      " 1   Lead Number                                    9240 non-null   int64  \n",
      " 2   Lead Origin                                    9240 non-null   object \n",
      " 3   Lead Source                                    9204 non-null   object \n",
      " 4   Do Not Email                                   9240 non-null   object \n",
      " 5   Do Not Call                                    9240 non-null   object \n",
      " 6   Converted                                      9240 non-null   int64  \n",
      " 7   TotalVisits                                    9103 non-null   float64\n",
      " 8   Total Time Spent on Website                    9240 non-null   int64  \n",
      " 9   Page Views Per Visit                           9103 non-null   float64\n",
      " 10  Last Activity                                  9137 non-null   object \n",
      " 11  Country                                        6779 non-null   object \n",
      " 12  Specialization                                 7802 non-null   object \n",
      " 13  How did you hear about X Education             7033 non-null   object \n",
      " 14  What is your current occupation                6550 non-null   object \n",
      " 15  What matters most to you in choosing a course  6531 non-null   object \n",
      " 16  Search                                         9240 non-null   object \n",
      " 17  Magazine                                       9240 non-null   object \n",
      " 18  Newspaper Article                              9240 non-null   object \n",
      " 19  X Education Forums                             9240 non-null   object \n",
      " 20  Newspaper                                      9240 non-null   object \n",
      " 21  Digital Advertisement                          9240 non-null   object \n",
      " 22  Through Recommendations                        9240 non-null   object \n",
      " 23  Receive More Updates About Our Courses         9240 non-null   object \n",
      " 24  Tags                                           5887 non-null   object \n",
      " 25  Lead Quality                                   4473 non-null   object \n",
      " 26  Update me on Supply Chain Content              9240 non-null   object \n",
      " 27  Get updates on DM Content                      9240 non-null   object \n",
      " 28  Lead Profile                                   6531 non-null   object \n",
      " 29  City                                           7820 non-null   object \n",
      " 30  Asymmetrique Activity Index                    5022 non-null   object \n",
      " 31  Asymmetrique Profile Index                     5022 non-null   object \n",
      " 32  Asymmetrique Activity Score                    5022 non-null   float64\n",
      " 33  Asymmetrique Profile Score                     5022 non-null   float64\n",
      " 34  I agree to pay the amount through cheque       9240 non-null   object \n",
      " 35  A free copy of Mastering The Interview         9240 non-null   object \n",
      " 36  Last Notable Activity                          9240 non-null   object \n",
      "dtypes: float64(4), int64(3), object(30)\n",
      "memory usage: 2.6+ MB\n"
     ]
    }
   ],
   "source": [
    "df.info() \n",
    "#checking for Null values "
   ]
  },
  {
   "cell_type": "markdown",
   "id": "c7b57598",
   "metadata": {
    "papermill": {
     "duration": 0.024741,
     "end_time": "2023-05-31T16:33:57.608537",
     "exception": false,
     "start_time": "2023-05-31T16:33:57.583796",
     "status": "completed"
    },
    "tags": []
   },
   "source": [
    "We can see, that there are some values missing in columns:\n",
    "*     Lead Source\n",
    "*     TotalVisits \n",
    "*     Page Views Per Visit\n",
    "*     Last Activity\n",
    "*     Country\n",
    "*     Specialization\n",
    "*     How did you hear about X Education\n",
    "*     What is your current occupation\n",
    "*     What matters most to you in choosing a course\n",
    "*     Tags\n",
    "*     Lead Quality\n",
    "*     Lead Profile \n",
    "*     City\n",
    "*     Asymmetrique Activity Index\n",
    "*     Asymmetrique Profile Index\n",
    "*     Asymmetrique Activity Score \n",
    "*     Asymmetrique Profile Score"
   ]
  },
  {
   "cell_type": "code",
   "execution_count": 7,
   "id": "4bcb12b4",
   "metadata": {
    "execution": {
     "iopub.execute_input": "2023-05-31T16:33:57.659490Z",
     "iopub.status.busy": "2023-05-31T16:33:57.658324Z",
     "iopub.status.idle": "2023-05-31T16:33:57.668285Z",
     "shell.execute_reply": "2023-05-31T16:33:57.667078Z"
    },
    "papermill": {
     "duration": 0.037731,
     "end_time": "2023-05-31T16:33:57.670952",
     "exception": false,
     "start_time": "2023-05-31T16:33:57.633221",
     "status": "completed"
    },
    "tags": []
   },
   "outputs": [
    {
     "data": {
      "text/plain": [
       "<bound method Series.duplicated of 0                           API\n",
       "1                           API\n",
       "2       Landing Page Submission\n",
       "3       Landing Page Submission\n",
       "4       Landing Page Submission\n",
       "                 ...           \n",
       "9235    Landing Page Submission\n",
       "9236    Landing Page Submission\n",
       "9237    Landing Page Submission\n",
       "9238    Landing Page Submission\n",
       "9239    Landing Page Submission\n",
       "Name: Lead Origin, Length: 9240, dtype: object>"
      ]
     },
     "execution_count": 7,
     "metadata": {},
     "output_type": "execute_result"
    }
   ],
   "source": [
    "df['Lead Origin'].duplicated \n",
    "#checking for duplicates - as there are none, will use that columnd as an ID key"
   ]
  },
  {
   "cell_type": "markdown",
   "id": "1160326c",
   "metadata": {
    "papermill": {
     "duration": 0.028038,
     "end_time": "2023-05-31T16:33:57.723916",
     "exception": false,
     "start_time": "2023-05-31T16:33:57.695878",
     "status": "completed"
    },
    "tags": []
   },
   "source": [
    "# Step 2 - Further data exploration \n",
    "\n",
    "Choosing the most suitable columns, checking the columns unique values and formulating EDA questions, to find answers based on data"
   ]
  },
  {
   "cell_type": "markdown",
   "id": "831059a6",
   "metadata": {
    "papermill": {
     "duration": 0.025421,
     "end_time": "2023-05-31T16:33:57.775129",
     "exception": false,
     "start_time": "2023-05-31T16:33:57.749708",
     "status": "completed"
    },
    "tags": []
   },
   "source": [
    " ## For this Exploratory Data Analysis project, I've decided to focus on specific columns:\n",
    " \n",
    "**Lead Number** - to identify each lead, *int64*\n",
    "\n",
    "**Lead Origin** - to explore, is there any connection between the lead sign-up location and the conversion rate, *object*\n",
    "\n",
    "**Converted** - very important column, showing, did the lead eventually convert or not, *int64*\n",
    "\n",
    "**Total Visits** - the column import for measuring the online engagement of the lead, *float64*\n",
    "\n",
    "**Total Time Spent** - the column important for measuring the online engagement of the lead, *int64*\n",
    "\n",
    "**Page Views Per Visit** - the column important for measuring the online engagement of the lead, *float64*\n",
    "\n",
    "**Country** - important for persona analysis, *object*\n",
    "\n",
    "**Specialization** - important for persona analysis, *object*\n",
    "\n",
    "**Occupation** - important for persona analysis, *object*\n",
    "\n",
    "**Lead Quality** - important for determining the quality of the contact, *object*\n"
   ]
  },
  {
   "cell_type": "markdown",
   "id": "27f98ea9",
   "metadata": {
    "papermill": {
     "duration": 0.025069,
     "end_time": "2023-05-31T16:33:57.824885",
     "exception": false,
     "start_time": "2023-05-31T16:33:57.799816",
     "status": "completed"
    },
    "tags": []
   },
   "source": [
    "## These are exemplary questions I want to find answers for based on these dataset:\n",
    "1. How many converted leads come from top 10 countries, sorted from highest to lowest number for each country? **In this notebook, we'll focus on this question**\n",
    "2. How does the lead quality looks like in comparison to the lead Occupation and Specialization?\n",
    "3. How does the online marketing engagement (Total Visits, Total Time Spent, Page Views Per Visit, Lead Origin) influence the probability of the lead conversion?"
   ]
  },
  {
   "cell_type": "code",
   "execution_count": 8,
   "id": "b93db16a",
   "metadata": {
    "execution": {
     "iopub.execute_input": "2023-05-31T16:33:57.873893Z",
     "iopub.status.busy": "2023-05-31T16:33:57.873482Z",
     "iopub.status.idle": "2023-05-31T16:33:57.881762Z",
     "shell.execute_reply": "2023-05-31T16:33:57.880455Z"
    },
    "papermill": {
     "duration": 0.036122,
     "end_time": "2023-05-31T16:33:57.884621",
     "exception": false,
     "start_time": "2023-05-31T16:33:57.848499",
     "status": "completed"
    },
    "tags": []
   },
   "outputs": [
    {
     "data": {
      "text/plain": [
       "array(['Low in Relevance', nan, 'Might be', 'Not Sure', 'Worst',\n",
       "       'High in Relevance'], dtype=object)"
      ]
     },
     "execution_count": 8,
     "metadata": {},
     "output_type": "execute_result"
    }
   ],
   "source": [
    "df['Lead Quality'].unique() \n",
    "#checking the unique Lead Quality values"
   ]
  },
  {
   "cell_type": "code",
   "execution_count": 9,
   "id": "35d984d6",
   "metadata": {
    "execution": {
     "iopub.execute_input": "2023-05-31T16:33:57.937111Z",
     "iopub.status.busy": "2023-05-31T16:33:57.936699Z",
     "iopub.status.idle": "2023-05-31T16:33:57.945514Z",
     "shell.execute_reply": "2023-05-31T16:33:57.944308Z"
    },
    "papermill": {
     "duration": 0.039085,
     "end_time": "2023-05-31T16:33:57.948893",
     "exception": false,
     "start_time": "2023-05-31T16:33:57.909808",
     "status": "completed"
    },
    "tags": []
   },
   "outputs": [
    {
     "data": {
      "text/plain": [
       "array([nan, 'India', 'Russia', 'Kuwait', 'Oman', 'United Arab Emirates',\n",
       "       'United States', 'Australia', 'United Kingdom', 'Bahrain', 'Ghana',\n",
       "       'Singapore', 'Qatar', 'Saudi Arabia', 'Belgium', 'France',\n",
       "       'Sri Lanka', 'China', 'Canada', 'Netherlands', 'Sweden', 'Nigeria',\n",
       "       'Hong Kong', 'Germany', 'Asia/Pacific Region', 'Uganda', 'Kenya',\n",
       "       'Italy', 'South Africa', 'Tanzania', 'unknown', 'Malaysia',\n",
       "       'Liberia', 'Switzerland', 'Denmark', 'Philippines', 'Bangladesh',\n",
       "       'Vietnam', 'Indonesia'], dtype=object)"
      ]
     },
     "execution_count": 9,
     "metadata": {},
     "output_type": "execute_result"
    }
   ],
   "source": [
    "df['Country'].unique() \n",
    "#checking the unique Country values"
   ]
  },
  {
   "cell_type": "code",
   "execution_count": 10,
   "id": "b9f649a5",
   "metadata": {
    "execution": {
     "iopub.execute_input": "2023-05-31T16:33:57.999761Z",
     "iopub.status.busy": "2023-05-31T16:33:57.999329Z",
     "iopub.status.idle": "2023-05-31T16:33:58.007602Z",
     "shell.execute_reply": "2023-05-31T16:33:58.006386Z"
    },
    "papermill": {
     "duration": 0.037511,
     "end_time": "2023-05-31T16:33:58.010747",
     "exception": false,
     "start_time": "2023-05-31T16:33:57.973236",
     "status": "completed"
    },
    "tags": []
   },
   "outputs": [
    {
     "data": {
      "text/plain": [
       "array(['API', 'Landing Page Submission', 'Lead Add Form', 'Lead Import',\n",
       "       'Quick Add Form'], dtype=object)"
      ]
     },
     "execution_count": 10,
     "metadata": {},
     "output_type": "execute_result"
    }
   ],
   "source": [
    "df['Lead Origin'].unique() \n",
    "#checking the unique Lead Origin values"
   ]
  },
  {
   "cell_type": "code",
   "execution_count": 11,
   "id": "5f1cc671",
   "metadata": {
    "execution": {
     "iopub.execute_input": "2023-05-31T16:33:58.062011Z",
     "iopub.status.busy": "2023-05-31T16:33:58.061595Z",
     "iopub.status.idle": "2023-05-31T16:33:58.070894Z",
     "shell.execute_reply": "2023-05-31T16:33:58.069776Z"
    },
    "papermill": {
     "duration": 0.038181,
     "end_time": "2023-05-31T16:33:58.073810",
     "exception": false,
     "start_time": "2023-05-31T16:33:58.035629",
     "status": "completed"
    },
    "tags": []
   },
   "outputs": [
    {
     "data": {
      "text/plain": [
       "array([0, 1])"
      ]
     },
     "execution_count": 11,
     "metadata": {},
     "output_type": "execute_result"
    }
   ],
   "source": [
    "df['Converted'].unique() \n",
    "#simple \"yes\" or \"no\" integer statement, this is what I like! ;)"
   ]
  },
  {
   "cell_type": "code",
   "execution_count": 12,
   "id": "5345cdb0",
   "metadata": {
    "execution": {
     "iopub.execute_input": "2023-05-31T16:33:58.124075Z",
     "iopub.status.busy": "2023-05-31T16:33:58.123265Z",
     "iopub.status.idle": "2023-05-31T16:33:58.131388Z",
     "shell.execute_reply": "2023-05-31T16:33:58.130291Z"
    },
    "papermill": {
     "duration": 0.035537,
     "end_time": "2023-05-31T16:33:58.133672",
     "exception": false,
     "start_time": "2023-05-31T16:33:58.098135",
     "status": "completed"
    },
    "tags": []
   },
   "outputs": [
    {
     "data": {
      "text/plain": [
       "array(['Select', 'Business Administration', 'Media and Advertising', nan,\n",
       "       'Supply Chain Management', 'IT Projects Management',\n",
       "       'Finance Management', 'Travel and Tourism',\n",
       "       'Human Resource Management', 'Marketing Management',\n",
       "       'Banking, Investment And Insurance', 'International Business',\n",
       "       'E-COMMERCE', 'Operations Management', 'Retail Management',\n",
       "       'Services Excellence', 'Hospitality Management',\n",
       "       'Rural and Agribusiness', 'Healthcare Management', 'E-Business'],\n",
       "      dtype=object)"
      ]
     },
     "execution_count": 12,
     "metadata": {},
     "output_type": "execute_result"
    }
   ],
   "source": [
    "df['Specialization'].unique()\n",
    "#checking the unique Specialization values"
   ]
  },
  {
   "cell_type": "code",
   "execution_count": 13,
   "id": "1a85f88d",
   "metadata": {
    "execution": {
     "iopub.execute_input": "2023-05-31T16:33:58.183517Z",
     "iopub.status.busy": "2023-05-31T16:33:58.182769Z",
     "iopub.status.idle": "2023-05-31T16:33:58.190758Z",
     "shell.execute_reply": "2023-05-31T16:33:58.189604Z"
    },
    "papermill": {
     "duration": 0.036022,
     "end_time": "2023-05-31T16:33:58.193083",
     "exception": false,
     "start_time": "2023-05-31T16:33:58.157061",
     "status": "completed"
    },
    "tags": []
   },
   "outputs": [
    {
     "data": {
      "text/plain": [
       "array(['Unemployed', 'Student', nan, 'Working Professional',\n",
       "       'Businessman', 'Other', 'Housewife'], dtype=object)"
      ]
     },
     "execution_count": 13,
     "metadata": {},
     "output_type": "execute_result"
    }
   ],
   "source": [
    "#checking the unique values for What is your curent occupation column\n",
    "df['What is your current occupation'].unique() "
   ]
  },
  {
   "cell_type": "markdown",
   "id": "872f13a9",
   "metadata": {
    "papermill": {
     "duration": 0.023388,
     "end_time": "2023-05-31T16:33:58.241028",
     "exception": false,
     "start_time": "2023-05-31T16:33:58.217640",
     "status": "completed"
    },
    "tags": []
   },
   "source": [
    "# Step 3 - Initial dataset transforming for future analysis (ETL)"
   ]
  },
  {
   "cell_type": "code",
   "execution_count": 14,
   "id": "c2eac956",
   "metadata": {
    "execution": {
     "iopub.execute_input": "2023-05-31T16:33:58.291139Z",
     "iopub.status.busy": "2023-05-31T16:33:58.290323Z",
     "iopub.status.idle": "2023-05-31T16:33:58.295979Z",
     "shell.execute_reply": "2023-05-31T16:33:58.295132Z"
    },
    "papermill": {
     "duration": 0.033752,
     "end_time": "2023-05-31T16:33:58.298594",
     "exception": false,
     "start_time": "2023-05-31T16:33:58.264842",
     "status": "completed"
    },
    "tags": []
   },
   "outputs": [],
   "source": [
    "# creating a variable with chosen columns from the original dataset\n",
    "\n",
    "chosen_columns = ['Lead Number', \n",
    "                  'Lead Origin', \n",
    "                  'Converted', \n",
    "                  'TotalVisits', \n",
    "                  'Total Time Spent on Website', \n",
    "                  'Page Views Per Visit',\n",
    "                  'Country',\n",
    "                  'Specialization',\n",
    "                  'What is your current occupation',\n",
    "                  'Lead Quality'\n",
    "                 ]"
   ]
  },
  {
   "cell_type": "code",
   "execution_count": 15,
   "id": "f1475d7e",
   "metadata": {
    "execution": {
     "iopub.execute_input": "2023-05-31T16:33:58.349694Z",
     "iopub.status.busy": "2023-05-31T16:33:58.348905Z",
     "iopub.status.idle": "2023-05-31T16:33:58.355584Z",
     "shell.execute_reply": "2023-05-31T16:33:58.354675Z"
    },
    "papermill": {
     "duration": 0.035215,
     "end_time": "2023-05-31T16:33:58.358050",
     "exception": false,
     "start_time": "2023-05-31T16:33:58.322835",
     "status": "completed"
    },
    "tags": []
   },
   "outputs": [],
   "source": [
    "custom_df = df[chosen_columns] \n",
    "# creating new data frame with chosen columns"
   ]
  },
  {
   "cell_type": "code",
   "execution_count": 16,
   "id": "8b576aa7",
   "metadata": {
    "execution": {
     "iopub.execute_input": "2023-05-31T16:33:58.409308Z",
     "iopub.status.busy": "2023-05-31T16:33:58.408557Z",
     "iopub.status.idle": "2023-05-31T16:33:58.432581Z",
     "shell.execute_reply": "2023-05-31T16:33:58.431167Z"
    },
    "papermill": {
     "duration": 0.052767,
     "end_time": "2023-05-31T16:33:58.435437",
     "exception": false,
     "start_time": "2023-05-31T16:33:58.382670",
     "status": "completed"
    },
    "tags": []
   },
   "outputs": [
    {
     "data": {
      "text/html": [
       "<div>\n",
       "<style scoped>\n",
       "    .dataframe tbody tr th:only-of-type {\n",
       "        vertical-align: middle;\n",
       "    }\n",
       "\n",
       "    .dataframe tbody tr th {\n",
       "        vertical-align: top;\n",
       "    }\n",
       "\n",
       "    .dataframe thead th {\n",
       "        text-align: right;\n",
       "    }\n",
       "</style>\n",
       "<table border=\"1\" class=\"dataframe\">\n",
       "  <thead>\n",
       "    <tr style=\"text-align: right;\">\n",
       "      <th></th>\n",
       "      <th>Lead Number</th>\n",
       "      <th>Lead Origin</th>\n",
       "      <th>Converted</th>\n",
       "      <th>TotalVisits</th>\n",
       "      <th>Total Time Spent on Website</th>\n",
       "      <th>Page Views Per Visit</th>\n",
       "      <th>Country</th>\n",
       "      <th>Specialization</th>\n",
       "      <th>What is your current occupation</th>\n",
       "      <th>Lead Quality</th>\n",
       "    </tr>\n",
       "  </thead>\n",
       "  <tbody>\n",
       "    <tr>\n",
       "      <th>0</th>\n",
       "      <td>660737</td>\n",
       "      <td>API</td>\n",
       "      <td>0</td>\n",
       "      <td>0.0</td>\n",
       "      <td>0</td>\n",
       "      <td>0.00</td>\n",
       "      <td>NaN</td>\n",
       "      <td>Select</td>\n",
       "      <td>Unemployed</td>\n",
       "      <td>Low in Relevance</td>\n",
       "    </tr>\n",
       "    <tr>\n",
       "      <th>1</th>\n",
       "      <td>660728</td>\n",
       "      <td>API</td>\n",
       "      <td>0</td>\n",
       "      <td>5.0</td>\n",
       "      <td>674</td>\n",
       "      <td>2.50</td>\n",
       "      <td>India</td>\n",
       "      <td>Select</td>\n",
       "      <td>Unemployed</td>\n",
       "      <td>NaN</td>\n",
       "    </tr>\n",
       "    <tr>\n",
       "      <th>2</th>\n",
       "      <td>660727</td>\n",
       "      <td>Landing Page Submission</td>\n",
       "      <td>1</td>\n",
       "      <td>2.0</td>\n",
       "      <td>1532</td>\n",
       "      <td>2.00</td>\n",
       "      <td>India</td>\n",
       "      <td>Business Administration</td>\n",
       "      <td>Student</td>\n",
       "      <td>Might be</td>\n",
       "    </tr>\n",
       "    <tr>\n",
       "      <th>3</th>\n",
       "      <td>660719</td>\n",
       "      <td>Landing Page Submission</td>\n",
       "      <td>0</td>\n",
       "      <td>1.0</td>\n",
       "      <td>305</td>\n",
       "      <td>1.00</td>\n",
       "      <td>India</td>\n",
       "      <td>Media and Advertising</td>\n",
       "      <td>Unemployed</td>\n",
       "      <td>Not Sure</td>\n",
       "    </tr>\n",
       "    <tr>\n",
       "      <th>4</th>\n",
       "      <td>660681</td>\n",
       "      <td>Landing Page Submission</td>\n",
       "      <td>1</td>\n",
       "      <td>2.0</td>\n",
       "      <td>1428</td>\n",
       "      <td>1.00</td>\n",
       "      <td>India</td>\n",
       "      <td>Select</td>\n",
       "      <td>Unemployed</td>\n",
       "      <td>Might be</td>\n",
       "    </tr>\n",
       "    <tr>\n",
       "      <th>5</th>\n",
       "      <td>660680</td>\n",
       "      <td>API</td>\n",
       "      <td>0</td>\n",
       "      <td>0.0</td>\n",
       "      <td>0</td>\n",
       "      <td>0.00</td>\n",
       "      <td>NaN</td>\n",
       "      <td>NaN</td>\n",
       "      <td>NaN</td>\n",
       "      <td>NaN</td>\n",
       "    </tr>\n",
       "    <tr>\n",
       "      <th>6</th>\n",
       "      <td>660673</td>\n",
       "      <td>Landing Page Submission</td>\n",
       "      <td>1</td>\n",
       "      <td>2.0</td>\n",
       "      <td>1640</td>\n",
       "      <td>2.00</td>\n",
       "      <td>India</td>\n",
       "      <td>Supply Chain Management</td>\n",
       "      <td>Unemployed</td>\n",
       "      <td>Low in Relevance</td>\n",
       "    </tr>\n",
       "    <tr>\n",
       "      <th>7</th>\n",
       "      <td>660664</td>\n",
       "      <td>API</td>\n",
       "      <td>0</td>\n",
       "      <td>0.0</td>\n",
       "      <td>0</td>\n",
       "      <td>0.00</td>\n",
       "      <td>NaN</td>\n",
       "      <td>NaN</td>\n",
       "      <td>NaN</td>\n",
       "      <td>NaN</td>\n",
       "    </tr>\n",
       "    <tr>\n",
       "      <th>8</th>\n",
       "      <td>660624</td>\n",
       "      <td>Landing Page Submission</td>\n",
       "      <td>0</td>\n",
       "      <td>2.0</td>\n",
       "      <td>71</td>\n",
       "      <td>2.00</td>\n",
       "      <td>India</td>\n",
       "      <td>IT Projects Management</td>\n",
       "      <td>NaN</td>\n",
       "      <td>NaN</td>\n",
       "    </tr>\n",
       "    <tr>\n",
       "      <th>9</th>\n",
       "      <td>660616</td>\n",
       "      <td>API</td>\n",
       "      <td>0</td>\n",
       "      <td>4.0</td>\n",
       "      <td>58</td>\n",
       "      <td>4.00</td>\n",
       "      <td>India</td>\n",
       "      <td>Finance Management</td>\n",
       "      <td>NaN</td>\n",
       "      <td>NaN</td>\n",
       "    </tr>\n",
       "    <tr>\n",
       "      <th>10</th>\n",
       "      <td>660608</td>\n",
       "      <td>Landing Page Submission</td>\n",
       "      <td>1</td>\n",
       "      <td>8.0</td>\n",
       "      <td>1351</td>\n",
       "      <td>8.00</td>\n",
       "      <td>India</td>\n",
       "      <td>Travel and Tourism</td>\n",
       "      <td>Unemployed</td>\n",
       "      <td>Might be</td>\n",
       "    </tr>\n",
       "    <tr>\n",
       "      <th>11</th>\n",
       "      <td>660570</td>\n",
       "      <td>Landing Page Submission</td>\n",
       "      <td>1</td>\n",
       "      <td>8.0</td>\n",
       "      <td>1343</td>\n",
       "      <td>2.67</td>\n",
       "      <td>India</td>\n",
       "      <td>Human Resource Management</td>\n",
       "      <td>Unemployed</td>\n",
       "      <td>NaN</td>\n",
       "    </tr>\n",
       "    <tr>\n",
       "      <th>12</th>\n",
       "      <td>660562</td>\n",
       "      <td>API</td>\n",
       "      <td>1</td>\n",
       "      <td>11.0</td>\n",
       "      <td>1538</td>\n",
       "      <td>11.00</td>\n",
       "      <td>India</td>\n",
       "      <td>Marketing Management</td>\n",
       "      <td>Unemployed</td>\n",
       "      <td>Might be</td>\n",
       "    </tr>\n",
       "    <tr>\n",
       "      <th>13</th>\n",
       "      <td>660558</td>\n",
       "      <td>Landing Page Submission</td>\n",
       "      <td>0</td>\n",
       "      <td>5.0</td>\n",
       "      <td>170</td>\n",
       "      <td>5.00</td>\n",
       "      <td>India</td>\n",
       "      <td>Business Administration</td>\n",
       "      <td>Unemployed</td>\n",
       "      <td>NaN</td>\n",
       "    </tr>\n",
       "    <tr>\n",
       "      <th>14</th>\n",
       "      <td>660553</td>\n",
       "      <td>Landing Page Submission</td>\n",
       "      <td>0</td>\n",
       "      <td>1.0</td>\n",
       "      <td>481</td>\n",
       "      <td>1.00</td>\n",
       "      <td>Russia</td>\n",
       "      <td>Business Administration</td>\n",
       "      <td>Unemployed</td>\n",
       "      <td>NaN</td>\n",
       "    </tr>\n",
       "    <tr>\n",
       "      <th>15</th>\n",
       "      <td>660547</td>\n",
       "      <td>API</td>\n",
       "      <td>1</td>\n",
       "      <td>6.0</td>\n",
       "      <td>1012</td>\n",
       "      <td>6.00</td>\n",
       "      <td>India</td>\n",
       "      <td>Select</td>\n",
       "      <td>Unemployed</td>\n",
       "      <td>Might be</td>\n",
       "    </tr>\n",
       "    <tr>\n",
       "      <th>16</th>\n",
       "      <td>660540</td>\n",
       "      <td>API</td>\n",
       "      <td>0</td>\n",
       "      <td>0.0</td>\n",
       "      <td>0</td>\n",
       "      <td>0.00</td>\n",
       "      <td>NaN</td>\n",
       "      <td>NaN</td>\n",
       "      <td>NaN</td>\n",
       "      <td>NaN</td>\n",
       "    </tr>\n",
       "    <tr>\n",
       "      <th>17</th>\n",
       "      <td>660534</td>\n",
       "      <td>API</td>\n",
       "      <td>0</td>\n",
       "      <td>6.0</td>\n",
       "      <td>973</td>\n",
       "      <td>6.00</td>\n",
       "      <td>India</td>\n",
       "      <td>Select</td>\n",
       "      <td>Unemployed</td>\n",
       "      <td>Might be</td>\n",
       "    </tr>\n",
       "    <tr>\n",
       "      <th>18</th>\n",
       "      <td>660522</td>\n",
       "      <td>Landing Page Submission</td>\n",
       "      <td>1</td>\n",
       "      <td>6.0</td>\n",
       "      <td>1688</td>\n",
       "      <td>3.00</td>\n",
       "      <td>India</td>\n",
       "      <td>Marketing Management</td>\n",
       "      <td>Unemployed</td>\n",
       "      <td>NaN</td>\n",
       "    </tr>\n",
       "    <tr>\n",
       "      <th>19</th>\n",
       "      <td>660509</td>\n",
       "      <td>API</td>\n",
       "      <td>0</td>\n",
       "      <td>3.0</td>\n",
       "      <td>98</td>\n",
       "      <td>3.00</td>\n",
       "      <td>India</td>\n",
       "      <td>Select</td>\n",
       "      <td>Unemployed</td>\n",
       "      <td>Worst</td>\n",
       "    </tr>\n",
       "  </tbody>\n",
       "</table>\n",
       "</div>"
      ],
      "text/plain": [
       "    Lead Number              Lead Origin  Converted  TotalVisits  \\\n",
       "0        660737                      API          0          0.0   \n",
       "1        660728                      API          0          5.0   \n",
       "2        660727  Landing Page Submission          1          2.0   \n",
       "3        660719  Landing Page Submission          0          1.0   \n",
       "4        660681  Landing Page Submission          1          2.0   \n",
       "5        660680                      API          0          0.0   \n",
       "6        660673  Landing Page Submission          1          2.0   \n",
       "7        660664                      API          0          0.0   \n",
       "8        660624  Landing Page Submission          0          2.0   \n",
       "9        660616                      API          0          4.0   \n",
       "10       660608  Landing Page Submission          1          8.0   \n",
       "11       660570  Landing Page Submission          1          8.0   \n",
       "12       660562                      API          1         11.0   \n",
       "13       660558  Landing Page Submission          0          5.0   \n",
       "14       660553  Landing Page Submission          0          1.0   \n",
       "15       660547                      API          1          6.0   \n",
       "16       660540                      API          0          0.0   \n",
       "17       660534                      API          0          6.0   \n",
       "18       660522  Landing Page Submission          1          6.0   \n",
       "19       660509                      API          0          3.0   \n",
       "\n",
       "    Total Time Spent on Website  Page Views Per Visit Country  \\\n",
       "0                             0                  0.00     NaN   \n",
       "1                           674                  2.50   India   \n",
       "2                          1532                  2.00   India   \n",
       "3                           305                  1.00   India   \n",
       "4                          1428                  1.00   India   \n",
       "5                             0                  0.00     NaN   \n",
       "6                          1640                  2.00   India   \n",
       "7                             0                  0.00     NaN   \n",
       "8                            71                  2.00   India   \n",
       "9                            58                  4.00   India   \n",
       "10                         1351                  8.00   India   \n",
       "11                         1343                  2.67   India   \n",
       "12                         1538                 11.00   India   \n",
       "13                          170                  5.00   India   \n",
       "14                          481                  1.00  Russia   \n",
       "15                         1012                  6.00   India   \n",
       "16                            0                  0.00     NaN   \n",
       "17                          973                  6.00   India   \n",
       "18                         1688                  3.00   India   \n",
       "19                           98                  3.00   India   \n",
       "\n",
       "               Specialization What is your current occupation  \\\n",
       "0                      Select                      Unemployed   \n",
       "1                      Select                      Unemployed   \n",
       "2     Business Administration                         Student   \n",
       "3       Media and Advertising                      Unemployed   \n",
       "4                      Select                      Unemployed   \n",
       "5                         NaN                             NaN   \n",
       "6     Supply Chain Management                      Unemployed   \n",
       "7                         NaN                             NaN   \n",
       "8      IT Projects Management                             NaN   \n",
       "9          Finance Management                             NaN   \n",
       "10         Travel and Tourism                      Unemployed   \n",
       "11  Human Resource Management                      Unemployed   \n",
       "12       Marketing Management                      Unemployed   \n",
       "13    Business Administration                      Unemployed   \n",
       "14    Business Administration                      Unemployed   \n",
       "15                     Select                      Unemployed   \n",
       "16                        NaN                             NaN   \n",
       "17                     Select                      Unemployed   \n",
       "18       Marketing Management                      Unemployed   \n",
       "19                     Select                      Unemployed   \n",
       "\n",
       "        Lead Quality  \n",
       "0   Low in Relevance  \n",
       "1                NaN  \n",
       "2           Might be  \n",
       "3           Not Sure  \n",
       "4           Might be  \n",
       "5                NaN  \n",
       "6   Low in Relevance  \n",
       "7                NaN  \n",
       "8                NaN  \n",
       "9                NaN  \n",
       "10          Might be  \n",
       "11               NaN  \n",
       "12          Might be  \n",
       "13               NaN  \n",
       "14               NaN  \n",
       "15          Might be  \n",
       "16               NaN  \n",
       "17          Might be  \n",
       "18               NaN  \n",
       "19             Worst  "
      ]
     },
     "execution_count": 16,
     "metadata": {},
     "output_type": "execute_result"
    }
   ],
   "source": [
    "custom_df.head(20) \n",
    "# checking if it work - it did, yay!"
   ]
  },
  {
   "cell_type": "code",
   "execution_count": 17,
   "id": "5ad190ad",
   "metadata": {
    "execution": {
     "iopub.execute_input": "2023-05-31T16:33:58.489539Z",
     "iopub.status.busy": "2023-05-31T16:33:58.489125Z",
     "iopub.status.idle": "2023-05-31T16:33:58.495525Z",
     "shell.execute_reply": "2023-05-31T16:33:58.494753Z"
    },
    "papermill": {
     "duration": 0.036465,
     "end_time": "2023-05-31T16:33:58.497920",
     "exception": false,
     "start_time": "2023-05-31T16:33:58.461455",
     "status": "completed"
    },
    "tags": []
   },
   "outputs": [
    {
     "data": {
      "text/plain": [
       "(9240, 10)"
      ]
     },
     "execution_count": 17,
     "metadata": {},
     "output_type": "execute_result"
    }
   ],
   "source": [
    "custom_df.shape \n",
    "# checking if we have desired number of columns, which were 10 - and yes, we have :)"
   ]
  },
  {
   "cell_type": "code",
   "execution_count": 18,
   "id": "25b4485b",
   "metadata": {
    "execution": {
     "iopub.execute_input": "2023-05-31T16:33:58.551170Z",
     "iopub.status.busy": "2023-05-31T16:33:58.550493Z",
     "iopub.status.idle": "2023-05-31T16:33:58.558200Z",
     "shell.execute_reply": "2023-05-31T16:33:58.557024Z"
    },
    "papermill": {
     "duration": 0.037607,
     "end_time": "2023-05-31T16:33:58.561140",
     "exception": false,
     "start_time": "2023-05-31T16:33:58.523533",
     "status": "completed"
    },
    "tags": []
   },
   "outputs": [
    {
     "data": {
      "text/plain": [
       "Lead Number                          int64\n",
       "Lead Origin                         object\n",
       "Converted                            int64\n",
       "TotalVisits                        float64\n",
       "Total Time Spent on Website          int64\n",
       "Page Views Per Visit               float64\n",
       "Country                             object\n",
       "Specialization                      object\n",
       "What is your current occupation     object\n",
       "Lead Quality                        object\n",
       "dtype: object"
      ]
     },
     "execution_count": 18,
     "metadata": {},
     "output_type": "execute_result"
    }
   ],
   "source": [
    "custom_df.dtypes \n",
    "#checking once again, what kind of data types we have, to determine, if any need transformation"
   ]
  },
  {
   "cell_type": "code",
   "execution_count": 19,
   "id": "ce910a31",
   "metadata": {
    "execution": {
     "iopub.execute_input": "2023-05-31T16:33:58.613514Z",
     "iopub.status.busy": "2023-05-31T16:33:58.612720Z",
     "iopub.status.idle": "2023-05-31T16:33:58.639497Z",
     "shell.execute_reply": "2023-05-31T16:33:58.638625Z"
    },
    "papermill": {
     "duration": 0.057203,
     "end_time": "2023-05-31T16:33:58.643102",
     "exception": false,
     "start_time": "2023-05-31T16:33:58.585899",
     "status": "completed"
    },
    "tags": []
   },
   "outputs": [
    {
     "name": "stdout",
     "output_type": "stream",
     "text": [
      "<class 'pandas.core.frame.DataFrame'>\n",
      "RangeIndex: 9240 entries, 0 to 9239\n",
      "Data columns (total 10 columns):\n",
      " #   Column                           Non-Null Count  Dtype  \n",
      "---  ------                           --------------  -----  \n",
      " 0   Lead Number                      9240 non-null   int64  \n",
      " 1   Lead Origin                      9240 non-null   object \n",
      " 2   Converted                        9240 non-null   int64  \n",
      " 3   TotalVisits                      9103 non-null   float64\n",
      " 4   Total Time Spent on Website      9240 non-null   int64  \n",
      " 5   Page Views Per Visit             9103 non-null   float64\n",
      " 6   Country                          6779 non-null   object \n",
      " 7   Specialization                   7802 non-null   object \n",
      " 8   What is your current occupation  6550 non-null   object \n",
      " 9   Lead Quality                     4473 non-null   object \n",
      "dtypes: float64(2), int64(3), object(5)\n",
      "memory usage: 722.0+ KB\n"
     ]
    }
   ],
   "source": [
    "custom_df.info() \n",
    "#checking for Nulls in chosen columns"
   ]
  },
  {
   "cell_type": "markdown",
   "id": "ee7146a1",
   "metadata": {
    "papermill": {
     "duration": 0.025144,
     "end_time": "2023-05-31T16:33:58.694696",
     "exception": false,
     "start_time": "2023-05-31T16:33:58.669552",
     "status": "completed"
    },
    "tags": []
   },
   "source": [
    "Now it's time to plan how we want to approach each column taking into consideration what we want to analyze.\n",
    "\n",
    "# CASE 1 \n",
    "\n",
    "## How many converted leads come from top 10 countries, sorted from highest to lowest number for each country?\n",
    "\n",
    "For this EDA case, we need columns **\"Lead Number\", \"Converted\"** and **\"Country\"** from our custom_df Data Frame"
   ]
  },
  {
   "cell_type": "code",
   "execution_count": 20,
   "id": "070a3708",
   "metadata": {
    "execution": {
     "iopub.execute_input": "2023-05-31T16:33:58.747923Z",
     "iopub.status.busy": "2023-05-31T16:33:58.747477Z",
     "iopub.status.idle": "2023-05-31T16:33:58.755179Z",
     "shell.execute_reply": "2023-05-31T16:33:58.753714Z"
    },
    "papermill": {
     "duration": 0.037202,
     "end_time": "2023-05-31T16:33:58.757821",
     "exception": false,
     "start_time": "2023-05-31T16:33:58.720619",
     "status": "completed"
    },
    "tags": []
   },
   "outputs": [],
   "source": [
    "leads_country_columns = ['Lead Number', 'Converted', 'Country']\n",
    "leads_country_df = custom_df[leads_country_columns]"
   ]
  },
  {
   "cell_type": "code",
   "execution_count": 21,
   "id": "23793847",
   "metadata": {
    "execution": {
     "iopub.execute_input": "2023-05-31T16:33:58.811711Z",
     "iopub.status.busy": "2023-05-31T16:33:58.811229Z",
     "iopub.status.idle": "2023-05-31T16:33:58.824732Z",
     "shell.execute_reply": "2023-05-31T16:33:58.823169Z"
    },
    "papermill": {
     "duration": 0.044495,
     "end_time": "2023-05-31T16:33:58.827683",
     "exception": false,
     "start_time": "2023-05-31T16:33:58.783188",
     "status": "completed"
    },
    "tags": []
   },
   "outputs": [
    {
     "data": {
      "text/html": [
       "<div>\n",
       "<style scoped>\n",
       "    .dataframe tbody tr th:only-of-type {\n",
       "        vertical-align: middle;\n",
       "    }\n",
       "\n",
       "    .dataframe tbody tr th {\n",
       "        vertical-align: top;\n",
       "    }\n",
       "\n",
       "    .dataframe thead th {\n",
       "        text-align: right;\n",
       "    }\n",
       "</style>\n",
       "<table border=\"1\" class=\"dataframe\">\n",
       "  <thead>\n",
       "    <tr style=\"text-align: right;\">\n",
       "      <th></th>\n",
       "      <th>Lead Number</th>\n",
       "      <th>Converted</th>\n",
       "      <th>Country</th>\n",
       "    </tr>\n",
       "  </thead>\n",
       "  <tbody>\n",
       "    <tr>\n",
       "      <th>0</th>\n",
       "      <td>660737</td>\n",
       "      <td>0</td>\n",
       "      <td>NaN</td>\n",
       "    </tr>\n",
       "    <tr>\n",
       "      <th>1</th>\n",
       "      <td>660728</td>\n",
       "      <td>0</td>\n",
       "      <td>India</td>\n",
       "    </tr>\n",
       "    <tr>\n",
       "      <th>2</th>\n",
       "      <td>660727</td>\n",
       "      <td>1</td>\n",
       "      <td>India</td>\n",
       "    </tr>\n",
       "    <tr>\n",
       "      <th>3</th>\n",
       "      <td>660719</td>\n",
       "      <td>0</td>\n",
       "      <td>India</td>\n",
       "    </tr>\n",
       "    <tr>\n",
       "      <th>4</th>\n",
       "      <td>660681</td>\n",
       "      <td>1</td>\n",
       "      <td>India</td>\n",
       "    </tr>\n",
       "    <tr>\n",
       "      <th>5</th>\n",
       "      <td>660680</td>\n",
       "      <td>0</td>\n",
       "      <td>NaN</td>\n",
       "    </tr>\n",
       "    <tr>\n",
       "      <th>6</th>\n",
       "      <td>660673</td>\n",
       "      <td>1</td>\n",
       "      <td>India</td>\n",
       "    </tr>\n",
       "    <tr>\n",
       "      <th>7</th>\n",
       "      <td>660664</td>\n",
       "      <td>0</td>\n",
       "      <td>NaN</td>\n",
       "    </tr>\n",
       "    <tr>\n",
       "      <th>8</th>\n",
       "      <td>660624</td>\n",
       "      <td>0</td>\n",
       "      <td>India</td>\n",
       "    </tr>\n",
       "    <tr>\n",
       "      <th>9</th>\n",
       "      <td>660616</td>\n",
       "      <td>0</td>\n",
       "      <td>India</td>\n",
       "    </tr>\n",
       "  </tbody>\n",
       "</table>\n",
       "</div>"
      ],
      "text/plain": [
       "   Lead Number  Converted Country\n",
       "0       660737          0     NaN\n",
       "1       660728          0   India\n",
       "2       660727          1   India\n",
       "3       660719          0   India\n",
       "4       660681          1   India\n",
       "5       660680          0     NaN\n",
       "6       660673          1   India\n",
       "7       660664          0     NaN\n",
       "8       660624          0   India\n",
       "9       660616          0   India"
      ]
     },
     "execution_count": 21,
     "metadata": {},
     "output_type": "execute_result"
    }
   ],
   "source": [
    "leads_country_df.head(10)"
   ]
  },
  {
   "cell_type": "code",
   "execution_count": 22,
   "id": "ef0c5b4a",
   "metadata": {
    "execution": {
     "iopub.execute_input": "2023-05-31T16:33:58.881414Z",
     "iopub.status.busy": "2023-05-31T16:33:58.880949Z",
     "iopub.status.idle": "2023-05-31T16:33:58.898370Z",
     "shell.execute_reply": "2023-05-31T16:33:58.897425Z"
    },
    "papermill": {
     "duration": 0.047311,
     "end_time": "2023-05-31T16:33:58.900839",
     "exception": false,
     "start_time": "2023-05-31T16:33:58.853528",
     "status": "completed"
    },
    "tags": []
   },
   "outputs": [
    {
     "name": "stdout",
     "output_type": "stream",
     "text": [
      "<class 'pandas.core.frame.DataFrame'>\n",
      "RangeIndex: 9240 entries, 0 to 9239\n",
      "Data columns (total 3 columns):\n",
      " #   Column       Non-Null Count  Dtype \n",
      "---  ------       --------------  ----- \n",
      " 0   Lead Number  9240 non-null   int64 \n",
      " 1   Converted    9240 non-null   int64 \n",
      " 2   Country      6779 non-null   object\n",
      "dtypes: int64(2), object(1)\n",
      "memory usage: 216.7+ KB\n"
     ]
    }
   ],
   "source": [
    "leads_country_df.info()"
   ]
  },
  {
   "cell_type": "markdown",
   "id": "603df3a6",
   "metadata": {
    "papermill": {
     "duration": 0.025498,
     "end_time": "2023-05-31T16:33:58.953102",
     "exception": false,
     "start_time": "2023-05-31T16:33:58.927604",
     "status": "completed"
    },
    "tags": []
   },
   "source": [
    "As we have some nulls in country column, in this specific case (as this is a training dataset) **I'm deciding to drop them.**\n",
    "\n",
    "*In other case, it would be good to contact the data provider, and ask to provide the missing data.*"
   ]
  },
  {
   "cell_type": "code",
   "execution_count": 23,
   "id": "aee87680",
   "metadata": {
    "execution": {
     "iopub.execute_input": "2023-05-31T16:33:59.005666Z",
     "iopub.status.busy": "2023-05-31T16:33:59.004775Z",
     "iopub.status.idle": "2023-05-31T16:33:59.015112Z",
     "shell.execute_reply": "2023-05-31T16:33:59.014090Z"
    },
    "papermill": {
     "duration": 0.039611,
     "end_time": "2023-05-31T16:33:59.017705",
     "exception": false,
     "start_time": "2023-05-31T16:33:58.978094",
     "status": "completed"
    },
    "tags": []
   },
   "outputs": [],
   "source": [
    "leads_country_cleaned = leads_country_df.dropna() \n",
    "#we're getting rid of each row where there is a missing country"
   ]
  },
  {
   "cell_type": "code",
   "execution_count": 24,
   "id": "aa634748",
   "metadata": {
    "execution": {
     "iopub.execute_input": "2023-05-31T16:33:59.071470Z",
     "iopub.status.busy": "2023-05-31T16:33:59.070568Z",
     "iopub.status.idle": "2023-05-31T16:33:59.083496Z",
     "shell.execute_reply": "2023-05-31T16:33:59.082494Z"
    },
    "papermill": {
     "duration": 0.042745,
     "end_time": "2023-05-31T16:33:59.085873",
     "exception": false,
     "start_time": "2023-05-31T16:33:59.043128",
     "status": "completed"
    },
    "tags": []
   },
   "outputs": [
    {
     "data": {
      "text/html": [
       "<div>\n",
       "<style scoped>\n",
       "    .dataframe tbody tr th:only-of-type {\n",
       "        vertical-align: middle;\n",
       "    }\n",
       "\n",
       "    .dataframe tbody tr th {\n",
       "        vertical-align: top;\n",
       "    }\n",
       "\n",
       "    .dataframe thead th {\n",
       "        text-align: right;\n",
       "    }\n",
       "</style>\n",
       "<table border=\"1\" class=\"dataframe\">\n",
       "  <thead>\n",
       "    <tr style=\"text-align: right;\">\n",
       "      <th></th>\n",
       "      <th>Lead Number</th>\n",
       "      <th>Converted</th>\n",
       "      <th>Country</th>\n",
       "    </tr>\n",
       "  </thead>\n",
       "  <tbody>\n",
       "    <tr>\n",
       "      <th>1</th>\n",
       "      <td>660728</td>\n",
       "      <td>0</td>\n",
       "      <td>India</td>\n",
       "    </tr>\n",
       "    <tr>\n",
       "      <th>2</th>\n",
       "      <td>660727</td>\n",
       "      <td>1</td>\n",
       "      <td>India</td>\n",
       "    </tr>\n",
       "    <tr>\n",
       "      <th>3</th>\n",
       "      <td>660719</td>\n",
       "      <td>0</td>\n",
       "      <td>India</td>\n",
       "    </tr>\n",
       "    <tr>\n",
       "      <th>4</th>\n",
       "      <td>660681</td>\n",
       "      <td>1</td>\n",
       "      <td>India</td>\n",
       "    </tr>\n",
       "    <tr>\n",
       "      <th>6</th>\n",
       "      <td>660673</td>\n",
       "      <td>1</td>\n",
       "      <td>India</td>\n",
       "    </tr>\n",
       "    <tr>\n",
       "      <th>8</th>\n",
       "      <td>660624</td>\n",
       "      <td>0</td>\n",
       "      <td>India</td>\n",
       "    </tr>\n",
       "    <tr>\n",
       "      <th>9</th>\n",
       "      <td>660616</td>\n",
       "      <td>0</td>\n",
       "      <td>India</td>\n",
       "    </tr>\n",
       "    <tr>\n",
       "      <th>10</th>\n",
       "      <td>660608</td>\n",
       "      <td>1</td>\n",
       "      <td>India</td>\n",
       "    </tr>\n",
       "    <tr>\n",
       "      <th>11</th>\n",
       "      <td>660570</td>\n",
       "      <td>1</td>\n",
       "      <td>India</td>\n",
       "    </tr>\n",
       "    <tr>\n",
       "      <th>12</th>\n",
       "      <td>660562</td>\n",
       "      <td>1</td>\n",
       "      <td>India</td>\n",
       "    </tr>\n",
       "    <tr>\n",
       "      <th>13</th>\n",
       "      <td>660558</td>\n",
       "      <td>0</td>\n",
       "      <td>India</td>\n",
       "    </tr>\n",
       "    <tr>\n",
       "      <th>14</th>\n",
       "      <td>660553</td>\n",
       "      <td>0</td>\n",
       "      <td>Russia</td>\n",
       "    </tr>\n",
       "    <tr>\n",
       "      <th>15</th>\n",
       "      <td>660547</td>\n",
       "      <td>1</td>\n",
       "      <td>India</td>\n",
       "    </tr>\n",
       "    <tr>\n",
       "      <th>17</th>\n",
       "      <td>660534</td>\n",
       "      <td>0</td>\n",
       "      <td>India</td>\n",
       "    </tr>\n",
       "    <tr>\n",
       "      <th>18</th>\n",
       "      <td>660522</td>\n",
       "      <td>1</td>\n",
       "      <td>India</td>\n",
       "    </tr>\n",
       "    <tr>\n",
       "      <th>19</th>\n",
       "      <td>660509</td>\n",
       "      <td>0</td>\n",
       "      <td>India</td>\n",
       "    </tr>\n",
       "    <tr>\n",
       "      <th>20</th>\n",
       "      <td>660479</td>\n",
       "      <td>0</td>\n",
       "      <td>India</td>\n",
       "    </tr>\n",
       "    <tr>\n",
       "      <th>21</th>\n",
       "      <td>660478</td>\n",
       "      <td>0</td>\n",
       "      <td>India</td>\n",
       "    </tr>\n",
       "    <tr>\n",
       "      <th>22</th>\n",
       "      <td>660471</td>\n",
       "      <td>1</td>\n",
       "      <td>India</td>\n",
       "    </tr>\n",
       "    <tr>\n",
       "      <th>23</th>\n",
       "      <td>660461</td>\n",
       "      <td>0</td>\n",
       "      <td>India</td>\n",
       "    </tr>\n",
       "  </tbody>\n",
       "</table>\n",
       "</div>"
      ],
      "text/plain": [
       "    Lead Number  Converted Country\n",
       "1        660728          0   India\n",
       "2        660727          1   India\n",
       "3        660719          0   India\n",
       "4        660681          1   India\n",
       "6        660673          1   India\n",
       "8        660624          0   India\n",
       "9        660616          0   India\n",
       "10       660608          1   India\n",
       "11       660570          1   India\n",
       "12       660562          1   India\n",
       "13       660558          0   India\n",
       "14       660553          0  Russia\n",
       "15       660547          1   India\n",
       "17       660534          0   India\n",
       "18       660522          1   India\n",
       "19       660509          0   India\n",
       "20       660479          0   India\n",
       "21       660478          0   India\n",
       "22       660471          1   India\n",
       "23       660461          0   India"
      ]
     },
     "execution_count": 24,
     "metadata": {},
     "output_type": "execute_result"
    }
   ],
   "source": [
    "leads_country_cleaned.head(20) \n",
    "#dataset without null values in country"
   ]
  },
  {
   "cell_type": "code",
   "execution_count": 25,
   "id": "090e7a5d",
   "metadata": {
    "execution": {
     "iopub.execute_input": "2023-05-31T16:33:59.139411Z",
     "iopub.status.busy": "2023-05-31T16:33:59.138493Z",
     "iopub.status.idle": "2023-05-31T16:33:59.144953Z",
     "shell.execute_reply": "2023-05-31T16:33:59.144068Z"
    },
    "papermill": {
     "duration": 0.035989,
     "end_time": "2023-05-31T16:33:59.147113",
     "exception": false,
     "start_time": "2023-05-31T16:33:59.111124",
     "status": "completed"
    },
    "tags": []
   },
   "outputs": [
    {
     "data": {
      "text/plain": [
       "(6779, 3)"
      ]
     },
     "execution_count": 25,
     "metadata": {},
     "output_type": "execute_result"
    }
   ],
   "source": [
    "leads_country_cleaned.shape \n",
    "#everything is allright - rows with NaN values in country have been dropped"
   ]
  },
  {
   "cell_type": "code",
   "execution_count": 26,
   "id": "bb629d2a",
   "metadata": {
    "execution": {
     "iopub.execute_input": "2023-05-31T16:33:59.202135Z",
     "iopub.status.busy": "2023-05-31T16:33:59.201713Z",
     "iopub.status.idle": "2023-05-31T16:33:59.210741Z",
     "shell.execute_reply": "2023-05-31T16:33:59.209494Z"
    },
    "papermill": {
     "duration": 0.039393,
     "end_time": "2023-05-31T16:33:59.213169",
     "exception": false,
     "start_time": "2023-05-31T16:33:59.173776",
     "status": "completed"
    },
    "tags": []
   },
   "outputs": [],
   "source": [
    "converted_leads = leads_country_cleaned.drop(leads_country_cleaned[leads_country_cleaned['Converted'] == 0].index)\n",
    "# now we need to drop leads that did not converted, so with value 0"
   ]
  },
  {
   "cell_type": "code",
   "execution_count": 27,
   "id": "68085853",
   "metadata": {
    "execution": {
     "iopub.execute_input": "2023-05-31T16:33:59.268821Z",
     "iopub.status.busy": "2023-05-31T16:33:59.267455Z",
     "iopub.status.idle": "2023-05-31T16:33:59.281218Z",
     "shell.execute_reply": "2023-05-31T16:33:59.280054Z"
    },
    "papermill": {
     "duration": 0.045221,
     "end_time": "2023-05-31T16:33:59.283975",
     "exception": false,
     "start_time": "2023-05-31T16:33:59.238754",
     "status": "completed"
    },
    "tags": []
   },
   "outputs": [
    {
     "data": {
      "text/html": [
       "<div>\n",
       "<style scoped>\n",
       "    .dataframe tbody tr th:only-of-type {\n",
       "        vertical-align: middle;\n",
       "    }\n",
       "\n",
       "    .dataframe tbody tr th {\n",
       "        vertical-align: top;\n",
       "    }\n",
       "\n",
       "    .dataframe thead th {\n",
       "        text-align: right;\n",
       "    }\n",
       "</style>\n",
       "<table border=\"1\" class=\"dataframe\">\n",
       "  <thead>\n",
       "    <tr style=\"text-align: right;\">\n",
       "      <th></th>\n",
       "      <th>Lead Number</th>\n",
       "      <th>Converted</th>\n",
       "      <th>Country</th>\n",
       "    </tr>\n",
       "  </thead>\n",
       "  <tbody>\n",
       "    <tr>\n",
       "      <th>2</th>\n",
       "      <td>660727</td>\n",
       "      <td>1</td>\n",
       "      <td>India</td>\n",
       "    </tr>\n",
       "    <tr>\n",
       "      <th>4</th>\n",
       "      <td>660681</td>\n",
       "      <td>1</td>\n",
       "      <td>India</td>\n",
       "    </tr>\n",
       "    <tr>\n",
       "      <th>6</th>\n",
       "      <td>660673</td>\n",
       "      <td>1</td>\n",
       "      <td>India</td>\n",
       "    </tr>\n",
       "    <tr>\n",
       "      <th>10</th>\n",
       "      <td>660608</td>\n",
       "      <td>1</td>\n",
       "      <td>India</td>\n",
       "    </tr>\n",
       "    <tr>\n",
       "      <th>11</th>\n",
       "      <td>660570</td>\n",
       "      <td>1</td>\n",
       "      <td>India</td>\n",
       "    </tr>\n",
       "    <tr>\n",
       "      <th>12</th>\n",
       "      <td>660562</td>\n",
       "      <td>1</td>\n",
       "      <td>India</td>\n",
       "    </tr>\n",
       "    <tr>\n",
       "      <th>15</th>\n",
       "      <td>660547</td>\n",
       "      <td>1</td>\n",
       "      <td>India</td>\n",
       "    </tr>\n",
       "    <tr>\n",
       "      <th>18</th>\n",
       "      <td>660522</td>\n",
       "      <td>1</td>\n",
       "      <td>India</td>\n",
       "    </tr>\n",
       "    <tr>\n",
       "      <th>22</th>\n",
       "      <td>660471</td>\n",
       "      <td>1</td>\n",
       "      <td>India</td>\n",
       "    </tr>\n",
       "    <tr>\n",
       "      <th>24</th>\n",
       "      <td>660458</td>\n",
       "      <td>1</td>\n",
       "      <td>India</td>\n",
       "    </tr>\n",
       "    <tr>\n",
       "      <th>25</th>\n",
       "      <td>660447</td>\n",
       "      <td>1</td>\n",
       "      <td>India</td>\n",
       "    </tr>\n",
       "    <tr>\n",
       "      <th>26</th>\n",
       "      <td>660432</td>\n",
       "      <td>1</td>\n",
       "      <td>India</td>\n",
       "    </tr>\n",
       "    <tr>\n",
       "      <th>27</th>\n",
       "      <td>660424</td>\n",
       "      <td>1</td>\n",
       "      <td>India</td>\n",
       "    </tr>\n",
       "    <tr>\n",
       "      <th>29</th>\n",
       "      <td>660410</td>\n",
       "      <td>1</td>\n",
       "      <td>India</td>\n",
       "    </tr>\n",
       "    <tr>\n",
       "      <th>30</th>\n",
       "      <td>660402</td>\n",
       "      <td>1</td>\n",
       "      <td>India</td>\n",
       "    </tr>\n",
       "    <tr>\n",
       "      <th>34</th>\n",
       "      <td>660333</td>\n",
       "      <td>1</td>\n",
       "      <td>India</td>\n",
       "    </tr>\n",
       "    <tr>\n",
       "      <th>35</th>\n",
       "      <td>660321</td>\n",
       "      <td>1</td>\n",
       "      <td>India</td>\n",
       "    </tr>\n",
       "    <tr>\n",
       "      <th>37</th>\n",
       "      <td>660267</td>\n",
       "      <td>1</td>\n",
       "      <td>India</td>\n",
       "    </tr>\n",
       "    <tr>\n",
       "      <th>39</th>\n",
       "      <td>660236</td>\n",
       "      <td>1</td>\n",
       "      <td>India</td>\n",
       "    </tr>\n",
       "    <tr>\n",
       "      <th>56</th>\n",
       "      <td>659998</td>\n",
       "      <td>1</td>\n",
       "      <td>India</td>\n",
       "    </tr>\n",
       "  </tbody>\n",
       "</table>\n",
       "</div>"
      ],
      "text/plain": [
       "    Lead Number  Converted Country\n",
       "2        660727          1   India\n",
       "4        660681          1   India\n",
       "6        660673          1   India\n",
       "10       660608          1   India\n",
       "11       660570          1   India\n",
       "12       660562          1   India\n",
       "15       660547          1   India\n",
       "18       660522          1   India\n",
       "22       660471          1   India\n",
       "24       660458          1   India\n",
       "25       660447          1   India\n",
       "26       660432          1   India\n",
       "27       660424          1   India\n",
       "29       660410          1   India\n",
       "30       660402          1   India\n",
       "34       660333          1   India\n",
       "35       660321          1   India\n",
       "37       660267          1   India\n",
       "39       660236          1   India\n",
       "56       659998          1   India"
      ]
     },
     "execution_count": 27,
     "metadata": {},
     "output_type": "execute_result"
    }
   ],
   "source": [
    "converted_leads.head(20)"
   ]
  },
  {
   "cell_type": "code",
   "execution_count": 28,
   "id": "9eb531ec",
   "metadata": {
    "execution": {
     "iopub.execute_input": "2023-05-31T16:33:59.341180Z",
     "iopub.status.busy": "2023-05-31T16:33:59.340365Z",
     "iopub.status.idle": "2023-05-31T16:33:59.346672Z",
     "shell.execute_reply": "2023-05-31T16:33:59.345776Z"
    },
    "papermill": {
     "duration": 0.036569,
     "end_time": "2023-05-31T16:33:59.348816",
     "exception": false,
     "start_time": "2023-05-31T16:33:59.312247",
     "status": "completed"
    },
    "tags": []
   },
   "outputs": [
    {
     "data": {
      "text/plain": [
       "(2485, 3)"
      ]
     },
     "execution_count": 28,
     "metadata": {},
     "output_type": "execute_result"
    }
   ],
   "source": [
    "converted_leads.shape \n",
    "#leaving rows where client converted"
   ]
  },
  {
   "cell_type": "code",
   "execution_count": 29,
   "id": "476dc6df",
   "metadata": {
    "execution": {
     "iopub.execute_input": "2023-05-31T16:33:59.403816Z",
     "iopub.status.busy": "2023-05-31T16:33:59.402520Z",
     "iopub.status.idle": "2023-05-31T16:33:59.410561Z",
     "shell.execute_reply": "2023-05-31T16:33:59.409648Z"
    },
    "papermill": {
     "duration": 0.038174,
     "end_time": "2023-05-31T16:33:59.412914",
     "exception": false,
     "start_time": "2023-05-31T16:33:59.374740",
     "status": "completed"
    },
    "tags": []
   },
   "outputs": [
    {
     "data": {
      "text/plain": [
       "array(['India', 'United States', 'Bahrain', 'Singapore', 'United Kingdom',\n",
       "       'United Arab Emirates', 'Qatar', 'Saudi Arabia', 'France',\n",
       "       'Netherlands', 'Germany', 'Sweden', 'Oman', 'Asia/Pacific Region',\n",
       "       'Hong Kong', 'unknown', 'Denmark', 'South Africa', 'Australia',\n",
       "       'Bangladesh'], dtype=object)"
      ]
     },
     "execution_count": 29,
     "metadata": {},
     "output_type": "execute_result"
    }
   ],
   "source": [
    "converted_leads['Country'].unique()"
   ]
  },
  {
   "cell_type": "code",
   "execution_count": 30,
   "id": "cb1b121d",
   "metadata": {
    "execution": {
     "iopub.execute_input": "2023-05-31T16:33:59.469828Z",
     "iopub.status.busy": "2023-05-31T16:33:59.469305Z",
     "iopub.status.idle": "2023-05-31T16:33:59.476294Z",
     "shell.execute_reply": "2023-05-31T16:33:59.475169Z"
    },
    "papermill": {
     "duration": 0.038876,
     "end_time": "2023-05-31T16:33:59.479155",
     "exception": false,
     "start_time": "2023-05-31T16:33:59.440279",
     "status": "completed"
    },
    "tags": []
   },
   "outputs": [
    {
     "data": {
      "text/plain": [
       "(2485, 3)"
      ]
     },
     "execution_count": 30,
     "metadata": {},
     "output_type": "execute_result"
    }
   ],
   "source": [
    "converted_leads.shape \n",
    "#we have 2485 leads that converted"
   ]
  },
  {
   "cell_type": "code",
   "execution_count": 31,
   "id": "c9d3ea93",
   "metadata": {
    "execution": {
     "iopub.execute_input": "2023-05-31T16:33:59.538183Z",
     "iopub.status.busy": "2023-05-31T16:33:59.537680Z",
     "iopub.status.idle": "2023-05-31T16:33:59.548172Z",
     "shell.execute_reply": "2023-05-31T16:33:59.546684Z"
    },
    "papermill": {
     "duration": 0.043588,
     "end_time": "2023-05-31T16:33:59.550715",
     "exception": false,
     "start_time": "2023-05-31T16:33:59.507127",
     "status": "completed"
    },
    "tags": []
   },
   "outputs": [],
   "source": [
    "#creating dict to practise mapping - probably not necessary, but I wanted to try ;)\n",
    "\n",
    "leads_country_dict = {'India': 1,\n",
    "                      'United States': 2,\n",
    "                      'Bahrain': 3,\n",
    "                      'Singapore': 4,\n",
    "                      'United Kingdom': 5,\n",
    "                      'United Arab Emirates': 6,\n",
    "                      'Qatar': 7,\n",
    "                      'Saudi Arabia': 8,\n",
    "                      'France': 9,\n",
    "                      'Netherlands': 10,\n",
    "                      'Germany': 11,\n",
    "                      'Sweden': 12,\n",
    "                      'Oman': 13,\n",
    "                      'Asia/Pacific Region': 14,\n",
    "                      'Hong Kong': 15,\n",
    "                      'unknown': 16,\n",
    "                      'Denmark': 17,\n",
    "                      'South Africa': 18,\n",
    "                      'Australia': 19}\n",
    "\n",
    "converted_leads['Country'] = converted_leads['Country'].map(leads_country_dict)"
   ]
  },
  {
   "cell_type": "code",
   "execution_count": 32,
   "id": "0fced77c",
   "metadata": {
    "execution": {
     "iopub.execute_input": "2023-05-31T16:33:59.606410Z",
     "iopub.status.busy": "2023-05-31T16:33:59.605903Z",
     "iopub.status.idle": "2023-05-31T16:33:59.611554Z",
     "shell.execute_reply": "2023-05-31T16:33:59.610040Z"
    },
    "papermill": {
     "duration": 0.036169,
     "end_time": "2023-05-31T16:33:59.614117",
     "exception": false,
     "start_time": "2023-05-31T16:33:59.577948",
     "status": "completed"
    },
    "tags": []
   },
   "outputs": [],
   "source": [
    "converted_leads_mapped = converted_leads"
   ]
  },
  {
   "cell_type": "code",
   "execution_count": 33,
   "id": "cc89e17d",
   "metadata": {
    "execution": {
     "iopub.execute_input": "2023-05-31T16:33:59.670680Z",
     "iopub.status.busy": "2023-05-31T16:33:59.670212Z",
     "iopub.status.idle": "2023-05-31T16:33:59.685839Z",
     "shell.execute_reply": "2023-05-31T16:33:59.684853Z"
    },
    "papermill": {
     "duration": 0.047113,
     "end_time": "2023-05-31T16:33:59.688192",
     "exception": false,
     "start_time": "2023-05-31T16:33:59.641079",
     "status": "completed"
    },
    "tags": []
   },
   "outputs": [
    {
     "data": {
      "text/html": [
       "<div>\n",
       "<style scoped>\n",
       "    .dataframe tbody tr th:only-of-type {\n",
       "        vertical-align: middle;\n",
       "    }\n",
       "\n",
       "    .dataframe tbody tr th {\n",
       "        vertical-align: top;\n",
       "    }\n",
       "\n",
       "    .dataframe thead th {\n",
       "        text-align: right;\n",
       "    }\n",
       "</style>\n",
       "<table border=\"1\" class=\"dataframe\">\n",
       "  <thead>\n",
       "    <tr style=\"text-align: right;\">\n",
       "      <th></th>\n",
       "      <th>Lead Number</th>\n",
       "      <th>Converted</th>\n",
       "      <th>Country</th>\n",
       "    </tr>\n",
       "  </thead>\n",
       "  <tbody>\n",
       "    <tr>\n",
       "      <th>2</th>\n",
       "      <td>660727</td>\n",
       "      <td>1</td>\n",
       "      <td>1.0</td>\n",
       "    </tr>\n",
       "    <tr>\n",
       "      <th>4</th>\n",
       "      <td>660681</td>\n",
       "      <td>1</td>\n",
       "      <td>1.0</td>\n",
       "    </tr>\n",
       "    <tr>\n",
       "      <th>6</th>\n",
       "      <td>660673</td>\n",
       "      <td>1</td>\n",
       "      <td>1.0</td>\n",
       "    </tr>\n",
       "    <tr>\n",
       "      <th>10</th>\n",
       "      <td>660608</td>\n",
       "      <td>1</td>\n",
       "      <td>1.0</td>\n",
       "    </tr>\n",
       "    <tr>\n",
       "      <th>11</th>\n",
       "      <td>660570</td>\n",
       "      <td>1</td>\n",
       "      <td>1.0</td>\n",
       "    </tr>\n",
       "    <tr>\n",
       "      <th>12</th>\n",
       "      <td>660562</td>\n",
       "      <td>1</td>\n",
       "      <td>1.0</td>\n",
       "    </tr>\n",
       "    <tr>\n",
       "      <th>15</th>\n",
       "      <td>660547</td>\n",
       "      <td>1</td>\n",
       "      <td>1.0</td>\n",
       "    </tr>\n",
       "    <tr>\n",
       "      <th>18</th>\n",
       "      <td>660522</td>\n",
       "      <td>1</td>\n",
       "      <td>1.0</td>\n",
       "    </tr>\n",
       "    <tr>\n",
       "      <th>22</th>\n",
       "      <td>660471</td>\n",
       "      <td>1</td>\n",
       "      <td>1.0</td>\n",
       "    </tr>\n",
       "    <tr>\n",
       "      <th>24</th>\n",
       "      <td>660458</td>\n",
       "      <td>1</td>\n",
       "      <td>1.0</td>\n",
       "    </tr>\n",
       "    <tr>\n",
       "      <th>25</th>\n",
       "      <td>660447</td>\n",
       "      <td>1</td>\n",
       "      <td>1.0</td>\n",
       "    </tr>\n",
       "    <tr>\n",
       "      <th>26</th>\n",
       "      <td>660432</td>\n",
       "      <td>1</td>\n",
       "      <td>1.0</td>\n",
       "    </tr>\n",
       "    <tr>\n",
       "      <th>27</th>\n",
       "      <td>660424</td>\n",
       "      <td>1</td>\n",
       "      <td>1.0</td>\n",
       "    </tr>\n",
       "    <tr>\n",
       "      <th>29</th>\n",
       "      <td>660410</td>\n",
       "      <td>1</td>\n",
       "      <td>1.0</td>\n",
       "    </tr>\n",
       "    <tr>\n",
       "      <th>30</th>\n",
       "      <td>660402</td>\n",
       "      <td>1</td>\n",
       "      <td>1.0</td>\n",
       "    </tr>\n",
       "    <tr>\n",
       "      <th>34</th>\n",
       "      <td>660333</td>\n",
       "      <td>1</td>\n",
       "      <td>1.0</td>\n",
       "    </tr>\n",
       "    <tr>\n",
       "      <th>35</th>\n",
       "      <td>660321</td>\n",
       "      <td>1</td>\n",
       "      <td>1.0</td>\n",
       "    </tr>\n",
       "    <tr>\n",
       "      <th>37</th>\n",
       "      <td>660267</td>\n",
       "      <td>1</td>\n",
       "      <td>1.0</td>\n",
       "    </tr>\n",
       "    <tr>\n",
       "      <th>39</th>\n",
       "      <td>660236</td>\n",
       "      <td>1</td>\n",
       "      <td>1.0</td>\n",
       "    </tr>\n",
       "    <tr>\n",
       "      <th>56</th>\n",
       "      <td>659998</td>\n",
       "      <td>1</td>\n",
       "      <td>1.0</td>\n",
       "    </tr>\n",
       "  </tbody>\n",
       "</table>\n",
       "</div>"
      ],
      "text/plain": [
       "    Lead Number  Converted  Country\n",
       "2        660727          1      1.0\n",
       "4        660681          1      1.0\n",
       "6        660673          1      1.0\n",
       "10       660608          1      1.0\n",
       "11       660570          1      1.0\n",
       "12       660562          1      1.0\n",
       "15       660547          1      1.0\n",
       "18       660522          1      1.0\n",
       "22       660471          1      1.0\n",
       "24       660458          1      1.0\n",
       "25       660447          1      1.0\n",
       "26       660432          1      1.0\n",
       "27       660424          1      1.0\n",
       "29       660410          1      1.0\n",
       "30       660402          1      1.0\n",
       "34       660333          1      1.0\n",
       "35       660321          1      1.0\n",
       "37       660267          1      1.0\n",
       "39       660236          1      1.0\n",
       "56       659998          1      1.0"
      ]
     },
     "execution_count": 33,
     "metadata": {},
     "output_type": "execute_result"
    }
   ],
   "source": [
    "converted_leads_mapped.head(20)"
   ]
  },
  {
   "cell_type": "code",
   "execution_count": 34,
   "id": "c5a91854",
   "metadata": {
    "execution": {
     "iopub.execute_input": "2023-05-31T16:33:59.746048Z",
     "iopub.status.busy": "2023-05-31T16:33:59.745608Z",
     "iopub.status.idle": "2023-05-31T16:33:59.753425Z",
     "shell.execute_reply": "2023-05-31T16:33:59.752234Z"
    },
    "papermill": {
     "duration": 0.039875,
     "end_time": "2023-05-31T16:33:59.755839",
     "exception": false,
     "start_time": "2023-05-31T16:33:59.715964",
     "status": "completed"
    },
    "tags": []
   },
   "outputs": [
    {
     "data": {
      "text/plain": [
       "(2485, 3)"
      ]
     },
     "execution_count": 34,
     "metadata": {},
     "output_type": "execute_result"
    }
   ],
   "source": [
    "converted_leads_mapped.shape"
   ]
  },
  {
   "cell_type": "code",
   "execution_count": 35,
   "id": "530dc79e",
   "metadata": {
    "execution": {
     "iopub.execute_input": "2023-05-31T16:33:59.811245Z",
     "iopub.status.busy": "2023-05-31T16:33:59.810770Z",
     "iopub.status.idle": "2023-05-31T16:33:59.820775Z",
     "shell.execute_reply": "2023-05-31T16:33:59.819194Z"
    },
    "papermill": {
     "duration": 0.041122,
     "end_time": "2023-05-31T16:33:59.823421",
     "exception": false,
     "start_time": "2023-05-31T16:33:59.782299",
     "status": "completed"
    },
    "tags": []
   },
   "outputs": [
    {
     "data": {
      "text/plain": [
       "array([ 1.,  2.,  3.,  4.,  5.,  6.,  7.,  8.,  9., 10., 11., 12., 13.,\n",
       "       14., 15., 16., 17., 18., 19., nan])"
      ]
     },
     "execution_count": 35,
     "metadata": {},
     "output_type": "execute_result"
    }
   ],
   "source": [
    "converted_leads_mapped['Country'].unique() \n",
    "#as I didn't assign a label to unknown country it took value NaN"
   ]
  },
  {
   "cell_type": "code",
   "execution_count": 36,
   "id": "71e1cb63",
   "metadata": {
    "execution": {
     "iopub.execute_input": "2023-05-31T16:33:59.879755Z",
     "iopub.status.busy": "2023-05-31T16:33:59.879252Z",
     "iopub.status.idle": "2023-05-31T16:33:59.893220Z",
     "shell.execute_reply": "2023-05-31T16:33:59.891567Z"
    },
    "papermill": {
     "duration": 0.045346,
     "end_time": "2023-05-31T16:33:59.895885",
     "exception": false,
     "start_time": "2023-05-31T16:33:59.850539",
     "status": "completed"
    },
    "tags": []
   },
   "outputs": [
    {
     "name": "stdout",
     "output_type": "stream",
     "text": [
      "<class 'pandas.core.frame.DataFrame'>\n",
      "Int64Index: 2485 entries, 2 to 9239\n",
      "Data columns (total 3 columns):\n",
      " #   Column       Non-Null Count  Dtype  \n",
      "---  ------       --------------  -----  \n",
      " 0   Lead Number  2485 non-null   int64  \n",
      " 1   Converted    2485 non-null   int64  \n",
      " 2   Country      2484 non-null   float64\n",
      "dtypes: float64(1), int64(2)\n",
      "memory usage: 77.7 KB\n"
     ]
    }
   ],
   "source": [
    "converted_leads_mapped.info() \n",
    "#checking for NaNs showed, that there is only one rowe where the country is unknown - we can easily drop it"
   ]
  },
  {
   "cell_type": "code",
   "execution_count": 37,
   "id": "38633a2b",
   "metadata": {
    "execution": {
     "iopub.execute_input": "2023-05-31T16:33:59.951912Z",
     "iopub.status.busy": "2023-05-31T16:33:59.951503Z",
     "iopub.status.idle": "2023-05-31T16:33:59.958762Z",
     "shell.execute_reply": "2023-05-31T16:33:59.957480Z"
    },
    "papermill": {
     "duration": 0.038169,
     "end_time": "2023-05-31T16:33:59.961382",
     "exception": false,
     "start_time": "2023-05-31T16:33:59.923213",
     "status": "completed"
    },
    "tags": []
   },
   "outputs": [],
   "source": [
    "df = converted_leads_mapped.dropna()"
   ]
  },
  {
   "cell_type": "code",
   "execution_count": 38,
   "id": "817fdce2",
   "metadata": {
    "execution": {
     "iopub.execute_input": "2023-05-31T16:34:00.017030Z",
     "iopub.status.busy": "2023-05-31T16:34:00.016665Z",
     "iopub.status.idle": "2023-05-31T16:34:00.032740Z",
     "shell.execute_reply": "2023-05-31T16:34:00.031423Z"
    },
    "papermill": {
     "duration": 0.047147,
     "end_time": "2023-05-31T16:34:00.035381",
     "exception": false,
     "start_time": "2023-05-31T16:33:59.988234",
     "status": "completed"
    },
    "tags": []
   },
   "outputs": [
    {
     "data": {
      "text/html": [
       "<div>\n",
       "<style scoped>\n",
       "    .dataframe tbody tr th:only-of-type {\n",
       "        vertical-align: middle;\n",
       "    }\n",
       "\n",
       "    .dataframe tbody tr th {\n",
       "        vertical-align: top;\n",
       "    }\n",
       "\n",
       "    .dataframe thead th {\n",
       "        text-align: right;\n",
       "    }\n",
       "</style>\n",
       "<table border=\"1\" class=\"dataframe\">\n",
       "  <thead>\n",
       "    <tr style=\"text-align: right;\">\n",
       "      <th></th>\n",
       "      <th>Lead Number</th>\n",
       "      <th>Converted</th>\n",
       "      <th>Country</th>\n",
       "    </tr>\n",
       "  </thead>\n",
       "  <tbody>\n",
       "    <tr>\n",
       "      <th>2</th>\n",
       "      <td>660727</td>\n",
       "      <td>1</td>\n",
       "      <td>1.0</td>\n",
       "    </tr>\n",
       "    <tr>\n",
       "      <th>4</th>\n",
       "      <td>660681</td>\n",
       "      <td>1</td>\n",
       "      <td>1.0</td>\n",
       "    </tr>\n",
       "    <tr>\n",
       "      <th>6</th>\n",
       "      <td>660673</td>\n",
       "      <td>1</td>\n",
       "      <td>1.0</td>\n",
       "    </tr>\n",
       "    <tr>\n",
       "      <th>10</th>\n",
       "      <td>660608</td>\n",
       "      <td>1</td>\n",
       "      <td>1.0</td>\n",
       "    </tr>\n",
       "    <tr>\n",
       "      <th>11</th>\n",
       "      <td>660570</td>\n",
       "      <td>1</td>\n",
       "      <td>1.0</td>\n",
       "    </tr>\n",
       "    <tr>\n",
       "      <th>12</th>\n",
       "      <td>660562</td>\n",
       "      <td>1</td>\n",
       "      <td>1.0</td>\n",
       "    </tr>\n",
       "    <tr>\n",
       "      <th>15</th>\n",
       "      <td>660547</td>\n",
       "      <td>1</td>\n",
       "      <td>1.0</td>\n",
       "    </tr>\n",
       "    <tr>\n",
       "      <th>18</th>\n",
       "      <td>660522</td>\n",
       "      <td>1</td>\n",
       "      <td>1.0</td>\n",
       "    </tr>\n",
       "    <tr>\n",
       "      <th>22</th>\n",
       "      <td>660471</td>\n",
       "      <td>1</td>\n",
       "      <td>1.0</td>\n",
       "    </tr>\n",
       "    <tr>\n",
       "      <th>24</th>\n",
       "      <td>660458</td>\n",
       "      <td>1</td>\n",
       "      <td>1.0</td>\n",
       "    </tr>\n",
       "    <tr>\n",
       "      <th>25</th>\n",
       "      <td>660447</td>\n",
       "      <td>1</td>\n",
       "      <td>1.0</td>\n",
       "    </tr>\n",
       "    <tr>\n",
       "      <th>26</th>\n",
       "      <td>660432</td>\n",
       "      <td>1</td>\n",
       "      <td>1.0</td>\n",
       "    </tr>\n",
       "    <tr>\n",
       "      <th>27</th>\n",
       "      <td>660424</td>\n",
       "      <td>1</td>\n",
       "      <td>1.0</td>\n",
       "    </tr>\n",
       "    <tr>\n",
       "      <th>29</th>\n",
       "      <td>660410</td>\n",
       "      <td>1</td>\n",
       "      <td>1.0</td>\n",
       "    </tr>\n",
       "    <tr>\n",
       "      <th>30</th>\n",
       "      <td>660402</td>\n",
       "      <td>1</td>\n",
       "      <td>1.0</td>\n",
       "    </tr>\n",
       "    <tr>\n",
       "      <th>34</th>\n",
       "      <td>660333</td>\n",
       "      <td>1</td>\n",
       "      <td>1.0</td>\n",
       "    </tr>\n",
       "    <tr>\n",
       "      <th>35</th>\n",
       "      <td>660321</td>\n",
       "      <td>1</td>\n",
       "      <td>1.0</td>\n",
       "    </tr>\n",
       "    <tr>\n",
       "      <th>37</th>\n",
       "      <td>660267</td>\n",
       "      <td>1</td>\n",
       "      <td>1.0</td>\n",
       "    </tr>\n",
       "    <tr>\n",
       "      <th>39</th>\n",
       "      <td>660236</td>\n",
       "      <td>1</td>\n",
       "      <td>1.0</td>\n",
       "    </tr>\n",
       "    <tr>\n",
       "      <th>56</th>\n",
       "      <td>659998</td>\n",
       "      <td>1</td>\n",
       "      <td>1.0</td>\n",
       "    </tr>\n",
       "  </tbody>\n",
       "</table>\n",
       "</div>"
      ],
      "text/plain": [
       "    Lead Number  Converted  Country\n",
       "2        660727          1      1.0\n",
       "4        660681          1      1.0\n",
       "6        660673          1      1.0\n",
       "10       660608          1      1.0\n",
       "11       660570          1      1.0\n",
       "12       660562          1      1.0\n",
       "15       660547          1      1.0\n",
       "18       660522          1      1.0\n",
       "22       660471          1      1.0\n",
       "24       660458          1      1.0\n",
       "25       660447          1      1.0\n",
       "26       660432          1      1.0\n",
       "27       660424          1      1.0\n",
       "29       660410          1      1.0\n",
       "30       660402          1      1.0\n",
       "34       660333          1      1.0\n",
       "35       660321          1      1.0\n",
       "37       660267          1      1.0\n",
       "39       660236          1      1.0\n",
       "56       659998          1      1.0"
      ]
     },
     "execution_count": 38,
     "metadata": {},
     "output_type": "execute_result"
    }
   ],
   "source": [
    "df.head(20)"
   ]
  },
  {
   "cell_type": "code",
   "execution_count": 39,
   "id": "b87057e3",
   "metadata": {
    "execution": {
     "iopub.execute_input": "2023-05-31T16:34:00.092647Z",
     "iopub.status.busy": "2023-05-31T16:34:00.092165Z",
     "iopub.status.idle": "2023-05-31T16:34:00.100091Z",
     "shell.execute_reply": "2023-05-31T16:34:00.099081Z"
    },
    "papermill": {
     "duration": 0.039409,
     "end_time": "2023-05-31T16:34:00.102397",
     "exception": false,
     "start_time": "2023-05-31T16:34:00.062988",
     "status": "completed"
    },
    "tags": []
   },
   "outputs": [
    {
     "data": {
      "text/plain": [
       "(2484, 3)"
      ]
     },
     "execution_count": 39,
     "metadata": {},
     "output_type": "execute_result"
    }
   ],
   "source": [
    "df.shape"
   ]
  },
  {
   "cell_type": "code",
   "execution_count": 40,
   "id": "3c0cd18c",
   "metadata": {
    "execution": {
     "iopub.execute_input": "2023-05-31T16:34:00.161008Z",
     "iopub.status.busy": "2023-05-31T16:34:00.160507Z",
     "iopub.status.idle": "2023-05-31T16:34:00.169806Z",
     "shell.execute_reply": "2023-05-31T16:34:00.168434Z"
    },
    "papermill": {
     "duration": 0.041775,
     "end_time": "2023-05-31T16:34:00.172301",
     "exception": false,
     "start_time": "2023-05-31T16:34:00.130526",
     "status": "completed"
    },
    "tags": []
   },
   "outputs": [
    {
     "data": {
      "text/plain": [
       "array([ 1.,  2.,  3.,  4.,  5.,  6.,  7.,  8.,  9., 10., 11., 12., 13.,\n",
       "       14., 15., 16., 17., 18., 19.])"
      ]
     },
     "execution_count": 40,
     "metadata": {},
     "output_type": "execute_result"
    }
   ],
   "source": [
    "df['Country'].unique()"
   ]
  },
  {
   "cell_type": "code",
   "execution_count": 41,
   "id": "1f968fee",
   "metadata": {
    "execution": {
     "iopub.execute_input": "2023-05-31T16:34:00.233586Z",
     "iopub.status.busy": "2023-05-31T16:34:00.233070Z",
     "iopub.status.idle": "2023-05-31T16:34:00.239985Z",
     "shell.execute_reply": "2023-05-31T16:34:00.239064Z"
    },
    "papermill": {
     "duration": 0.042291,
     "end_time": "2023-05-31T16:34:00.242859",
     "exception": false,
     "start_time": "2023-05-31T16:34:00.200568",
     "status": "completed"
    },
    "tags": []
   },
   "outputs": [],
   "source": [
    "final_columns = ['Lead Number', 'Country']\n",
    "df2 = df[final_columns]"
   ]
  },
  {
   "cell_type": "code",
   "execution_count": 42,
   "id": "55d8d04c",
   "metadata": {
    "execution": {
     "iopub.execute_input": "2023-05-31T16:34:00.305697Z",
     "iopub.status.busy": "2023-05-31T16:34:00.305068Z",
     "iopub.status.idle": "2023-05-31T16:34:00.324873Z",
     "shell.execute_reply": "2023-05-31T16:34:00.323057Z"
    },
    "papermill": {
     "duration": 0.054331,
     "end_time": "2023-05-31T16:34:00.327717",
     "exception": false,
     "start_time": "2023-05-31T16:34:00.273386",
     "status": "completed"
    },
    "tags": []
   },
   "outputs": [
    {
     "data": {
      "text/html": [
       "<div>\n",
       "<style scoped>\n",
       "    .dataframe tbody tr th:only-of-type {\n",
       "        vertical-align: middle;\n",
       "    }\n",
       "\n",
       "    .dataframe tbody tr th {\n",
       "        vertical-align: top;\n",
       "    }\n",
       "\n",
       "    .dataframe thead th {\n",
       "        text-align: right;\n",
       "    }\n",
       "</style>\n",
       "<table border=\"1\" class=\"dataframe\">\n",
       "  <thead>\n",
       "    <tr style=\"text-align: right;\">\n",
       "      <th></th>\n",
       "      <th>Lead Number</th>\n",
       "      <th>Country</th>\n",
       "    </tr>\n",
       "  </thead>\n",
       "  <tbody>\n",
       "    <tr>\n",
       "      <th>2</th>\n",
       "      <td>660727</td>\n",
       "      <td>1.0</td>\n",
       "    </tr>\n",
       "    <tr>\n",
       "      <th>4</th>\n",
       "      <td>660681</td>\n",
       "      <td>1.0</td>\n",
       "    </tr>\n",
       "    <tr>\n",
       "      <th>6</th>\n",
       "      <td>660673</td>\n",
       "      <td>1.0</td>\n",
       "    </tr>\n",
       "    <tr>\n",
       "      <th>10</th>\n",
       "      <td>660608</td>\n",
       "      <td>1.0</td>\n",
       "    </tr>\n",
       "    <tr>\n",
       "      <th>11</th>\n",
       "      <td>660570</td>\n",
       "      <td>1.0</td>\n",
       "    </tr>\n",
       "    <tr>\n",
       "      <th>12</th>\n",
       "      <td>660562</td>\n",
       "      <td>1.0</td>\n",
       "    </tr>\n",
       "    <tr>\n",
       "      <th>15</th>\n",
       "      <td>660547</td>\n",
       "      <td>1.0</td>\n",
       "    </tr>\n",
       "    <tr>\n",
       "      <th>18</th>\n",
       "      <td>660522</td>\n",
       "      <td>1.0</td>\n",
       "    </tr>\n",
       "    <tr>\n",
       "      <th>22</th>\n",
       "      <td>660471</td>\n",
       "      <td>1.0</td>\n",
       "    </tr>\n",
       "    <tr>\n",
       "      <th>24</th>\n",
       "      <td>660458</td>\n",
       "      <td>1.0</td>\n",
       "    </tr>\n",
       "    <tr>\n",
       "      <th>25</th>\n",
       "      <td>660447</td>\n",
       "      <td>1.0</td>\n",
       "    </tr>\n",
       "    <tr>\n",
       "      <th>26</th>\n",
       "      <td>660432</td>\n",
       "      <td>1.0</td>\n",
       "    </tr>\n",
       "    <tr>\n",
       "      <th>27</th>\n",
       "      <td>660424</td>\n",
       "      <td>1.0</td>\n",
       "    </tr>\n",
       "    <tr>\n",
       "      <th>29</th>\n",
       "      <td>660410</td>\n",
       "      <td>1.0</td>\n",
       "    </tr>\n",
       "    <tr>\n",
       "      <th>30</th>\n",
       "      <td>660402</td>\n",
       "      <td>1.0</td>\n",
       "    </tr>\n",
       "    <tr>\n",
       "      <th>34</th>\n",
       "      <td>660333</td>\n",
       "      <td>1.0</td>\n",
       "    </tr>\n",
       "    <tr>\n",
       "      <th>35</th>\n",
       "      <td>660321</td>\n",
       "      <td>1.0</td>\n",
       "    </tr>\n",
       "    <tr>\n",
       "      <th>37</th>\n",
       "      <td>660267</td>\n",
       "      <td>1.0</td>\n",
       "    </tr>\n",
       "    <tr>\n",
       "      <th>39</th>\n",
       "      <td>660236</td>\n",
       "      <td>1.0</td>\n",
       "    </tr>\n",
       "    <tr>\n",
       "      <th>56</th>\n",
       "      <td>659998</td>\n",
       "      <td>1.0</td>\n",
       "    </tr>\n",
       "  </tbody>\n",
       "</table>\n",
       "</div>"
      ],
      "text/plain": [
       "    Lead Number  Country\n",
       "2        660727      1.0\n",
       "4        660681      1.0\n",
       "6        660673      1.0\n",
       "10       660608      1.0\n",
       "11       660570      1.0\n",
       "12       660562      1.0\n",
       "15       660547      1.0\n",
       "18       660522      1.0\n",
       "22       660471      1.0\n",
       "24       660458      1.0\n",
       "25       660447      1.0\n",
       "26       660432      1.0\n",
       "27       660424      1.0\n",
       "29       660410      1.0\n",
       "30       660402      1.0\n",
       "34       660333      1.0\n",
       "35       660321      1.0\n",
       "37       660267      1.0\n",
       "39       660236      1.0\n",
       "56       659998      1.0"
      ]
     },
     "execution_count": 42,
     "metadata": {},
     "output_type": "execute_result"
    }
   ],
   "source": [
    "df2.head(20)"
   ]
  },
  {
   "cell_type": "code",
   "execution_count": 43,
   "id": "4f7389f6",
   "metadata": {
    "execution": {
     "iopub.execute_input": "2023-05-31T16:34:00.389433Z",
     "iopub.status.busy": "2023-05-31T16:34:00.388928Z",
     "iopub.status.idle": "2023-05-31T16:34:00.399542Z",
     "shell.execute_reply": "2023-05-31T16:34:00.398220Z"
    },
    "papermill": {
     "duration": 0.044366,
     "end_time": "2023-05-31T16:34:00.402211",
     "exception": false,
     "start_time": "2023-05-31T16:34:00.357845",
     "status": "completed"
    },
    "tags": []
   },
   "outputs": [
    {
     "data": {
      "text/plain": [
       "Lead Number      int64\n",
       "Country        float64\n",
       "dtype: object"
      ]
     },
     "execution_count": 43,
     "metadata": {},
     "output_type": "execute_result"
    }
   ],
   "source": [
    "df2.dtypes"
   ]
  },
  {
   "cell_type": "code",
   "execution_count": 44,
   "id": "d5b41054",
   "metadata": {
    "execution": {
     "iopub.execute_input": "2023-05-31T16:34:00.462596Z",
     "iopub.status.busy": "2023-05-31T16:34:00.462079Z",
     "iopub.status.idle": "2023-05-31T16:34:00.468813Z",
     "shell.execute_reply": "2023-05-31T16:34:00.467443Z"
    },
    "papermill": {
     "duration": 0.039276,
     "end_time": "2023-05-31T16:34:00.471399",
     "exception": false,
     "start_time": "2023-05-31T16:34:00.432123",
     "status": "completed"
    },
    "tags": []
   },
   "outputs": [],
   "source": [
    "count = df2['Country'].value_counts() \n",
    "#counting sum of the leads for each country"
   ]
  },
  {
   "cell_type": "code",
   "execution_count": 45,
   "id": "c734c303",
   "metadata": {
    "execution": {
     "iopub.execute_input": "2023-05-31T16:34:00.530518Z",
     "iopub.status.busy": "2023-05-31T16:34:00.530051Z",
     "iopub.status.idle": "2023-05-31T16:34:00.538971Z",
     "shell.execute_reply": "2023-05-31T16:34:00.537458Z"
    },
    "papermill": {
     "duration": 0.041641,
     "end_time": "2023-05-31T16:34:00.541738",
     "exception": false,
     "start_time": "2023-05-31T16:34:00.500097",
     "status": "completed"
    },
    "tags": []
   },
   "outputs": [
    {
     "name": "stdout",
     "output_type": "stream",
     "text": [
      "1.0     2401\n",
      "6.0       20\n",
      "2.0       18\n",
      "4.0       11\n",
      "5.0        5\n",
      "3.0        4\n",
      "15.0       4\n",
      "8.0        4\n",
      "13.0       3\n",
      "19.0       3\n",
      "9.0        3\n",
      "11.0       1\n",
      "12.0       1\n",
      "14.0       1\n",
      "7.0        1\n",
      "16.0       1\n",
      "17.0       1\n",
      "18.0       1\n",
      "10.0       1\n",
      "Name: Country, dtype: int64\n"
     ]
    }
   ],
   "source": [
    "print(count)"
   ]
  },
  {
   "cell_type": "code",
   "execution_count": 46,
   "id": "1adb6003",
   "metadata": {
    "execution": {
     "iopub.execute_input": "2023-05-31T16:34:00.601123Z",
     "iopub.status.busy": "2023-05-31T16:34:00.600722Z",
     "iopub.status.idle": "2023-05-31T16:34:00.620073Z",
     "shell.execute_reply": "2023-05-31T16:34:00.618883Z"
    },
    "papermill": {
     "duration": 0.05283,
     "end_time": "2023-05-31T16:34:00.622798",
     "exception": false,
     "start_time": "2023-05-31T16:34:00.569968",
     "status": "completed"
    },
    "tags": []
   },
   "outputs": [],
   "source": [
    "# dropping the rows with countries outside our top 10\n",
    "df2 = df2.drop(df2[df2['Country'] == 9].index)\n",
    "df2 = df2.drop(df2[df2['Country'] == 11].index)\n",
    "df2 = df2.drop(df2[df2['Country'] == 12].index)\n",
    "df2 = df2.drop(df2[df2['Country'] == 14].index)\n",
    "df2 = df2.drop(df2[df2['Country'] == 7].index)\n",
    "df2 = df2.drop(df2[df2['Country'] == 16].index)\n",
    "df2 = df2.drop(df2[df2['Country'] == 17].index)\n",
    "df2 = df2.drop(df2[df2['Country'] == 18].index)\n",
    "df2 = df2.drop(df2[df2['Country'] == 10].index)"
   ]
  },
  {
   "cell_type": "code",
   "execution_count": 47,
   "id": "d2e39864",
   "metadata": {
    "execution": {
     "iopub.execute_input": "2023-05-31T16:34:00.681662Z",
     "iopub.status.busy": "2023-05-31T16:34:00.681265Z",
     "iopub.status.idle": "2023-05-31T16:34:00.688496Z",
     "shell.execute_reply": "2023-05-31T16:34:00.687301Z"
    },
    "papermill": {
     "duration": 0.039196,
     "end_time": "2023-05-31T16:34:00.690792",
     "exception": false,
     "start_time": "2023-05-31T16:34:00.651596",
     "status": "completed"
    },
    "tags": []
   },
   "outputs": [
    {
     "data": {
      "text/plain": [
       "(2473, 2)"
      ]
     },
     "execution_count": 47,
     "metadata": {},
     "output_type": "execute_result"
    }
   ],
   "source": [
    "df2.shape"
   ]
  },
  {
   "cell_type": "code",
   "execution_count": 48,
   "id": "0ac0bdd9",
   "metadata": {
    "execution": {
     "iopub.execute_input": "2023-05-31T16:34:00.749609Z",
     "iopub.status.busy": "2023-05-31T16:34:00.749138Z",
     "iopub.status.idle": "2023-05-31T16:34:00.755115Z",
     "shell.execute_reply": "2023-05-31T16:34:00.753928Z"
    },
    "papermill": {
     "duration": 0.038468,
     "end_time": "2023-05-31T16:34:00.757859",
     "exception": false,
     "start_time": "2023-05-31T16:34:00.719391",
     "status": "completed"
    },
    "tags": []
   },
   "outputs": [],
   "source": [
    "# changing numbers back to country names using reverse mapping\n",
    "reverse_mapping = {value: key for key, value in leads_country_dict.items()}"
   ]
  },
  {
   "cell_type": "code",
   "execution_count": 49,
   "id": "b696afda",
   "metadata": {
    "execution": {
     "iopub.execute_input": "2023-05-31T16:34:00.818254Z",
     "iopub.status.busy": "2023-05-31T16:34:00.817866Z",
     "iopub.status.idle": "2023-05-31T16:34:00.824795Z",
     "shell.execute_reply": "2023-05-31T16:34:00.823849Z"
    },
    "papermill": {
     "duration": 0.039454,
     "end_time": "2023-05-31T16:34:00.827026",
     "exception": false,
     "start_time": "2023-05-31T16:34:00.787572",
     "status": "completed"
    },
    "tags": []
   },
   "outputs": [],
   "source": [
    "#implementing the reverse mapping in df country column\n",
    "df2['Country'] = df2['Country'].map(reverse_mapping)"
   ]
  },
  {
   "cell_type": "code",
   "execution_count": 50,
   "id": "5f448170",
   "metadata": {
    "execution": {
     "iopub.execute_input": "2023-05-31T16:34:00.893880Z",
     "iopub.status.busy": "2023-05-31T16:34:00.893404Z",
     "iopub.status.idle": "2023-05-31T16:34:00.907142Z",
     "shell.execute_reply": "2023-05-31T16:34:00.906289Z"
    },
    "papermill": {
     "duration": 0.054579,
     "end_time": "2023-05-31T16:34:00.909915",
     "exception": false,
     "start_time": "2023-05-31T16:34:00.855336",
     "status": "completed"
    },
    "tags": []
   },
   "outputs": [
    {
     "data": {
      "text/html": [
       "<div>\n",
       "<style scoped>\n",
       "    .dataframe tbody tr th:only-of-type {\n",
       "        vertical-align: middle;\n",
       "    }\n",
       "\n",
       "    .dataframe tbody tr th {\n",
       "        vertical-align: top;\n",
       "    }\n",
       "\n",
       "    .dataframe thead th {\n",
       "        text-align: right;\n",
       "    }\n",
       "</style>\n",
       "<table border=\"1\" class=\"dataframe\">\n",
       "  <thead>\n",
       "    <tr style=\"text-align: right;\">\n",
       "      <th></th>\n",
       "      <th>Lead Number</th>\n",
       "      <th>Country</th>\n",
       "    </tr>\n",
       "  </thead>\n",
       "  <tbody>\n",
       "    <tr>\n",
       "      <th>2</th>\n",
       "      <td>660727</td>\n",
       "      <td>India</td>\n",
       "    </tr>\n",
       "    <tr>\n",
       "      <th>4</th>\n",
       "      <td>660681</td>\n",
       "      <td>India</td>\n",
       "    </tr>\n",
       "    <tr>\n",
       "      <th>6</th>\n",
       "      <td>660673</td>\n",
       "      <td>India</td>\n",
       "    </tr>\n",
       "    <tr>\n",
       "      <th>10</th>\n",
       "      <td>660608</td>\n",
       "      <td>India</td>\n",
       "    </tr>\n",
       "    <tr>\n",
       "      <th>11</th>\n",
       "      <td>660570</td>\n",
       "      <td>India</td>\n",
       "    </tr>\n",
       "    <tr>\n",
       "      <th>12</th>\n",
       "      <td>660562</td>\n",
       "      <td>India</td>\n",
       "    </tr>\n",
       "    <tr>\n",
       "      <th>15</th>\n",
       "      <td>660547</td>\n",
       "      <td>India</td>\n",
       "    </tr>\n",
       "    <tr>\n",
       "      <th>18</th>\n",
       "      <td>660522</td>\n",
       "      <td>India</td>\n",
       "    </tr>\n",
       "    <tr>\n",
       "      <th>22</th>\n",
       "      <td>660471</td>\n",
       "      <td>India</td>\n",
       "    </tr>\n",
       "    <tr>\n",
       "      <th>24</th>\n",
       "      <td>660458</td>\n",
       "      <td>India</td>\n",
       "    </tr>\n",
       "    <tr>\n",
       "      <th>25</th>\n",
       "      <td>660447</td>\n",
       "      <td>India</td>\n",
       "    </tr>\n",
       "    <tr>\n",
       "      <th>26</th>\n",
       "      <td>660432</td>\n",
       "      <td>India</td>\n",
       "    </tr>\n",
       "    <tr>\n",
       "      <th>27</th>\n",
       "      <td>660424</td>\n",
       "      <td>India</td>\n",
       "    </tr>\n",
       "    <tr>\n",
       "      <th>29</th>\n",
       "      <td>660410</td>\n",
       "      <td>India</td>\n",
       "    </tr>\n",
       "    <tr>\n",
       "      <th>30</th>\n",
       "      <td>660402</td>\n",
       "      <td>India</td>\n",
       "    </tr>\n",
       "    <tr>\n",
       "      <th>34</th>\n",
       "      <td>660333</td>\n",
       "      <td>India</td>\n",
       "    </tr>\n",
       "    <tr>\n",
       "      <th>35</th>\n",
       "      <td>660321</td>\n",
       "      <td>India</td>\n",
       "    </tr>\n",
       "    <tr>\n",
       "      <th>37</th>\n",
       "      <td>660267</td>\n",
       "      <td>India</td>\n",
       "    </tr>\n",
       "    <tr>\n",
       "      <th>39</th>\n",
       "      <td>660236</td>\n",
       "      <td>India</td>\n",
       "    </tr>\n",
       "    <tr>\n",
       "      <th>56</th>\n",
       "      <td>659998</td>\n",
       "      <td>India</td>\n",
       "    </tr>\n",
       "  </tbody>\n",
       "</table>\n",
       "</div>"
      ],
      "text/plain": [
       "    Lead Number Country\n",
       "2        660727   India\n",
       "4        660681   India\n",
       "6        660673   India\n",
       "10       660608   India\n",
       "11       660570   India\n",
       "12       660562   India\n",
       "15       660547   India\n",
       "18       660522   India\n",
       "22       660471   India\n",
       "24       660458   India\n",
       "25       660447   India\n",
       "26       660432   India\n",
       "27       660424   India\n",
       "29       660410   India\n",
       "30       660402   India\n",
       "34       660333   India\n",
       "35       660321   India\n",
       "37       660267   India\n",
       "39       660236   India\n",
       "56       659998   India"
      ]
     },
     "execution_count": 50,
     "metadata": {},
     "output_type": "execute_result"
    }
   ],
   "source": [
    "#checking if it worked, and it did!\n",
    "df2.head(20)"
   ]
  },
  {
   "cell_type": "code",
   "execution_count": 51,
   "id": "d7832c64",
   "metadata": {
    "execution": {
     "iopub.execute_input": "2023-05-31T16:34:00.975055Z",
     "iopub.status.busy": "2023-05-31T16:34:00.973615Z",
     "iopub.status.idle": "2023-05-31T16:34:00.984499Z",
     "shell.execute_reply": "2023-05-31T16:34:00.983273Z"
    },
    "papermill": {
     "duration": 0.044299,
     "end_time": "2023-05-31T16:34:00.987111",
     "exception": false,
     "start_time": "2023-05-31T16:34:00.942812",
     "status": "completed"
    },
    "tags": []
   },
   "outputs": [
    {
     "data": {
      "text/plain": [
       "Lead Number     int64\n",
       "Country        object\n",
       "dtype: object"
      ]
     },
     "execution_count": 51,
     "metadata": {},
     "output_type": "execute_result"
    }
   ],
   "source": [
    "df2.dtypes"
   ]
  },
  {
   "cell_type": "code",
   "execution_count": 52,
   "id": "e9898d34",
   "metadata": {
    "execution": {
     "iopub.execute_input": "2023-05-31T16:34:01.061532Z",
     "iopub.status.busy": "2023-05-31T16:34:01.060469Z",
     "iopub.status.idle": "2023-05-31T16:34:01.069622Z",
     "shell.execute_reply": "2023-05-31T16:34:01.068451Z"
    },
    "papermill": {
     "duration": 0.051088,
     "end_time": "2023-05-31T16:34:01.072301",
     "exception": false,
     "start_time": "2023-05-31T16:34:01.021213",
     "status": "completed"
    },
    "tags": []
   },
   "outputs": [
    {
     "data": {
      "text/plain": [
       "array(['India', 'United States', 'Bahrain', 'Singapore', 'United Kingdom',\n",
       "       'United Arab Emirates', 'Saudi Arabia', 'Oman', 'Hong Kong',\n",
       "       'Australia'], dtype=object)"
      ]
     },
     "execution_count": 52,
     "metadata": {},
     "output_type": "execute_result"
    }
   ],
   "source": [
    "df2['Country'].unique()"
   ]
  },
  {
   "cell_type": "code",
   "execution_count": 53,
   "id": "69c58cf1",
   "metadata": {
    "execution": {
     "iopub.execute_input": "2023-05-31T16:34:01.138398Z",
     "iopub.status.busy": "2023-05-31T16:34:01.137452Z",
     "iopub.status.idle": "2023-05-31T16:34:01.145092Z",
     "shell.execute_reply": "2023-05-31T16:34:01.143949Z"
    },
    "papermill": {
     "duration": 0.043518,
     "end_time": "2023-05-31T16:34:01.147476",
     "exception": false,
     "start_time": "2023-05-31T16:34:01.103958",
     "status": "completed"
    },
    "tags": []
   },
   "outputs": [
    {
     "data": {
      "text/plain": [
       "(2473, 2)"
      ]
     },
     "execution_count": 53,
     "metadata": {},
     "output_type": "execute_result"
    }
   ],
   "source": [
    "df2.shape"
   ]
  },
  {
   "cell_type": "markdown",
   "id": "1f178d28",
   "metadata": {
    "papermill": {
     "duration": 0.031506,
     "end_time": "2023-05-31T16:34:01.218519",
     "exception": false,
     "start_time": "2023-05-31T16:34:01.187013",
     "status": "completed"
    },
    "tags": []
   },
   "source": [
    "# Final Step\n",
    "Saving the dataframe as csv file to import to Tableau and proceed with Data Visualizations later"
   ]
  },
  {
   "cell_type": "code",
   "execution_count": 54,
   "id": "cad958c4",
   "metadata": {
    "execution": {
     "iopub.execute_input": "2023-05-31T16:34:01.287993Z",
     "iopub.status.busy": "2023-05-31T16:34:01.287425Z",
     "iopub.status.idle": "2023-05-31T16:34:01.308127Z",
     "shell.execute_reply": "2023-05-31T16:34:01.306865Z"
    },
    "papermill": {
     "duration": 0.06024,
     "end_time": "2023-05-31T16:34:01.311281",
     "exception": false,
     "start_time": "2023-05-31T16:34:01.251041",
     "status": "completed"
    },
    "tags": []
   },
   "outputs": [],
   "source": [
    "df2.to_csv('final_dataset.csv', index=False)"
   ]
  },
  {
   "cell_type": "markdown",
   "id": "5efed59b",
   "metadata": {
    "papermill": {
     "duration": 0.029725,
     "end_time": "2023-05-31T16:34:01.372937",
     "exception": false,
     "start_time": "2023-05-31T16:34:01.343212",
     "status": "completed"
    },
    "tags": []
   },
   "source": [
    "## BONUS: Let's check the percentage of converted vs overall leads from specific countries\n",
    "The goal is to determine, from which country the highest and lowest number of leads convert."
   ]
  },
  {
   "cell_type": "code",
   "execution_count": 55,
   "id": "26893cbd",
   "metadata": {
    "execution": {
     "iopub.execute_input": "2023-05-31T16:34:01.436080Z",
     "iopub.status.busy": "2023-05-31T16:34:01.435255Z",
     "iopub.status.idle": "2023-05-31T16:34:01.447861Z",
     "shell.execute_reply": "2023-05-31T16:34:01.446765Z"
    },
    "papermill": {
     "duration": 0.046538,
     "end_time": "2023-05-31T16:34:01.450184",
     "exception": false,
     "start_time": "2023-05-31T16:34:01.403646",
     "status": "completed"
    },
    "tags": []
   },
   "outputs": [
    {
     "data": {
      "text/html": [
       "<div>\n",
       "<style scoped>\n",
       "    .dataframe tbody tr th:only-of-type {\n",
       "        vertical-align: middle;\n",
       "    }\n",
       "\n",
       "    .dataframe tbody tr th {\n",
       "        vertical-align: top;\n",
       "    }\n",
       "\n",
       "    .dataframe thead th {\n",
       "        text-align: right;\n",
       "    }\n",
       "</style>\n",
       "<table border=\"1\" class=\"dataframe\">\n",
       "  <thead>\n",
       "    <tr style=\"text-align: right;\">\n",
       "      <th></th>\n",
       "      <th>Lead Number</th>\n",
       "      <th>Converted</th>\n",
       "      <th>Country</th>\n",
       "    </tr>\n",
       "  </thead>\n",
       "  <tbody>\n",
       "    <tr>\n",
       "      <th>1</th>\n",
       "      <td>660728</td>\n",
       "      <td>0</td>\n",
       "      <td>India</td>\n",
       "    </tr>\n",
       "    <tr>\n",
       "      <th>2</th>\n",
       "      <td>660727</td>\n",
       "      <td>1</td>\n",
       "      <td>India</td>\n",
       "    </tr>\n",
       "    <tr>\n",
       "      <th>3</th>\n",
       "      <td>660719</td>\n",
       "      <td>0</td>\n",
       "      <td>India</td>\n",
       "    </tr>\n",
       "    <tr>\n",
       "      <th>4</th>\n",
       "      <td>660681</td>\n",
       "      <td>1</td>\n",
       "      <td>India</td>\n",
       "    </tr>\n",
       "    <tr>\n",
       "      <th>6</th>\n",
       "      <td>660673</td>\n",
       "      <td>1</td>\n",
       "      <td>India</td>\n",
       "    </tr>\n",
       "    <tr>\n",
       "      <th>8</th>\n",
       "      <td>660624</td>\n",
       "      <td>0</td>\n",
       "      <td>India</td>\n",
       "    </tr>\n",
       "    <tr>\n",
       "      <th>9</th>\n",
       "      <td>660616</td>\n",
       "      <td>0</td>\n",
       "      <td>India</td>\n",
       "    </tr>\n",
       "    <tr>\n",
       "      <th>10</th>\n",
       "      <td>660608</td>\n",
       "      <td>1</td>\n",
       "      <td>India</td>\n",
       "    </tr>\n",
       "    <tr>\n",
       "      <th>11</th>\n",
       "      <td>660570</td>\n",
       "      <td>1</td>\n",
       "      <td>India</td>\n",
       "    </tr>\n",
       "    <tr>\n",
       "      <th>12</th>\n",
       "      <td>660562</td>\n",
       "      <td>1</td>\n",
       "      <td>India</td>\n",
       "    </tr>\n",
       "    <tr>\n",
       "      <th>13</th>\n",
       "      <td>660558</td>\n",
       "      <td>0</td>\n",
       "      <td>India</td>\n",
       "    </tr>\n",
       "    <tr>\n",
       "      <th>14</th>\n",
       "      <td>660553</td>\n",
       "      <td>0</td>\n",
       "      <td>Russia</td>\n",
       "    </tr>\n",
       "    <tr>\n",
       "      <th>15</th>\n",
       "      <td>660547</td>\n",
       "      <td>1</td>\n",
       "      <td>India</td>\n",
       "    </tr>\n",
       "    <tr>\n",
       "      <th>17</th>\n",
       "      <td>660534</td>\n",
       "      <td>0</td>\n",
       "      <td>India</td>\n",
       "    </tr>\n",
       "    <tr>\n",
       "      <th>18</th>\n",
       "      <td>660522</td>\n",
       "      <td>1</td>\n",
       "      <td>India</td>\n",
       "    </tr>\n",
       "    <tr>\n",
       "      <th>19</th>\n",
       "      <td>660509</td>\n",
       "      <td>0</td>\n",
       "      <td>India</td>\n",
       "    </tr>\n",
       "    <tr>\n",
       "      <th>20</th>\n",
       "      <td>660479</td>\n",
       "      <td>0</td>\n",
       "      <td>India</td>\n",
       "    </tr>\n",
       "    <tr>\n",
       "      <th>21</th>\n",
       "      <td>660478</td>\n",
       "      <td>0</td>\n",
       "      <td>India</td>\n",
       "    </tr>\n",
       "    <tr>\n",
       "      <th>22</th>\n",
       "      <td>660471</td>\n",
       "      <td>1</td>\n",
       "      <td>India</td>\n",
       "    </tr>\n",
       "    <tr>\n",
       "      <th>23</th>\n",
       "      <td>660461</td>\n",
       "      <td>0</td>\n",
       "      <td>India</td>\n",
       "    </tr>\n",
       "  </tbody>\n",
       "</table>\n",
       "</div>"
      ],
      "text/plain": [
       "    Lead Number  Converted Country\n",
       "1        660728          0   India\n",
       "2        660727          1   India\n",
       "3        660719          0   India\n",
       "4        660681          1   India\n",
       "6        660673          1   India\n",
       "8        660624          0   India\n",
       "9        660616          0   India\n",
       "10       660608          1   India\n",
       "11       660570          1   India\n",
       "12       660562          1   India\n",
       "13       660558          0   India\n",
       "14       660553          0  Russia\n",
       "15       660547          1   India\n",
       "17       660534          0   India\n",
       "18       660522          1   India\n",
       "19       660509          0   India\n",
       "20       660479          0   India\n",
       "21       660478          0   India\n",
       "22       660471          1   India\n",
       "23       660461          0   India"
      ]
     },
     "execution_count": 55,
     "metadata": {},
     "output_type": "execute_result"
    }
   ],
   "source": [
    "#initially cleaned previous version of our dataset, without deleting the not converted leads\n",
    "leads_country_cleaned.head(20) "
   ]
  },
  {
   "cell_type": "code",
   "execution_count": 56,
   "id": "44d43659",
   "metadata": {
    "execution": {
     "iopub.execute_input": "2023-05-31T16:34:01.513369Z",
     "iopub.status.busy": "2023-05-31T16:34:01.512959Z",
     "iopub.status.idle": "2023-05-31T16:34:01.520934Z",
     "shell.execute_reply": "2023-05-31T16:34:01.519805Z"
    },
    "papermill": {
     "duration": 0.04155,
     "end_time": "2023-05-31T16:34:01.523629",
     "exception": false,
     "start_time": "2023-05-31T16:34:01.482079",
     "status": "completed"
    },
    "tags": []
   },
   "outputs": [
    {
     "data": {
      "text/plain": [
       "array(['India', 'Russia', 'Kuwait', 'Oman', 'United Arab Emirates',\n",
       "       'United States', 'Australia', 'United Kingdom', 'Bahrain', 'Ghana',\n",
       "       'Singapore', 'Qatar', 'Saudi Arabia', 'Belgium', 'France',\n",
       "       'Sri Lanka', 'China', 'Canada', 'Netherlands', 'Sweden', 'Nigeria',\n",
       "       'Hong Kong', 'Germany', 'Asia/Pacific Region', 'Uganda', 'Kenya',\n",
       "       'Italy', 'South Africa', 'Tanzania', 'unknown', 'Malaysia',\n",
       "       'Liberia', 'Switzerland', 'Denmark', 'Philippines', 'Bangladesh',\n",
       "       'Vietnam', 'Indonesia'], dtype=object)"
      ]
     },
     "execution_count": 56,
     "metadata": {},
     "output_type": "execute_result"
    }
   ],
   "source": [
    "#checking unique values in country column from df with both converted and not converted leads\n",
    "leads_country_cleaned['Country'].unique() "
   ]
  },
  {
   "cell_type": "code",
   "execution_count": 57,
   "id": "3fb256f8",
   "metadata": {
    "execution": {
     "iopub.execute_input": "2023-05-31T16:34:01.585703Z",
     "iopub.status.busy": "2023-05-31T16:34:01.585270Z",
     "iopub.status.idle": "2023-05-31T16:34:01.592675Z",
     "shell.execute_reply": "2023-05-31T16:34:01.591746Z"
    },
    "papermill": {
     "duration": 0.040938,
     "end_time": "2023-05-31T16:34:01.594890",
     "exception": false,
     "start_time": "2023-05-31T16:34:01.553952",
     "status": "completed"
    },
    "tags": []
   },
   "outputs": [
    {
     "data": {
      "text/plain": [
       "array(['India', 'United States', 'Bahrain', 'Singapore', 'United Kingdom',\n",
       "       'United Arab Emirates', 'Saudi Arabia', 'Oman', 'Hong Kong',\n",
       "       'Australia'], dtype=object)"
      ]
     },
     "execution_count": 57,
     "metadata": {},
     "output_type": "execute_result"
    }
   ],
   "source": [
    "df2['Country'].unique()"
   ]
  },
  {
   "cell_type": "code",
   "execution_count": 58,
   "id": "e5f3e67b",
   "metadata": {
    "execution": {
     "iopub.execute_input": "2023-05-31T16:34:01.658170Z",
     "iopub.status.busy": "2023-05-31T16:34:01.657437Z",
     "iopub.status.idle": "2023-05-31T16:34:01.663367Z",
     "shell.execute_reply": "2023-05-31T16:34:01.662209Z"
    },
    "papermill": {
     "duration": 0.040436,
     "end_time": "2023-05-31T16:34:01.665741",
     "exception": false,
     "start_time": "2023-05-31T16:34:01.625305",
     "status": "completed"
    },
    "tags": []
   },
   "outputs": [],
   "source": [
    "#creating a variable based on array with unique country values from df2 \n",
    "# (top 10 countries based on number of leads)\n",
    "top_10_countries = df2['Country'].unique() "
   ]
  },
  {
   "cell_type": "code",
   "execution_count": 59,
   "id": "4318e8cf",
   "metadata": {
    "execution": {
     "iopub.execute_input": "2023-05-31T16:34:01.729888Z",
     "iopub.status.busy": "2023-05-31T16:34:01.728422Z",
     "iopub.status.idle": "2023-05-31T16:34:01.737283Z",
     "shell.execute_reply": "2023-05-31T16:34:01.736071Z"
    },
    "papermill": {
     "duration": 0.043233,
     "end_time": "2023-05-31T16:34:01.739911",
     "exception": false,
     "start_time": "2023-05-31T16:34:01.696678",
     "status": "completed"
    },
    "tags": []
   },
   "outputs": [],
   "source": [
    "#creating new df with both converted and not converted leads from top 10 countries\n",
    "top_10_df = leads_country_cleaned[leads_country_cleaned['Country'].isin(top_10_countries)]\n"
   ]
  },
  {
   "cell_type": "code",
   "execution_count": 60,
   "id": "246bfe07",
   "metadata": {
    "execution": {
     "iopub.execute_input": "2023-05-31T16:34:01.802715Z",
     "iopub.status.busy": "2023-05-31T16:34:01.801509Z",
     "iopub.status.idle": "2023-05-31T16:34:01.818568Z",
     "shell.execute_reply": "2023-05-31T16:34:01.817252Z"
    },
    "papermill": {
     "duration": 0.051095,
     "end_time": "2023-05-31T16:34:01.821011",
     "exception": false,
     "start_time": "2023-05-31T16:34:01.769916",
     "status": "completed"
    },
    "tags": []
   },
   "outputs": [
    {
     "data": {
      "text/html": [
       "<div>\n",
       "<style scoped>\n",
       "    .dataframe tbody tr th:only-of-type {\n",
       "        vertical-align: middle;\n",
       "    }\n",
       "\n",
       "    .dataframe tbody tr th {\n",
       "        vertical-align: top;\n",
       "    }\n",
       "\n",
       "    .dataframe thead th {\n",
       "        text-align: right;\n",
       "    }\n",
       "</style>\n",
       "<table border=\"1\" class=\"dataframe\">\n",
       "  <thead>\n",
       "    <tr style=\"text-align: right;\">\n",
       "      <th></th>\n",
       "      <th>Lead Number</th>\n",
       "      <th>Converted</th>\n",
       "      <th>Country</th>\n",
       "    </tr>\n",
       "  </thead>\n",
       "  <tbody>\n",
       "    <tr>\n",
       "      <th>1</th>\n",
       "      <td>660728</td>\n",
       "      <td>0</td>\n",
       "      <td>India</td>\n",
       "    </tr>\n",
       "    <tr>\n",
       "      <th>2</th>\n",
       "      <td>660727</td>\n",
       "      <td>1</td>\n",
       "      <td>India</td>\n",
       "    </tr>\n",
       "    <tr>\n",
       "      <th>3</th>\n",
       "      <td>660719</td>\n",
       "      <td>0</td>\n",
       "      <td>India</td>\n",
       "    </tr>\n",
       "    <tr>\n",
       "      <th>4</th>\n",
       "      <td>660681</td>\n",
       "      <td>1</td>\n",
       "      <td>India</td>\n",
       "    </tr>\n",
       "    <tr>\n",
       "      <th>6</th>\n",
       "      <td>660673</td>\n",
       "      <td>1</td>\n",
       "      <td>India</td>\n",
       "    </tr>\n",
       "    <tr>\n",
       "      <th>8</th>\n",
       "      <td>660624</td>\n",
       "      <td>0</td>\n",
       "      <td>India</td>\n",
       "    </tr>\n",
       "    <tr>\n",
       "      <th>9</th>\n",
       "      <td>660616</td>\n",
       "      <td>0</td>\n",
       "      <td>India</td>\n",
       "    </tr>\n",
       "    <tr>\n",
       "      <th>10</th>\n",
       "      <td>660608</td>\n",
       "      <td>1</td>\n",
       "      <td>India</td>\n",
       "    </tr>\n",
       "    <tr>\n",
       "      <th>11</th>\n",
       "      <td>660570</td>\n",
       "      <td>1</td>\n",
       "      <td>India</td>\n",
       "    </tr>\n",
       "    <tr>\n",
       "      <th>12</th>\n",
       "      <td>660562</td>\n",
       "      <td>1</td>\n",
       "      <td>India</td>\n",
       "    </tr>\n",
       "    <tr>\n",
       "      <th>13</th>\n",
       "      <td>660558</td>\n",
       "      <td>0</td>\n",
       "      <td>India</td>\n",
       "    </tr>\n",
       "    <tr>\n",
       "      <th>15</th>\n",
       "      <td>660547</td>\n",
       "      <td>1</td>\n",
       "      <td>India</td>\n",
       "    </tr>\n",
       "    <tr>\n",
       "      <th>17</th>\n",
       "      <td>660534</td>\n",
       "      <td>0</td>\n",
       "      <td>India</td>\n",
       "    </tr>\n",
       "    <tr>\n",
       "      <th>18</th>\n",
       "      <td>660522</td>\n",
       "      <td>1</td>\n",
       "      <td>India</td>\n",
       "    </tr>\n",
       "    <tr>\n",
       "      <th>19</th>\n",
       "      <td>660509</td>\n",
       "      <td>0</td>\n",
       "      <td>India</td>\n",
       "    </tr>\n",
       "    <tr>\n",
       "      <th>20</th>\n",
       "      <td>660479</td>\n",
       "      <td>0</td>\n",
       "      <td>India</td>\n",
       "    </tr>\n",
       "    <tr>\n",
       "      <th>21</th>\n",
       "      <td>660478</td>\n",
       "      <td>0</td>\n",
       "      <td>India</td>\n",
       "    </tr>\n",
       "    <tr>\n",
       "      <th>22</th>\n",
       "      <td>660471</td>\n",
       "      <td>1</td>\n",
       "      <td>India</td>\n",
       "    </tr>\n",
       "    <tr>\n",
       "      <th>23</th>\n",
       "      <td>660461</td>\n",
       "      <td>0</td>\n",
       "      <td>India</td>\n",
       "    </tr>\n",
       "    <tr>\n",
       "      <th>24</th>\n",
       "      <td>660458</td>\n",
       "      <td>1</td>\n",
       "      <td>India</td>\n",
       "    </tr>\n",
       "  </tbody>\n",
       "</table>\n",
       "</div>"
      ],
      "text/plain": [
       "    Lead Number  Converted Country\n",
       "1        660728          0   India\n",
       "2        660727          1   India\n",
       "3        660719          0   India\n",
       "4        660681          1   India\n",
       "6        660673          1   India\n",
       "8        660624          0   India\n",
       "9        660616          0   India\n",
       "10       660608          1   India\n",
       "11       660570          1   India\n",
       "12       660562          1   India\n",
       "13       660558          0   India\n",
       "15       660547          1   India\n",
       "17       660534          0   India\n",
       "18       660522          1   India\n",
       "19       660509          0   India\n",
       "20       660479          0   India\n",
       "21       660478          0   India\n",
       "22       660471          1   India\n",
       "23       660461          0   India\n",
       "24       660458          1   India"
      ]
     },
     "execution_count": 60,
     "metadata": {},
     "output_type": "execute_result"
    }
   ],
   "source": [
    "top_10_df.head(20)"
   ]
  },
  {
   "cell_type": "code",
   "execution_count": 61,
   "id": "17c0f826",
   "metadata": {
    "execution": {
     "iopub.execute_input": "2023-05-31T16:34:01.888525Z",
     "iopub.status.busy": "2023-05-31T16:34:01.886907Z",
     "iopub.status.idle": "2023-05-31T16:34:01.895888Z",
     "shell.execute_reply": "2023-05-31T16:34:01.894491Z"
    },
    "papermill": {
     "duration": 0.046883,
     "end_time": "2023-05-31T16:34:01.898758",
     "exception": false,
     "start_time": "2023-05-31T16:34:01.851875",
     "status": "completed"
    },
    "tags": []
   },
   "outputs": [
    {
     "data": {
      "text/plain": [
       "(6707, 3)"
      ]
     },
     "execution_count": 61,
     "metadata": {},
     "output_type": "execute_result"
    }
   ],
   "source": [
    "#checking the new df size - bigger than those with only converted leads, so we suceeded yay!\n",
    "top_10_df.shape "
   ]
  },
  {
   "cell_type": "code",
   "execution_count": 62,
   "id": "0e95e922",
   "metadata": {
    "execution": {
     "iopub.execute_input": "2023-05-31T16:34:01.966637Z",
     "iopub.status.busy": "2023-05-31T16:34:01.965971Z",
     "iopub.status.idle": "2023-05-31T16:34:01.976917Z",
     "shell.execute_reply": "2023-05-31T16:34:01.976158Z"
    },
    "papermill": {
     "duration": 0.047389,
     "end_time": "2023-05-31T16:34:01.979212",
     "exception": false,
     "start_time": "2023-05-31T16:34:01.931823",
     "status": "completed"
    },
    "tags": []
   },
   "outputs": [
    {
     "data": {
      "text/html": [
       "<div>\n",
       "<style scoped>\n",
       "    .dataframe tbody tr th:only-of-type {\n",
       "        vertical-align: middle;\n",
       "    }\n",
       "\n",
       "    .dataframe tbody tr th {\n",
       "        vertical-align: top;\n",
       "    }\n",
       "\n",
       "    .dataframe thead th {\n",
       "        text-align: right;\n",
       "    }\n",
       "</style>\n",
       "<table border=\"1\" class=\"dataframe\">\n",
       "  <thead>\n",
       "    <tr style=\"text-align: right;\">\n",
       "      <th></th>\n",
       "      <th>Lead Number</th>\n",
       "      <th>Converted</th>\n",
       "      <th>Country</th>\n",
       "    </tr>\n",
       "  </thead>\n",
       "  <tbody>\n",
       "    <tr>\n",
       "      <th>1</th>\n",
       "      <td>660728</td>\n",
       "      <td>0</td>\n",
       "      <td>India</td>\n",
       "    </tr>\n",
       "    <tr>\n",
       "      <th>2</th>\n",
       "      <td>660727</td>\n",
       "      <td>1</td>\n",
       "      <td>India</td>\n",
       "    </tr>\n",
       "    <tr>\n",
       "      <th>3</th>\n",
       "      <td>660719</td>\n",
       "      <td>0</td>\n",
       "      <td>India</td>\n",
       "    </tr>\n",
       "    <tr>\n",
       "      <th>4</th>\n",
       "      <td>660681</td>\n",
       "      <td>1</td>\n",
       "      <td>India</td>\n",
       "    </tr>\n",
       "    <tr>\n",
       "      <th>6</th>\n",
       "      <td>660673</td>\n",
       "      <td>1</td>\n",
       "      <td>India</td>\n",
       "    </tr>\n",
       "    <tr>\n",
       "      <th>8</th>\n",
       "      <td>660624</td>\n",
       "      <td>0</td>\n",
       "      <td>India</td>\n",
       "    </tr>\n",
       "    <tr>\n",
       "      <th>9</th>\n",
       "      <td>660616</td>\n",
       "      <td>0</td>\n",
       "      <td>India</td>\n",
       "    </tr>\n",
       "    <tr>\n",
       "      <th>10</th>\n",
       "      <td>660608</td>\n",
       "      <td>1</td>\n",
       "      <td>India</td>\n",
       "    </tr>\n",
       "    <tr>\n",
       "      <th>11</th>\n",
       "      <td>660570</td>\n",
       "      <td>1</td>\n",
       "      <td>India</td>\n",
       "    </tr>\n",
       "    <tr>\n",
       "      <th>12</th>\n",
       "      <td>660562</td>\n",
       "      <td>1</td>\n",
       "      <td>India</td>\n",
       "    </tr>\n",
       "    <tr>\n",
       "      <th>13</th>\n",
       "      <td>660558</td>\n",
       "      <td>0</td>\n",
       "      <td>India</td>\n",
       "    </tr>\n",
       "    <tr>\n",
       "      <th>15</th>\n",
       "      <td>660547</td>\n",
       "      <td>1</td>\n",
       "      <td>India</td>\n",
       "    </tr>\n",
       "    <tr>\n",
       "      <th>17</th>\n",
       "      <td>660534</td>\n",
       "      <td>0</td>\n",
       "      <td>India</td>\n",
       "    </tr>\n",
       "    <tr>\n",
       "      <th>18</th>\n",
       "      <td>660522</td>\n",
       "      <td>1</td>\n",
       "      <td>India</td>\n",
       "    </tr>\n",
       "    <tr>\n",
       "      <th>19</th>\n",
       "      <td>660509</td>\n",
       "      <td>0</td>\n",
       "      <td>India</td>\n",
       "    </tr>\n",
       "    <tr>\n",
       "      <th>20</th>\n",
       "      <td>660479</td>\n",
       "      <td>0</td>\n",
       "      <td>India</td>\n",
       "    </tr>\n",
       "    <tr>\n",
       "      <th>21</th>\n",
       "      <td>660478</td>\n",
       "      <td>0</td>\n",
       "      <td>India</td>\n",
       "    </tr>\n",
       "    <tr>\n",
       "      <th>22</th>\n",
       "      <td>660471</td>\n",
       "      <td>1</td>\n",
       "      <td>India</td>\n",
       "    </tr>\n",
       "    <tr>\n",
       "      <th>23</th>\n",
       "      <td>660461</td>\n",
       "      <td>0</td>\n",
       "      <td>India</td>\n",
       "    </tr>\n",
       "    <tr>\n",
       "      <th>24</th>\n",
       "      <td>660458</td>\n",
       "      <td>1</td>\n",
       "      <td>India</td>\n",
       "    </tr>\n",
       "  </tbody>\n",
       "</table>\n",
       "</div>"
      ],
      "text/plain": [
       "    Lead Number  Converted Country\n",
       "1        660728          0   India\n",
       "2        660727          1   India\n",
       "3        660719          0   India\n",
       "4        660681          1   India\n",
       "6        660673          1   India\n",
       "8        660624          0   India\n",
       "9        660616          0   India\n",
       "10       660608          1   India\n",
       "11       660570          1   India\n",
       "12       660562          1   India\n",
       "13       660558          0   India\n",
       "15       660547          1   India\n",
       "17       660534          0   India\n",
       "18       660522          1   India\n",
       "19       660509          0   India\n",
       "20       660479          0   India\n",
       "21       660478          0   India\n",
       "22       660471          1   India\n",
       "23       660461          0   India\n",
       "24       660458          1   India"
      ]
     },
     "execution_count": 62,
     "metadata": {},
     "output_type": "execute_result"
    }
   ],
   "source": [
    "top_10_df.head(20)"
   ]
  },
  {
   "cell_type": "markdown",
   "id": "891e8cf1",
   "metadata": {
    "papermill": {
     "duration": 0.031304,
     "end_time": "2023-05-31T16:34:02.043241",
     "exception": false,
     "start_time": "2023-05-31T16:34:02.011937",
     "status": "completed"
    },
    "tags": []
   },
   "source": [
    "# Final Step\n",
    "Saving the dataframe as csv file to import to Tableau and proceed with Data Visualizations later"
   ]
  },
  {
   "cell_type": "code",
   "execution_count": 63,
   "id": "ed02b47c",
   "metadata": {
    "execution": {
     "iopub.execute_input": "2023-05-31T16:34:02.111596Z",
     "iopub.status.busy": "2023-05-31T16:34:02.111169Z",
     "iopub.status.idle": "2023-05-31T16:34:02.136651Z",
     "shell.execute_reply": "2023-05-31T16:34:02.135481Z"
    },
    "papermill": {
     "duration": 0.063487,
     "end_time": "2023-05-31T16:34:02.139815",
     "exception": false,
     "start_time": "2023-05-31T16:34:02.076328",
     "status": "completed"
    },
    "tags": []
   },
   "outputs": [],
   "source": [
    "top_10_df.to_csv('top_10_countries_converted_and_not.csv', index=False) "
   ]
  },
  {
   "cell_type": "markdown",
   "id": "35494ad1",
   "metadata": {
    "papermill": {
     "duration": 0.032102,
     "end_time": "2023-05-31T16:34:02.204213",
     "exception": false,
     "start_time": "2023-05-31T16:34:02.172111",
     "status": "completed"
    },
    "tags": []
   },
   "source": [
    "# Data Visualizations\n",
    "\n",
    "To practise my Data Visualizations skills for my future Data Analyst role, I've prepared some Visualizations based on this cleaned and proceesed dataset. [You can check out those Visualizations here.](https://public.tableau.com/views/X_Education_CASE1_Visualizations/X_Education_CASE1_Visualizations?:language=en-GB&:display_count=n&:origin=viz_share_link)"
   ]
  },
  {
   "cell_type": "markdown",
   "id": "d6f5d5fb",
   "metadata": {
    "papermill": {
     "duration": 0.032216,
     "end_time": "2023-05-31T16:34:02.268282",
     "exception": false,
     "start_time": "2023-05-31T16:34:02.236066",
     "status": "completed"
    },
    "tags": []
   },
   "source": [
    "## Coming up, answering the questions:\n",
    "1. How does the lead quality looks like in comparison to the lead Occupation and Specialization?\n",
    "2. How does the online marketing engagement (Total Visits, Total Time Spent, Page Views Per Visit, Lead Origin) influence the probability of the lead conversion?"
   ]
  }
 ],
 "metadata": {
  "kernelspec": {
   "display_name": "Python 3",
   "language": "python",
   "name": "python3"
  },
  "language_info": {
   "codemirror_mode": {
    "name": "ipython",
    "version": 3
   },
   "file_extension": ".py",
   "mimetype": "text/x-python",
   "name": "python",
   "nbconvert_exporter": "python",
   "pygments_lexer": "ipython3",
   "version": "3.10.10"
  },
  "papermill": {
   "default_parameters": {},
   "duration": 19.268001,
   "end_time": "2023-05-31T16:34:03.123832",
   "environment_variables": {},
   "exception": null,
   "input_path": "__notebook__.ipynb",
   "output_path": "__notebook__.ipynb",
   "parameters": {},
   "start_time": "2023-05-31T16:33:43.855831",
   "version": "2.4.0"
  }
 },
 "nbformat": 4,
 "nbformat_minor": 5
}
